{
 "cells": [
  {
   "cell_type": "markdown",
   "metadata": {},
   "source": [
    "# Text classification with Pytorch"
   ]
  },
  {
   "cell_type": "markdown",
   "metadata": {},
   "source": [
    "The goal of this TP is double: an introduction to using Pytorch for treating textual data, and implementing neural classification models that we can apply to IMDB data - and then compare to models implemented in the previous TPs. "
   ]
  },
  {
   "cell_type": "code",
   "execution_count": 222,
   "metadata": {},
   "outputs": [],
   "source": [
    "import torch\n",
    "import torch.nn as nn\n",
    "\n",
    "import pandas as pd\n",
    "from matplotlib import pyplot as plt"
   ]
  },
  {
   "cell_type": "markdown",
   "metadata": {},
   "source": [
    "### A (very small) introduction to pytorch"
   ]
  },
  {
   "cell_type": "markdown",
   "metadata": {},
   "source": [
    "Pytorch Tensors are very similar to Numpy arrays, with the added benefit of being usable on GPU. For a short tutorial on various methods to create tensors of particular types, see [this link](https://pytorch.org/tutorials/beginner/blitz/tensor_tutorial.html#sphx-glr-beginner-blitz-tensor-tutorial-py).\n",
    "The important things to note are that Tensors can be created empty, from lists, and it is very easy to convert a numpy array into a pytorch tensor, and inversely."
   ]
  },
  {
   "cell_type": "code",
   "execution_count": 163,
   "metadata": {},
   "outputs": [
    {
     "output_type": "stream",
     "name": "stdout",
     "text": [
      "tensor([221097632, 221601056,        80,        81, 121530800])\ntensor([5])\n"
     ]
    }
   ],
   "source": [
    "a = torch.LongTensor(5)\n",
    "b = torch.LongTensor([5])\n",
    "\n",
    "print(a)\n",
    "print(b)"
   ]
  },
  {
   "cell_type": "code",
   "execution_count": 164,
   "metadata": {},
   "outputs": [
    {
     "output_type": "stream",
     "name": "stdout",
     "text": [
      "tensor([5.])\n"
     ]
    }
   ],
   "source": [
    "a = torch.FloatTensor([2])\n",
    "b = torch.FloatTensor([3])\n",
    "\n",
    "print(a + b)"
   ]
  },
  {
   "cell_type": "markdown",
   "metadata": {},
   "source": [
    "The main interest in us using Pytorch is the ```autograd``` package. ```torch.Tensor```objects have an attribute ```.requires_grad```; if set as True, it starts to track all operations on it. When you finish your computation, can call ```.backward()``` and all the gradients are computed automatically (and stored in the ```.grad``` attribute).\n",
    "\n",
    "One way to easily cut a tensor from the computational once it is not needed anymore is to use ```.detach()```.\n",
    "More info on automatic differentiation in pytorch on [this link](https://pytorch.org/tutorials/beginner/blitz/autograd_tutorial.html#sphx-glr-beginner-blitz-autograd-tutorial-py)."
   ]
  },
  {
   "cell_type": "code",
   "execution_count": 165,
   "metadata": {},
   "outputs": [
    {
     "output_type": "stream",
     "name": "stdout",
     "text": [
      "tensor(2.)\ntensor(1.)\ntensor(1.)\n"
     ]
    }
   ],
   "source": [
    "x = torch.tensor(1., requires_grad=True)\n",
    "w = torch.tensor(2., requires_grad=True)\n",
    "b = torch.tensor(3., requires_grad=True)\n",
    "\n",
    "# Build a computational graph.\n",
    "y = w * x + b    # y = 2 * x + 3\n",
    "\n",
    "# Compute gradients.\n",
    "y.backward()\n",
    "\n",
    "# Print out the gradients.\n",
    "print(x.grad)    # x.grad = 2 \n",
    "print(w.grad)    # w.grad = 1 \n",
    "print(b.grad)    # b.grad = 1 "
   ]
  },
  {
   "cell_type": "code",
   "execution_count": 166,
   "metadata": {},
   "outputs": [
    {
     "output_type": "stream",
     "name": "stdout",
     "text": [
      "weight\n",
      "Parameter containing:\n",
      "tensor([[-0.5107, -0.5411,  0.1857],\n",
      "        [-0.3153, -0.5611, -0.4583]], requires_grad=True)\n",
      "bias\n",
      "Parameter containing:\n",
      "tensor([-0.0663,  0.4816], requires_grad=True)\n",
      "Initial loss:  1.4064120054244995\n",
      "dL/dw:  tensor([[-0.2487, -0.6017, -0.0455],\n",
      "        [-0.0229, -0.4029, -0.2049]])\n",
      "dL/db:  tensor([-0.0273,  0.4693])\n"
     ]
    }
   ],
   "source": [
    "x = torch.randn(10, 3)\n",
    "y = torch.randn(10, 2)\n",
    "\n",
    "# Build a fully connected layer.\n",
    "linear = nn.Linear(3, 2)\n",
    "for name, p in linear.named_parameters():\n",
    "    print(name)\n",
    "    print(p)\n",
    "\n",
    "# Build loss function - Mean Square Error\n",
    "criterion = nn.MSELoss()\n",
    "\n",
    "# Forward pass.\n",
    "pred = linear(x)\n",
    "\n",
    "# Compute loss.\n",
    "loss = criterion(pred, y)\n",
    "print('Initial loss: ', loss.item())\n",
    "\n",
    "# Backward pass.\n",
    "loss.backward()\n",
    "\n",
    "# Print out the gradients.\n",
    "print ('dL/dw: ', linear.weight.grad) \n",
    "print ('dL/db: ', linear.bias.grad)"
   ]
  },
  {
   "cell_type": "code",
   "execution_count": 167,
   "metadata": {},
   "outputs": [
    {
     "output_type": "stream",
     "name": "stdout",
     "text": [
      "Loss after one update:  1.3979332447052002\n"
     ]
    }
   ],
   "source": [
    "# You can perform gradient descent manually, with an in-place update ...\n",
    "linear.weight.data.sub_(0.01 * linear.weight.grad.data)\n",
    "linear.bias.data.sub_(0.01 * linear.bias.grad.data)\n",
    "\n",
    "# Print out the loss after 1-step gradient descent.\n",
    "pred = linear(x)\n",
    "loss = criterion(pred, y)\n",
    "print('Loss after one update: ', loss.item())"
   ]
  },
  {
   "cell_type": "code",
   "execution_count": 168,
   "metadata": {},
   "outputs": [
    {
     "output_type": "stream",
     "name": "stdout",
     "text": [
      "Loss after two updates:  1.3896079063415527\n"
     ]
    }
   ],
   "source": [
    "# Use the optim package to define an Optimizer that will update the weights of the model.\n",
    "optimizer = torch.optim.SGD(linear.parameters(), lr=0.01)\n",
    "\n",
    "# By default, gradients are accumulated in buffers( i.e, not overwritten) whenever .backward()\n",
    "# is called. Before the backward pass, we need to use the optimizer object to zero all of the\n",
    "# gradients.\n",
    "optimizer.zero_grad()\n",
    "loss.backward()\n",
    "\n",
    "# Calling the step function on an Optimizer makes an update to its parameters\n",
    "optimizer.step()\n",
    "\n",
    "# Print out the loss after the second step of gradient descent.\n",
    "pred = linear(x)\n",
    "loss = criterion(pred, y)\n",
    "print('Loss after two updates: ', loss.item())"
   ]
  },
  {
   "cell_type": "markdown",
   "metadata": {},
   "source": [
    "### Tools for data processing "
   ]
  },
  {
   "cell_type": "markdown",
   "metadata": {},
   "source": [
    "```torch.utils.data.Dataset``` is an abstract class representing a dataset. Your custom dataset should inherit ```Dataset``` and override the following methods:\n",
    "- ```__len__``` so that ```len(dataset)``` returns the size of the dataset.\n",
    "- ```__getitem__``` to support the indexing such that ```dataset[i]``` can be used to get the i-th sample\n",
    "\n",
    "Here is a toy example: "
   ]
  },
  {
   "cell_type": "code",
   "execution_count": 169,
   "metadata": {},
   "outputs": [],
   "source": [
    "toy_corpus = ['I walked down down the boulevard',\n",
    "              'I walked down the avenue',\n",
    "              'I ran down the boulevard',\n",
    "              'I walk down the city',\n",
    "              'I walk down the the avenue']\n",
    "\n",
    "toy_categories = [0, 0, 1, 0, 0]"
   ]
  },
  {
   "cell_type": "code",
   "execution_count": 170,
   "metadata": {},
   "outputs": [],
   "source": [
    "from torch.utils.data import Dataset, DataLoader\n",
    "\n",
    "class CustomDataset(Dataset):\n",
    "    # A pytorch dataset class for holding data for a text classification task.\n",
    "    def __init__(self, data, categories):\n",
    "        # Upon creating the Dataset object, store the data in an attribute\n",
    "        # Split the text data and labels from each other\n",
    "        self.X, self.Y = [], []\n",
    "        for x, y in zip(data, categories):\n",
    "            # We will propably need to preprocess the data - have it done in a separate method\n",
    "            # We do it here because we might need corpus-wide info to do the preprocessing \n",
    "            # For example, cutting all examples to the same length\n",
    "            self.X.append(self.preprocess(x))\n",
    "            self.Y.append(y)\n",
    "                \n",
    "    # Method allowing you to preprocess data                      \n",
    "    def preprocess(self, text):\n",
    "        text_pp = text.lower().strip()\n",
    "        return text_pp\n",
    "    \n",
    "    # Overriding the method __len__ so that len(CustomDatasetName) returns the number of data samples                     \n",
    "    def __len__(self):\n",
    "        return len(self.Y)\n",
    "   \n",
    "    # Overriding the method __getitem__ so that CustomDatasetName[i] returns the i-th sample of the dataset                      \n",
    "    def __getitem__(self, idx):\n",
    "           return self.X[idx], self.Y[idx]"
   ]
  },
  {
   "cell_type": "code",
   "execution_count": 171,
   "metadata": {},
   "outputs": [],
   "source": [
    "toy_dataset = CustomDataset(toy_corpus, toy_categories)"
   ]
  },
  {
   "cell_type": "code",
   "execution_count": 172,
   "metadata": {},
   "outputs": [
    {
     "output_type": "stream",
     "name": "stdout",
     "text": [
      "5\n('i walked down down the boulevard', 0)\n('i walked down the avenue', 0)\n('i ran down the boulevard', 1)\n('i walk down the city', 0)\n('i walk down the the avenue', 0)\n"
     ]
    }
   ],
   "source": [
    "print(len(toy_dataset))\n",
    "for i in range(len(toy_dataset)):\n",
    "    print(toy_dataset[i])"
   ]
  },
  {
   "cell_type": "markdown",
   "metadata": {},
   "source": [
    "```torch.utils.data.DataLoader``` is what we call an iterator, which provides very useful features:\n",
    "- Batching the data\n",
    "- Shuffling the data\n",
    "- Load the data in parallel using multiprocessing workers.\n",
    "and can be created very simply from a ```Dataset```. Continuing on our simple example: "
   ]
  },
  {
   "cell_type": "code",
   "execution_count": 173,
   "metadata": {},
   "outputs": [],
   "source": [
    "toy_dataloader = DataLoader(toy_dataset, batch_size = 2, shuffle = True)"
   ]
  },
  {
   "cell_type": "code",
   "execution_count": 174,
   "metadata": {},
   "outputs": [
    {
     "output_type": "stream",
     "name": "stdout",
     "text": [
      "Epoch:0\nBatch: ('i walk down the the avenue', 'i walk down the city'); labels: tensor([0, 0])\nBatch: ('i walked down down the boulevard', 'i walked down the avenue'); labels: tensor([0, 0])\nBatch: ('i ran down the boulevard',); labels: tensor([1])\nEpoch:1\nBatch: ('i walked down the avenue', 'i walk down the city'); labels: tensor([0, 0])\nBatch: ('i walk down the the avenue', 'i ran down the boulevard'); labels: tensor([0, 1])\nBatch: ('i walked down down the boulevard',); labels: tensor([0])\nEpoch:2\nBatch: ('i walk down the the avenue', 'i walked down the avenue'); labels: tensor([0, 0])\nBatch: ('i walk down the city', 'i walked down down the boulevard'); labels: tensor([0, 0])\nBatch: ('i ran down the boulevard',); labels: tensor([1])\n"
     ]
    }
   ],
   "source": [
    "for e in range(3):\n",
    "    print(\"Epoch:\" + str(e))\n",
    "    for x, y in toy_dataloader:\n",
    "        print(\"Batch: \" + str(x) + \"; labels: \" + str(y))  "
   ]
  },
  {
   "cell_type": "markdown",
   "metadata": {},
   "source": [
    "### Data processing of a text dataset\n",
    "\n",
    "Now, we would like to apply what we saw to our case, and **create a specific class** ```TextClassificationDataset``` **inheriting** ```Dataset``` that will:\n",
    "- Create a vocabulary from the data (use what we saw in the previous TP)\n",
    "- Preprocess the data using this vocabulary, adding whatever we need for our pytorch model\n",
    "- Have a ```__getitem__``` method that allows us to use the class with a ```Dataloader``` to easily build batches."
   ]
  },
  {
   "cell_type": "code",
   "execution_count": 175,
   "metadata": {},
   "outputs": [],
   "source": [
    "import os\n",
    "import sys\n",
    "import re\n",
    "from torch.nn import functional as F\n",
    "import numpy as np\n",
    "import random\n",
    "\n",
    "from nltk import word_tokenize\n",
    "from torch.nn.utils.rnn import pad_sequence"
   ]
  },
  {
   "cell_type": "markdown",
   "metadata": {},
   "source": [
    "First, we get the filenames and the corresponding categories: "
   ]
  },
  {
   "cell_type": "code",
   "execution_count": 176,
   "metadata": {},
   "outputs": [
    {
     "output_type": "stream",
     "name": "stdout",
     "text": [
      "25000 documents\n"
     ]
    }
   ],
   "source": [
    "from glob import glob\n",
    "filenames_neg = sorted(glob(os.path.join('.', 'data', 'imdb1', 'neg', '*.txt')))\n",
    "filenames_pos = sorted(glob(os.path.join('.', 'data', 'imdb1', 'pos', '*.txt')))\n",
    "filenames = filenames_neg + filenames_pos\n",
    "\n",
    "# The first half of the elements of the list are string of negative reviews, and the second half positive ones\n",
    "# We create the labels, as an array of [1,len(texts)], filled with 1, and change the first half to 0\n",
    "categories = np.ones(len(filenames), dtype=np.int)\n",
    "categories[:len(filenames_neg)] = 0.\n",
    "\n",
    "print(\"%d documents\" % len(filenames))"
   ]
  },
  {
   "cell_type": "markdown",
   "metadata": {},
   "source": [
    "We will need to create a ```TextClassificationDataset``` and a ```Dataloader``` for the training data, the validation data, and the testing data. We need to implement a function that will help us split the data in three, according to proportions we give in input."
   ]
  },
  {
   "cell_type": "code",
   "execution_count": 177,
   "metadata": {},
   "outputs": [],
   "source": [
    "# Create a function allowing you to simply shuffle then split the filenames and categories into the desired\n",
    "# proportions for a training, validation and testing set. \n",
    "def get_splits(x, y, splits):\n",
    "    \"\"\"\n",
    "    The idea is to use an index list as reference:\n",
    "    Indexes = [0 1 2 3 4 5 6 7 8 9]\n",
    "    To shuffle it randomly:\n",
    "    Indexes = [7 1 5 0 2 9 8 6 4 3]\n",
    "    We need 'splits' to contain 2 values. Assuming those are = (0.8, 0.1), we'll have:\n",
    "    Train_indexes = [7 1 5 0 2 9 8 6]\n",
    "    Valid_indexes = [4]\n",
    "    Test_indexes = [3]\n",
    "    \"\"\"\n",
    "    # Create an index list and shuffle it - use the function random.shuffle\n",
    "    # -- A compléter --\n",
    "    indexes = np.arange(len(y))\n",
    "    random.shuffle(indexes)\n",
    "    # Find the two indexes we'll use to cut the lists from the splits\n",
    "    # -- A compléter -- \n",
    "    test_begin = int(len(y) * (1 - splits[1]))\n",
    "    valid_begin = int(len(y) * (splits[0])) \n",
    "\n",
    "    # Do the cutting (careful: you can't use a list as index for a list - this only works with tensors)\n",
    "    # (you need to use list comprehensions - or go through numpy)\n",
    "    x = np.array(x)\n",
    "    y = np.array(y)\n",
    "\n",
    "    train_x, train_y = x[indexes[:valid_begin]], y[indexes[:valid_begin]]# A compléter\n",
    "    valid_x, valid_y = x[indexes[valid_begin:test_begin]], y[indexes[valid_begin:test_begin]]\n",
    "    test_x, test_y = x[indexes[test_begin:]], y[indexes[test_begin:]]# A compléter\n",
    "    \n",
    "    return (train_x, train_y), (valid_x, valid_y), (test_x, test_y)"
   ]
  },
  {
   "cell_type": "code",
   "execution_count": 178,
   "metadata": {},
   "outputs": [],
   "source": [
    "# Choose the training, validation, testing splits\n",
    "splits = (0.8, 0.1)\n",
    "(train_f, train_c), (valid_f, valid_c), (test_f, test_c) = get_splits(filenames, categories, splits)"
   ]
  },
  {
   "cell_type": "markdown",
   "metadata": {},
   "source": [
    "We can now implement our ```TextClassificationDataset``` class, that we will build from:\n",
    "- A list of path to the IMDB files in the training set: ```path_to_file```\n",
    "- A list of the corresponding categories: ```categories```\n",
    "We will add three optional arguments:\n",
    "- First, a way to input a vocabulary (so that we can re-use the training vocabulary on the validation and training ```TextClassificationDataset```). By default, the value of the argument is ```None```.\n",
    "- In order to work with batches, we will need to have sequences of the same size. That can be done via **padding** but we will still need to limit the size of documents (to avoid having batches of huge sequences that are mostly empty because of one very long documents) to a ```max_length```. Let's put it to 100 by default.\n",
    "- Lastly, a ```min_freq``` that indicates how many times a word must appear to be taken in the vocabulary. "
   ]
  },
  {
   "cell_type": "markdown",
   "metadata": {},
   "source": [
    "The idea behind **padding** is to transform a list of pytorch tensors (of maybe different length) into a two dimensional tensor - which we can see as a batch. The size of the first dimension is the one of the longest tensor - and other are **padded** with a chosen symbol: here, we choose 0. "
   ]
  },
  {
   "cell_type": "code",
   "execution_count": 179,
   "metadata": {},
   "outputs": [],
   "source": [
    "tensor_1 = torch.LongTensor([1, 4, 5])\n",
    "tensor_2 = torch.LongTensor([2])\n",
    "tensor_3 = torch.LongTensor([6, 7])"
   ]
  },
  {
   "cell_type": "code",
   "execution_count": 180,
   "metadata": {},
   "outputs": [
    {
     "output_type": "stream",
     "name": "stdout",
     "text": [
      "tensor([[1, 4, 5],\n        [2, 0, 0],\n        [6, 7, 0]])\n"
     ]
    }
   ],
   "source": [
    "tensor_padded = pad_sequence([tensor_1, tensor_2, tensor_3], batch_first=True, padding_value = 0)\n",
    "print(tensor_padded)"
   ]
  },
  {
   "cell_type": "code",
   "execution_count": 181,
   "metadata": {},
   "outputs": [],
   "source": [
    "class TextClassificationDataset(Dataset):\n",
    "    def __init__(self, paths_to_files, categories, vocab = None, max_length = 100, min_freq = 5):\n",
    "        # Read all files and put the data in a list of strings\n",
    "        # A compléter\n",
    "        self.data = [open(_file, encoding=\"utf8\").read() for _file in paths_to_files] \n",
    "        \n",
    "        # Set the maximum length we will keep for the sequences\n",
    "        self.max_length = max_length\n",
    "        \n",
    "        # Allow to import a vocabulary (for valid/test datasets, that will use the training vocabulary)\n",
    "        if vocab is not None:\n",
    "            self.word2idx, self.idx2word = vocab\n",
    "        else:\n",
    "            # If no vocabulary imported, build it (and reverse)\n",
    "            self.word2idx, self.idx2word = self.build_vocab(self.data, min_freq)\n",
    "        \n",
    "        # We then need to tokenize the data .. \n",
    "        # A compléter\n",
    "        tokenized_data = [self.clean_and_tokenize(sentence) for sentence in self.data]\n",
    "        # Transform words into lists of indexes ... (use the .get() method to redirect unknown words to the UNK token)\n",
    "        # A compléter\n",
    "        unk_idx = self.word2idx['UNK']\n",
    "        indexed_data = [[self.word2idx.get(token, unk_idx) for token in tokens] \n",
    "                                                                for tokens in tokenized_data]\n",
    "        # And transform this list of lists into a list of Pytorch LongTensors\n",
    "        # A compléter\n",
    "        tensor_data = [torch.LongTensor(indexes[:max_length]) for indexes in indexed_data]\n",
    "        # And the categories into a FloatTensor\n",
    "        tensor_y = torch.FloatTensor(categories)\n",
    "        # To finally cut it when it's above the maximum length\n",
    "        # A compléter\n",
    "        #cut_tensor_data =  \n",
    "        \n",
    "        # Now, we need to use the pad_sequence function to have the whole dataset represented as one tensor,\n",
    "        # containing sequences of the same length. We choose the padding_value to be 0, the we want the\n",
    "        # batch dimension to be the first dimension \n",
    "        # A compléter\n",
    "        self.tensor_data = pad_sequence(tensor_data, batch_first=True, padding_value=0)\n",
    "        self.tensor_y = tensor_y\n",
    "        \n",
    "    def __len__(self):\n",
    "        return len(self.data)\n",
    "\n",
    "    def __getitem__(self, idx):\n",
    "        # The iterator just gets one particular example with its category\n",
    "        # The dataloader will take care of the shuffling and batching\n",
    "        if torch.is_tensor(idx):\n",
    "            idx = idx.tolist()\n",
    "        return self.tensor_data[idx], self.tensor_y[idx] \n",
    "    \n",
    "    def clean_and_tokenize(self, text):\n",
    "        \"\"\"\n",
    "        Cleaning a document with:\n",
    "            - Lowercase        \n",
    "            - Removing numbers with regular expressions\n",
    "            - Removing punctuation with regular expressions\n",
    "            - Removing other artifacts\n",
    "        And separate the document into words by simply splitting at spaces\n",
    "        Params:\n",
    "            text (string): a sentence or a document\n",
    "        Returns:\n",
    "            tokens (list of strings): the list of tokens (word units) forming the document\n",
    "        \"\"\"        \n",
    "        # Lowercase\n",
    "        text = text.lower()\n",
    "        # Remove numbers\n",
    "        text = re.sub(r\"[0-9]+\", \"\", text)\n",
    "        # Remove punctuation\n",
    "        REMOVE_PUNCT = re.compile(\"[.;:!\\'?,\\\"()\\[\\]]\")\n",
    "        text = REMOVE_PUNCT.sub(\"\", text)\n",
    "        # Remove HTML artifacts specific to the corpus we're going to work with\n",
    "        REPLACE_HTML = re.compile(\"(<br\\s*/><br\\s*/>)|(\\-)|(\\/)\")\n",
    "        text = REPLACE_HTML.sub(\" \", text)\n",
    "        \n",
    "        tokens = text.split()        \n",
    "        return tokens\n",
    "\n",
    "    def build_vocab(self, corpus, count_threshold):\n",
    "        \"\"\"\n",
    "        Same as in the previous TP: we want to output word_index, a dictionary containing words \n",
    "        and their corresponding indexes as {word : indexes} \n",
    "        But we also want the reverse, which is a dictionary {indexes: word}\n",
    "        Don't forget to add a UNK token that we need when encountering unknown words\n",
    "        We also choose '0' to represent the padding index, so begin the vocabulary index at 1 ! \n",
    "        \"\"\"\n",
    "        # A compléter\n",
    "        word_counts = {}\n",
    "        word_index = {}\n",
    "        idx_word = {}\n",
    "\n",
    "        for sentence in corpus:\n",
    "            for word in self.clean_and_tokenize(sentence):\n",
    "                if word not in word_counts:\n",
    "                    word_counts[word] = 0\n",
    "                word_counts[word] += 1\n",
    "        \n",
    "        filtered_word_counts = {word: word_counts[word] for word in word_counts \n",
    "                                                            if word_counts[word] >= count_threshold}\n",
    "       \n",
    "        vocab_word_counts = dict(sorted(filtered_word_counts.items(), \n",
    "                                        key=lambda w: w[1], reverse=True))\n",
    "        vocab_word_counts['UNK'] = 0\n",
    "        \n",
    "        for word, idx in zip(vocab_word_counts.keys(), range(len(vocab_word_counts))):\n",
    "            word_index[word] = idx + 1\n",
    "            idx_word[idx + 1] = word\n",
    "        \n",
    "        return word_index, idx_word\n",
    "    \n",
    "    def get_vocab(self):\n",
    "        # A simple way to get the training vocab when building the valid/test \n",
    "        return self.word2idx, self.idx2word"
   ]
  },
  {
   "cell_type": "code",
   "execution_count": 182,
   "metadata": {},
   "outputs": [],
   "source": [
    "training_dataset = TextClassificationDataset(train_f, train_c)\n",
    "training_word2idx, training_idx2word = training_dataset.get_vocab()"
   ]
  },
  {
   "cell_type": "code",
   "execution_count": 183,
   "metadata": {},
   "outputs": [],
   "source": [
    "valid_dataset = TextClassificationDataset(valid_f, valid_c, (training_word2idx, training_idx2word))\n",
    "test_dataset = TextClassificationDataset(test_f, test_c, (training_word2idx, training_idx2word))"
   ]
  },
  {
   "cell_type": "code",
   "execution_count": 184,
   "metadata": {},
   "outputs": [],
   "source": [
    "training_dataloader = DataLoader(training_dataset, batch_size = 200, shuffle=True)\n",
    "valid_dataloader = DataLoader(valid_dataset, batch_size = 25)\n",
    "test_dataloader = DataLoader(test_dataset, batch_size = 25)"
   ]
  },
  {
   "cell_type": "code",
   "execution_count": 185,
   "metadata": {},
   "outputs": [
    {
     "output_type": "stream",
     "name": "stdout",
     "text": [
      "(tensor([  146, 26796,  9401,  3720,    10,   814,  1501,   134,  4592,  1973,\n           58,   178,     5,    25,     7,     8,    20,    82,    28,     3,\n          683,    16,    15,     1, 22090,     4, 12340,   542,    14,  1094,\n          919,  1417,     8,   220,    98,   594,   134,  1716,  1320,  1573,\n         3032,   135,    13,  1973,   448,     5,   235,    17,    82,     8,\n         1558,    54,  4967,    14,  1973,     5,  4071,     3,   655,   453,\n         9894,     1,  2097,   338,     4,    38,  1676,   137,   568, 26796,\n          727,     2,  3896,   463,   347,    15,     1,   590,     4,   181,\n           84,    38,   568,    12,   494,     5,    30,     1,    55,     4,\n           38,  1703,  3191,    34,     1,   616,     9, 16844,   396,   167]), tensor(0.))\n"
     ]
    }
   ],
   "source": [
    "print(training_dataset[0])"
   ]
  },
  {
   "cell_type": "code",
   "execution_count": 186,
   "metadata": {},
   "outputs": [
    {
     "output_type": "stream",
     "name": "stdout",
     "text": [
      "torch.Size([200, 100])\ntorch.Size([200])\n"
     ]
    }
   ],
   "source": [
    "example_batch = next(iter(training_dataloader))\n",
    "print(example_batch[0].size())\n",
    "print(example_batch[1].size())"
   ]
  },
  {
   "cell_type": "markdown",
   "metadata": {},
   "source": [
    "### A simple averaging model\n",
    "\n",
    "Now, we will implement in Pytorch what we did in the previous TP: a simple averaging model. For each model we will implement, we need to create a class which inherits from ```nn.Module``` and redifine the ```__init__``` method as well as the ```forward``` method."
   ]
  },
  {
   "cell_type": "code",
   "execution_count": 187,
   "metadata": {},
   "outputs": [],
   "source": [
    "# Models are usually implemented as custom nn.Module subclass\n",
    "# We need to redefine the __init__ method, which creates the object\n",
    "# We also need to redefine the forward method, which transform the input into outputs\n",
    "\n",
    "class AveragingModel(nn.Module):    \n",
    "    def __init__(self, embedding_dim, vocabulary_size):\n",
    "        super().__init__()\n",
    "        # Create an embedding object. Be careful to padding - you need to increase the vocabulary size by one !\n",
    "        # Look into the arguments of the nn.Embedding class\n",
    "        self.embeddings = nn.Embedding(vocabulary_size + 1, embedding_dim, padding_idx=0)\n",
    "        # Create a linear layer that will transform the mean of the embeddings into a classification score\n",
    "        self.linear = nn.Linear(embedding_dim, 1)\n",
    "        # No need for sigmoid, it will be into the criterion ! \n",
    "        \n",
    "    def forward(self, inputs):\n",
    "        # Remember: the inpts are written as Batch_size * seq_length * embedding_dim\n",
    "        # First, take the mean of the embeddings of the document\n",
    "        x = self.embeddings(inputs).mean(dim=1)\n",
    "        # Then make it go through the linear layer and remove the extra dimension with the method .squeeze()\n",
    "        o = self.linear(x).squeeze()\n",
    "        return o"
   ]
  },
  {
   "cell_type": "code",
   "execution_count": 188,
   "metadata": {},
   "outputs": [],
   "source": [
    "import torch.optim as optim"
   ]
  },
  {
   "cell_type": "code",
   "execution_count": 189,
   "metadata": {},
   "outputs": [],
   "source": [
    "model = AveragingModel(300, len(training_word2idx))\n",
    "# Create an optimizer\n",
    "opt = optim.Adam(model.parameters(), lr=0.0025, betas=(0.9, 0.999))\n",
    "# The criterion is a binary cross entropy loss based on logits - meaning that the sigmoid is integrated into the criterion\n",
    "criterion = nn.BCEWithLogitsLoss()"
   ]
  },
  {
   "cell_type": "code",
   "execution_count": 212,
   "metadata": {},
   "outputs": [],
   "source": [
    "# Implement a training function, which will train the model with the corresponding optimizer and criterion,\n",
    "# with the appropriate dataloader, for one epoch.\n",
    "\n",
    "def train_epoch(model, opt, criterion, dataloader, verbose):\n",
    "    _print = print_wrapper(verbose)\n",
    "    model.train()\n",
    "    losses = []\n",
    "    for i, (x, y) in enumerate(dataloader):\n",
    "        opt.zero_grad()\n",
    "        # (1) Forward\n",
    "        pred = model(x)\n",
    "        # (2) Compute the loss\n",
    "        loss = criterion(pred, y)\n",
    "        # (3) Compute gradients with the criterion\n",
    "        loss.backward()\n",
    "        # (4) Update weights with the optimizer\n",
    "        opt.step()      \n",
    "        losses.append(loss.item())\n",
    "        # Count the number of correct predictions in the batch - here, you'll need to use the sigmoid\n",
    "        num_corrects = torch.where((torch.sigmoid(pred) >= .5) == y, 1, 0).sum()\n",
    "        acc = 100.0 * num_corrects/len(y)\n",
    "        \n",
    "        if (i%20 == 0):\n",
    "            _print(\"Batch \" + str(i) + \" : training loss = \" + str(loss.item()) + \"; training acc = \" + str(acc.item()))\n",
    "    return losses"
   ]
  },
  {
   "cell_type": "code",
   "execution_count": 213,
   "metadata": {},
   "outputs": [],
   "source": [
    "# Same for the evaluation ! We don't need the optimizer here. \n",
    "def eval_model(model, criterion, evalloader):\n",
    "    model.eval()\n",
    "    total_epoch_loss = 0\n",
    "    total_epoch_acc = 0\n",
    "    with torch.no_grad():\n",
    "        for i, (x, y) in enumerate(evalloader):\n",
    "            pred = model.forward(x)\n",
    "            loss = criterion(pred, y)\n",
    "            num_corrects = torch.where((torch.sigmoid(pred) >= .5) == y, 1, 0).sum()\n",
    "            acc = 100.0 * num_corrects/len(y)\n",
    "            total_epoch_loss += loss.item()\n",
    "            total_epoch_acc += acc.item()\n",
    "\n",
    "    return total_epoch_loss/(i+1), total_epoch_acc/(i+1)"
   ]
  },
  {
   "cell_type": "code",
   "execution_count": 192,
   "metadata": {},
   "outputs": [],
   "source": [
    "def print_wrapper(verbose):\n",
    "    def _print(text):\n",
    "        if verbose:\n",
    "            print(text)\n",
    "    return _print"
   ]
  },
  {
   "cell_type": "code",
   "execution_count": 211,
   "metadata": {},
   "outputs": [],
   "source": [
    "# A function which will help you execute experiments rapidly - with a early_stopping option when necessary. \n",
    "def experiment(model, opt, criterion, training_dataloader, valid_dataloader, test_dataloader, num_epochs=5, early_stopping=True, verbose=True):\n",
    "    _print = print_wrapper(verbose)\n",
    "    \n",
    "    train_losses = []\n",
    "    if early_stopping: \n",
    "        best_valid_loss = 10.\n",
    "\n",
    "    _print(\"Beginning training...\")\n",
    "    for e in range(num_epochs):\n",
    "        _print(\"Epoch \" + str(e+1) + \":\")\n",
    "        train_losses += train_epoch(model, opt, criterion, training_dataloader, verbose)\n",
    "        valid_loss, valid_acc = eval_model(model, criterion, valid_dataloader)\n",
    "        _print(\"Epoch \" + str(e+1) + \" : Validation loss = \" + str(valid_loss) + \"; Validation acc = \" + str(valid_acc))\n",
    "        if early_stopping:\n",
    "            if valid_loss < best_valid_loss:\n",
    "                best_valid_loss = valid_loss\n",
    "            else:\n",
    "                _print(\"Early stopping.\")\n",
    "                break  \n",
    "    \n",
    "    test_loss, test_acc = eval_model(model, criterion, test_dataloader)\n",
    "    _print(\"Epoch \" + str(e+1) + \" : Test loss = \" + str(test_loss) + \"; Test acc = \" + str(test_acc))\n",
    "    \n",
    "    return train_losses"
   ]
  },
  {
   "cell_type": "code",
   "execution_count": 194,
   "metadata": {},
   "outputs": [
    {
     "output_type": "stream",
     "name": "stdout",
     "text": [
      "Beginning training...\n",
      "Epoch 1:\n",
      "Batch 0 : training loss = 0.6962549686431885; training acc = 47.0\n",
      "Batch 20 : training loss = 0.6708948016166687; training acc = 65.5\n",
      "Batch 40 : training loss = 0.6407991647720337; training acc = 68.0\n",
      "Batch 60 : training loss = 0.612058699131012; training acc = 70.0\n",
      "Batch 80 : training loss = 0.5725457668304443; training acc = 73.0\n",
      "Epoch 1 : Validation loss = 0.5389877471327782; Validation acc = 76.12\n",
      "Epoch 2:\n",
      "Batch 0 : training loss = 0.5352053642272949; training acc = 79.0\n",
      "Batch 20 : training loss = 0.5287525653839111; training acc = 75.0\n",
      "Batch 40 : training loss = 0.48606911301612854; training acc = 79.5\n",
      "Batch 60 : training loss = 0.4230612814426422; training acc = 82.0\n",
      "Batch 80 : training loss = 0.4299103021621704; training acc = 79.0\n",
      "Epoch 2 : Validation loss = 0.41627217158675195; Validation acc = 82.48\n",
      "Epoch 3:\n",
      "Batch 0 : training loss = 0.3399761915206909; training acc = 88.5\n",
      "Batch 20 : training loss = 0.32421424984931946; training acc = 87.5\n",
      "Batch 40 : training loss = 0.3270539939403534; training acc = 88.5\n",
      "Batch 60 : training loss = 0.31689321994781494; training acc = 85.5\n",
      "Batch 80 : training loss = 0.32400453090667725; training acc = 87.0\n",
      "Epoch 3 : Validation loss = 0.3765494787693024; Validation acc = 83.92\n",
      "Epoch 4:\n",
      "Batch 0 : training loss = 0.3154260516166687; training acc = 88.5\n",
      "Batch 20 : training loss = 0.3101075291633606; training acc = 86.5\n",
      "Batch 40 : training loss = 0.3083210289478302; training acc = 87.0\n",
      "Batch 60 : training loss = 0.2558353543281555; training acc = 89.5\n",
      "Batch 80 : training loss = 0.25115966796875; training acc = 89.5\n",
      "Epoch 4 : Validation loss = 0.36188571751117704; Validation acc = 84.48\n",
      "Epoch 5:\n",
      "Batch 0 : training loss = 0.21773390471935272; training acc = 94.0\n",
      "Batch 20 : training loss = 0.22023117542266846; training acc = 93.5\n",
      "Batch 40 : training loss = 0.18586397171020508; training acc = 94.5\n",
      "Batch 60 : training loss = 0.19780874252319336; training acc = 93.0\n",
      "Batch 80 : training loss = 0.2086663693189621; training acc = 91.5\n",
      "Epoch 5 : Validation loss = 0.36180229142308235; Validation acc = 84.84\n",
      "Epoch 5 : Test loss = 0.3589252284914255; Test acc = 84.52\n"
     ]
    }
   ],
   "source": [
    "train_losses = experiment(model, opt, criterion, training_dataloader, valid_dataloader, test_dataloader)"
   ]
  },
  {
   "cell_type": "markdown",
   "metadata": {},
   "source": [
    "### With Glove embeddings: \n",
    "\n",
    "Now, we would like to integrate pre-trained word embeddings into our model ! Let's use again the functions that we used in the previous TP:"
   ]
  },
  {
   "cell_type": "code",
   "execution_count": 32,
   "metadata": {},
   "outputs": [],
   "source": [
    "import gensim.downloader as api\n",
    "loaded_glove_model = api.load(\"glove-wiki-gigaword-300\")\n",
    "loaded_glove_embeddings = loaded_glove_model.vectors"
   ]
  },
  {
   "cell_type": "code",
   "execution_count": 33,
   "metadata": {},
   "outputs": [],
   "source": [
    "def get_glove_adapted_embeddings(glove_model, input_voc):\n",
    "    keys = {i: glove_model.vocab.get(w, None) for w, i in input_voc.items()}\n",
    "    index_dict = {i: key.index for i, key in keys.items() if key is not None}\n",
    "    embeddings = np.zeros((len(input_voc)+1,glove_model.vectors.shape[1]))\n",
    "    for i, ind in index_dict.items():\n",
    "        embeddings[i] = glove_model.vectors[ind]\n",
    "    return embeddings\n",
    "\n",
    "GloveEmbeddings = get_glove_adapted_embeddings(loaded_glove_model, training_word2idx)"
   ]
  },
  {
   "cell_type": "code",
   "execution_count": 34,
   "metadata": {},
   "outputs": [
    {
     "output_type": "stream",
     "name": "stdout",
     "text": [
      "(26709, 300)\n[0. 0. 0. 0. 0. 0. 0. 0. 0. 0. 0. 0. 0. 0. 0. 0. 0. 0. 0. 0. 0. 0. 0. 0.\n 0. 0. 0. 0. 0. 0. 0. 0. 0. 0. 0. 0. 0. 0. 0. 0. 0. 0. 0. 0. 0. 0. 0. 0.\n 0. 0. 0. 0. 0. 0. 0. 0. 0. 0. 0. 0. 0. 0. 0. 0. 0. 0. 0. 0. 0. 0. 0. 0.\n 0. 0. 0. 0. 0. 0. 0. 0. 0. 0. 0. 0. 0. 0. 0. 0. 0. 0. 0. 0. 0. 0. 0. 0.\n 0. 0. 0. 0. 0. 0. 0. 0. 0. 0. 0. 0. 0. 0. 0. 0. 0. 0. 0. 0. 0. 0. 0. 0.\n 0. 0. 0. 0. 0. 0. 0. 0. 0. 0. 0. 0. 0. 0. 0. 0. 0. 0. 0. 0. 0. 0. 0. 0.\n 0. 0. 0. 0. 0. 0. 0. 0. 0. 0. 0. 0. 0. 0. 0. 0. 0. 0. 0. 0. 0. 0. 0. 0.\n 0. 0. 0. 0. 0. 0. 0. 0. 0. 0. 0. 0. 0. 0. 0. 0. 0. 0. 0. 0. 0. 0. 0. 0.\n 0. 0. 0. 0. 0. 0. 0. 0. 0. 0. 0. 0. 0. 0. 0. 0. 0. 0. 0. 0. 0. 0. 0. 0.\n 0. 0. 0. 0. 0. 0. 0. 0. 0. 0. 0. 0. 0. 0. 0. 0. 0. 0. 0. 0. 0. 0. 0. 0.\n 0. 0. 0. 0. 0. 0. 0. 0. 0. 0. 0. 0. 0. 0. 0. 0. 0. 0. 0. 0. 0. 0. 0. 0.\n 0. 0. 0. 0. 0. 0. 0. 0. 0. 0. 0. 0. 0. 0. 0. 0. 0. 0. 0. 0. 0. 0. 0. 0.\n 0. 0. 0. 0. 0. 0. 0. 0. 0. 0. 0. 0.]\n"
     ]
    }
   ],
   "source": [
    "print(GloveEmbeddings.shape)\n",
    "# We should check that the \"padding\" vector is at zero\n",
    "print(GloveEmbeddings[0])"
   ]
  },
  {
   "cell_type": "markdown",
   "metadata": {},
   "source": [
    "Here, implement a ```PretrainedAveragingModel``` very similar to the previous model, using the ```nn.Embedding``` method ```from_pretrained()``` to initialize the embeddings from a numpy array. Use the ```requires_grad_``` method to specify if the model must fine-tune the embeddings or not ! "
   ]
  },
  {
   "cell_type": "code",
   "execution_count": 109,
   "metadata": {},
   "outputs": [],
   "source": [
    "class PretrainedAveragingModel(nn.Module):\n",
    "    # A compléter\n",
    "    def __init__(self, embedding_dim, embeddings, fine_tune=False):\n",
    "        super().__init__()\n",
    "        embeddings = torch.from_numpy(embeddings).float()\n",
    "        self.embeddings = nn.Embedding.from_pretrained(embeddings, freeze=not fine_tune, padding_idx=0)\n",
    "        self.linear = nn.Linear(embedding_dim, 1)\n",
    "        \n",
    "    def forward(self, inputs):\n",
    "        x = self.embeddings(inputs).mean(dim=1)\n",
    "        o = self.linear(x).squeeze()\n",
    "        return o"
   ]
  },
  {
   "source": [
    "### Averaging model, GloVe"
   ],
   "cell_type": "markdown",
   "metadata": {}
  },
  {
   "cell_type": "code",
   "execution_count": 167,
   "metadata": {
    "tags": []
   },
   "outputs": [
    {
     "output_type": "stream",
     "name": "stdout",
     "text": [
      "Beginning training...\n",
      "Epoch 1:\n",
      "Batch 0 : training loss = 0.6970400810241699; training acc = 46.0\n",
      "Batch 20 : training loss = 0.6732521057128906; training acc = 64.0\n",
      "Batch 40 : training loss = 0.6790930032730103; training acc = 55.5\n",
      "Batch 60 : training loss = 0.6623308658599854; training acc = 65.5\n",
      "Batch 80 : training loss = 0.6476889252662659; training acc = 70.0\n",
      "Epoch 1 : Validation loss = 0.6417216455936432; Validation acc = 68.4\n",
      "Epoch 2:\n",
      "Batch 0 : training loss = 0.6376528739929199; training acc = 69.0\n",
      "Batch 20 : training loss = 0.644457995891571; training acc = 67.5\n",
      "Batch 40 : training loss = 0.6376228928565979; training acc = 65.0\n",
      "Batch 60 : training loss = 0.6323525905609131; training acc = 67.5\n",
      "Batch 80 : training loss = 0.618502140045166; training acc = 70.0\n",
      "Epoch 2 : Validation loss = 0.612585529088974; Validation acc = 70.92\n",
      "Epoch 3:\n",
      "Batch 0 : training loss = 0.6214427351951599; training acc = 73.5\n",
      "Batch 20 : training loss = 0.6231948137283325; training acc = 70.0\n",
      "Batch 40 : training loss = 0.6057512760162354; training acc = 73.0\n",
      "Batch 60 : training loss = 0.5995103716850281; training acc = 71.5\n",
      "Batch 80 : training loss = 0.6140546798706055; training acc = 69.0\n",
      "Epoch 3 : Validation loss = 0.5921865287423134; Validation acc = 72.36\n",
      "Epoch 4:\n",
      "Batch 0 : training loss = 0.6003355979919434; training acc = 70.0\n",
      "Batch 20 : training loss = 0.6173205375671387; training acc = 67.0\n",
      "Batch 40 : training loss = 0.5982166528701782; training acc = 72.5\n",
      "Batch 60 : training loss = 0.563758373260498; training acc = 75.5\n",
      "Batch 80 : training loss = 0.5966198444366455; training acc = 69.5\n",
      "Epoch 4 : Validation loss = 0.5767270800471306; Validation acc = 73.6\n",
      "Epoch 5:\n",
      "Batch 0 : training loss = 0.5996469259262085; training acc = 65.5\n",
      "Batch 20 : training loss = 0.5463293194770813; training acc = 79.0\n",
      "Batch 40 : training loss = 0.5810642242431641; training acc = 69.0\n",
      "Batch 60 : training loss = 0.5702348947525024; training acc = 69.5\n",
      "Batch 80 : training loss = 0.5693410634994507; training acc = 74.5\n",
      "Epoch 5 : Validation loss = 0.5648057734966279; Validation acc = 74.44\n",
      "Epoch 5 : Test loss = 0.5621670979261398; Test acc = 73.92\n"
     ]
    }
   ],
   "source": [
    "model = PretrainedAveragingModel(300, GloveEmbeddings)\n",
    "opt = optim.Adam(model.parameters(), lr=0.0025, betas=(0.9, 0.999))\n",
    "criterion = nn.BCEWithLogitsLoss()\n",
    "\n",
    "train_losses = experiment(model, opt, criterion)"
   ]
  },
  {
   "source": [
    "### Averaging model, GloVe, fine-tuning"
   ],
   "cell_type": "markdown",
   "metadata": {}
  },
  {
   "cell_type": "code",
   "execution_count": 168,
   "metadata": {},
   "outputs": [
    {
     "output_type": "stream",
     "name": "stdout",
     "text": [
      "Beginning training...\n",
      "Epoch 1:\n",
      "Batch 0 : training loss = 0.6986362934112549; training acc = 45.5\n",
      "Batch 20 : training loss = 0.6737098097801208; training acc = 68.5\n",
      "Batch 40 : training loss = 0.6427159905433655; training acc = 71.0\n",
      "Batch 60 : training loss = 0.6027034521102905; training acc = 73.5\n",
      "Batch 80 : training loss = 0.5306171178817749; training acc = 79.5\n",
      "Epoch 1 : Validation loss = 0.5077797311544419; Validation acc = 78.8\n",
      "Epoch 2:\n",
      "Batch 0 : training loss = 0.4944082498550415; training acc = 79.0\n",
      "Batch 20 : training loss = 0.45752620697021484; training acc = 82.5\n",
      "Batch 40 : training loss = 0.4207686483860016; training acc = 81.0\n",
      "Batch 60 : training loss = 0.3347460627555847; training acc = 90.5\n",
      "Batch 80 : training loss = 0.4048406183719635; training acc = 84.5\n",
      "Epoch 2 : Validation loss = 0.3890251262485981; Validation acc = 83.2\n",
      "Epoch 3:\n",
      "Batch 0 : training loss = 0.3701934814453125; training acc = 83.5\n",
      "Batch 20 : training loss = 0.2669103145599365; training acc = 91.0\n",
      "Batch 40 : training loss = 0.3036532700061798; training acc = 89.5\n",
      "Batch 60 : training loss = 0.2671385705471039; training acc = 88.5\n",
      "Batch 80 : training loss = 0.2761053144931793; training acc = 86.5\n",
      "Epoch 3 : Validation loss = 0.3581389904022217; Validation acc = 83.84\n",
      "Epoch 4:\n",
      "Batch 0 : training loss = 0.28049659729003906; training acc = 88.5\n",
      "Batch 20 : training loss = 0.2055734246969223; training acc = 95.0\n",
      "Batch 40 : training loss = 0.26763224601745605; training acc = 90.5\n",
      "Batch 60 : training loss = 0.21104227006435394; training acc = 92.5\n",
      "Batch 80 : training loss = 0.25301915407180786; training acc = 91.0\n",
      "Epoch 4 : Validation loss = 0.3473361600935459; Validation acc = 85.0\n",
      "Epoch 5:\n",
      "Batch 0 : training loss = 0.15737193822860718; training acc = 96.0\n",
      "Batch 20 : training loss = 0.1864021122455597; training acc = 94.5\n",
      "Batch 40 : training loss = 0.16722050309181213; training acc = 94.5\n",
      "Batch 60 : training loss = 0.2015155553817749; training acc = 93.0\n",
      "Batch 80 : training loss = 0.20273588597774506; training acc = 91.5\n",
      "Epoch 5 : Validation loss = 0.3526438994705677; Validation acc = 84.72\n",
      "Early stopping.\n",
      "Epoch 5 : Test loss = 0.35799520380795; Test acc = 84.88\n"
     ]
    }
   ],
   "source": [
    "model = PretrainedAveragingModel(300, GloveEmbeddings, fine_tune=True)\n",
    "opt = optim.Adam(model.parameters(), lr=0.0025, betas=(0.9, 0.999))\n",
    "criterion = nn.BCEWithLogitsLoss()\n",
    "\n",
    "train_losses = experiment(model, opt, criterion)"
   ]
  },
  {
   "cell_type": "markdown",
   "metadata": {},
   "source": [
    "### Questions: \n",
    "- What are the results **with and without fine-tuning of embeddings imported from GloVe** ?\n",
    "- Make hypothesis based on your intuition and the class on how\n",
    "    - the number of documents (take only a portion of the 25.000 documents !)\n",
    "    - the size of the vocabulary (change the minimum frequency of words to be taken in the vocabulary ! )\n",
    "  will impact results, in the three cases (No pre-training, pre-training without fine-tuning, pretraining with fine-tuning).\n",
    "- Verify your hypothesis with experiments and analyze your results !"
   ]
  },
  {
   "cell_type": "code",
   "execution_count": 138,
   "metadata": {},
   "outputs": [],
   "source": [
    "def model_wrapper(model, use_pretrained_emb=False, **kwargs):\n",
    "    def _model(embeddings, **configs):\n",
    "        if use_pretrained_emb:\n",
    "            return model(embeddings=embeddings, **configs ,**kwargs)\n",
    "        else:\n",
    "            return model(**configs ,**kwargs)\n",
    "    \n",
    "    return _model"
   ]
  },
  {
   "cell_type": "code",
   "execution_count": 125,
   "metadata": {},
   "outputs": [],
   "source": [
    "def optim_wrapper(optim, **kwargs):\n",
    "    def _optim(parameters):\n",
    "        return optim(parameters, **kwargs)\n",
    "    \n",
    "    return _optim"
   ]
  },
  {
   "cell_type": "code",
   "execution_count": 209,
   "metadata": {},
   "outputs": [],
   "source": [
    "def experiments(models, criterion, optim, data_sizes, min_freqs, batch_sizes=(200, 25), max_length=100, seed=20, verbose=True): \n",
    "    _print = print_wrapper(verbose)\n",
    "    general_losses = []\n",
    "    general_accuracies = []\n",
    "\n",
    "    _print(\"experiments started:\")\n",
    "    for d_size in data_sizes:\n",
    "        _print(f\"--data_size: {d_size}\")\n",
    "        losses = {}\n",
    "        accuracies = {}\n",
    "\n",
    "        for min_freq in min_freqs:\n",
    "            _print(f\"----min_freq: {min_freq}\")\n",
    "            training_dataset = TextClassificationDataset(train_f[:d_size], train_c[:d_size],\n",
    "                                    max_length=max_length, min_freq=min_freq)\n",
    "            training_word2idx, training_idx2word = training_dataset.get_vocab()\n",
    "\n",
    "            valid_dataset = TextClassificationDataset(valid_f, valid_c, \n",
    "                                (training_word2idx, training_idx2word), max_length=max_length)\n",
    "            test_dataset = TextClassificationDataset(test_f, test_c, \n",
    "                                (training_word2idx, training_idx2word), max_length=max_length)\n",
    "\n",
    "            training_dataloader = DataLoader(training_dataset, batch_size=batch_sizes[0], shuffle=True)\n",
    "            valid_dataloader = DataLoader(valid_dataset, batch_size=batch_sizes[1])\n",
    "            test_dataloader = DataLoader(test_dataset, batch_size=batch_sizes[1])\n",
    "\n",
    "            GloveEmbeddings = get_glove_adapted_embeddings(loaded_glove_model, training_word2idx)\n",
    "\n",
    "            for name, _model in models.items():\n",
    "                torch.manual_seed(seed)\n",
    "                model = _model(embeddings=GloveEmbeddings)\n",
    "                opt = optim(model.parameters())\n",
    "\n",
    "                _ = experiment(model, opt, criterion, training_dataloader, valid_dataloader, test_dataloader, verbose=False)\n",
    "                test_loss, test_acc = eval_model(model, criterion, test_dataloader)\n",
    "\n",
    "                if name in losses:\n",
    "                    losses[name].append(test_loss)\n",
    "                    accuracies[name].append(test_acc)\n",
    "                else:\n",
    "                    losses[name] = [test_loss]\n",
    "                    accuracies[name] = [test_acc]\n",
    "            \n",
    "        general_losses.append([losses[name] for name in models])\n",
    "        general_accuracies.append([accuracies[name] for name in models])\n",
    "\n",
    "    _print(\"experiments finished:\")\n",
    "    return general_losses, general_accuracies\n",
    "            "
   ]
  },
  {
   "cell_type": "code",
   "execution_count": 237,
   "metadata": {},
   "outputs": [],
   "source": [
    "def plot_results(general_losses, general_accuracies, models, data_sizes, min_freqs):\n",
    "    for idx, d_size in enumerate(data_sizes):\n",
    "        fig = plt.figure(figsize=(20, 8))\n",
    "        \n",
    "        metrics = {'loss': general_losses[idx], 'accuracy': general_accuracies[idx]}\n",
    "        for metric_idx, metric in enumerate(metrics.items()):\n",
    "            ax = fig.add_subplot(1, 2, metric_idx + 1)\n",
    "            for values in metric[1]:\n",
    "                plt.plot(min_freqs, values, label=\" \")\n",
    "            \n",
    "            plt.ylabel(metric[0], fontsize=12)\n",
    "            plt.xlabel('minimum frequency of words (vocabulary)', fontsize=12)\n",
    "        \n",
    "            \n",
    "        handles, _ = ax.get_legend_handles_labels()\n",
    "        fig.legend(handles, models.keys(), fontsize=12)\n",
    "        fig.suptitle(f\"Performance of models trained with {d_size} documents\", fontsize=18)\n",
    "        plt.show()\n"
   ]
  },
  {
   "cell_type": "code",
   "execution_count": 259,
   "metadata": {},
   "outputs": [],
   "source": [
    "def show_results(general_losses, general_accuracies, models, data_sizes, min_freqs):\n",
    "    index = pd.MultiIndex.from_product([data_sizes, list(models.keys())], names=[\"data_size\", \"model\"])\n",
    "    columns = pd.Index(min_freqs, name=\"min_freq\")\n",
    "    \n",
    "    dim = len(data_sizes) * len(models)\n",
    "    losses = np.array(general_losses).reshape(dim, -1)\n",
    "    accuracies = np.array(general_accuracies).reshape(dim, -1)\n",
    "\n",
    "    print(\"Experiment losses: \")\n",
    "    display(pd.DataFrame(losses, columns=columns, index=index))\n",
    "    \n",
    "    print(\"\\nExperiment accuracies: \")\n",
    "    display(pd.DataFrame(accuracies, columns=columns, index=index))"
   ]
  },
  {
   "cell_type": "code",
   "execution_count": 218,
   "metadata": {},
   "outputs": [
    {
     "output_type": "stream",
     "name": "stdout",
     "text": [
      "experiments started:\n",
      "--data_size: 500\n",
      "----min_freq: 5\n",
      "----min_freq: 10\n",
      "--data_size: 2000\n",
      "----min_freq: 5\n",
      "----min_freq: 10\n",
      "experiments finished:\n"
     ]
    }
   ],
   "source": [
    "models = {\n",
    "    'Avg Model': model_wrapper(AveragingModel, embedding_dim=300, vocabulary_size=len(training_word2idx)),\n",
    "\n",
    "    'Avg Model, GloVe': model_wrapper(PretrainedAveragingModel, use_pretrained_emb=True, embedding_dim=300),\n",
    "\n",
    "    'Avg Model, GloVe, fine-tuning': model_wrapper(PretrainedAveragingModel, use_pretrained_emb=True, \n",
    "                                                    embedding_dim=300, fine_tune=True),\n",
    "}\n",
    "_optim = optim_wrapper(optim.Adam, lr=0.0025, betas=(0.9, 0.999))\n",
    "criterion = nn.BCEWithLogitsLoss()\n",
    "\n",
    "data_sizes = [500, 2000, 5000, 10000, 15000]\n",
    "min_freqs = np.arange(5, 25, 5)\n",
    "\n",
    "from time import time\n",
    "\n",
    "start = time()\n",
    "general_losses, general_accuracies = experiments(models, criterion, _optim, data_sizes, min_freqs)\n",
    "print(f\"time: {time() - start}\")"
   ]
  },
  {
   "cell_type": "code",
   "execution_count": 238,
   "metadata": {},
   "outputs": [
    {
     "output_type": "display_data",
     "data": {
      "text/plain": "<Figure size 1440x576 with 2 Axes>",
      "image/svg+xml": "<?xml version=\"1.0\" encoding=\"utf-8\" standalone=\"no\"?>\n<!DOCTYPE svg PUBLIC \"-//W3C//DTD SVG 1.1//EN\"\n  \"http://www.w3.org/Graphics/SVG/1.1/DTD/svg11.dtd\">\n<!-- Created with matplotlib (https://matplotlib.org/) -->\n<svg height=\"544.691875pt\" version=\"1.1\" viewBox=\"0 0 1319.641875 544.691875\" width=\"1319.641875pt\" xmlns=\"http://www.w3.org/2000/svg\" xmlns:xlink=\"http://www.w3.org/1999/xlink\">\n <metadata>\n  <rdf:RDF xmlns:cc=\"http://creativecommons.org/ns#\" xmlns:dc=\"http://purl.org/dc/elements/1.1/\" xmlns:rdf=\"http://www.w3.org/1999/02/22-rdf-syntax-ns#\">\n   <cc:Work>\n    <dc:type rdf:resource=\"http://purl.org/dc/dcmitype/StillImage\"/>\n    <dc:date>2021-03-13T12:42:36.231155</dc:date>\n    <dc:format>image/svg+xml</dc:format>\n    <dc:creator>\n     <cc:Agent>\n      <dc:title>Matplotlib v3.3.3, https://matplotlib.org/</dc:title>\n     </cc:Agent>\n    </dc:creator>\n   </cc:Work>\n  </rdf:RDF>\n </metadata>\n <defs>\n  <style type=\"text/css\">*{stroke-linecap:butt;stroke-linejoin:round;}</style>\n </defs>\n <g id=\"figure_1\">\n  <g id=\"patch_1\">\n   <path d=\"M 0 544.691875 \nL 1319.641875 544.691875 \nL 1319.641875 0 \nL 0 0 \nz\n\" style=\"fill:none;\"/>\n  </g>\n  <g id=\"axes_1\">\n   <g id=\"patch_2\">\n    <path d=\"M 58.441875 505.2 \nL 565.714602 505.2 \nL 565.714602 70.32 \nL 58.441875 70.32 \nz\n\" style=\"fill:#ffffff;\"/>\n   </g>\n   <g id=\"matplotlib.axis_1\">\n    <g id=\"xtick_1\">\n     <g id=\"line2d_1\">\n      <defs>\n       <path d=\"M 0 0 \nL 0 3.5 \n\" id=\"m194b1d42ca\" style=\"stroke:#000000;stroke-width:0.8;\"/>\n      </defs>\n      <g>\n       <use style=\"stroke:#000000;stroke-width:0.8;\" x=\"81.499726\" xlink:href=\"#m194b1d42ca\" y=\"505.2\"/>\n      </g>\n     </g>\n     <g id=\"text_1\">\n      <!-- 5 -->\n      <g transform=\"translate(78.318476 519.798437)scale(0.1 -0.1)\">\n       <defs>\n        <path d=\"M 10.796875 72.90625 \nL 49.515625 72.90625 \nL 49.515625 64.59375 \nL 19.828125 64.59375 \nL 19.828125 46.734375 \nQ 21.96875 47.46875 24.109375 47.828125 \nQ 26.265625 48.1875 28.421875 48.1875 \nQ 40.625 48.1875 47.75 41.5 \nQ 54.890625 34.8125 54.890625 23.390625 \nQ 54.890625 11.625 47.5625 5.09375 \nQ 40.234375 -1.421875 26.90625 -1.421875 \nQ 22.3125 -1.421875 17.546875 -0.640625 \nQ 12.796875 0.140625 7.71875 1.703125 \nL 7.71875 11.625 \nQ 12.109375 9.234375 16.796875 8.0625 \nQ 21.484375 6.890625 26.703125 6.890625 \nQ 35.15625 6.890625 40.078125 11.328125 \nQ 45.015625 15.765625 45.015625 23.390625 \nQ 45.015625 31 40.078125 35.4375 \nQ 35.15625 39.890625 26.703125 39.890625 \nQ 22.75 39.890625 18.8125 39.015625 \nQ 14.890625 38.140625 10.796875 36.28125 \nz\n\" id=\"DejaVuSans-53\"/>\n       </defs>\n       <use xlink:href=\"#DejaVuSans-53\"/>\n      </g>\n     </g>\n    </g>\n    <g id=\"xtick_2\">\n     <g id=\"line2d_2\">\n      <g>\n       <use style=\"stroke:#000000;stroke-width:0.8;\" x=\"173.731131\" xlink:href=\"#m194b1d42ca\" y=\"505.2\"/>\n      </g>\n     </g>\n     <g id=\"text_2\">\n      <!-- 6 -->\n      <g transform=\"translate(170.549881 519.798437)scale(0.1 -0.1)\">\n       <defs>\n        <path d=\"M 33.015625 40.375 \nQ 26.375 40.375 22.484375 35.828125 \nQ 18.609375 31.296875 18.609375 23.390625 \nQ 18.609375 15.53125 22.484375 10.953125 \nQ 26.375 6.390625 33.015625 6.390625 \nQ 39.65625 6.390625 43.53125 10.953125 \nQ 47.40625 15.53125 47.40625 23.390625 \nQ 47.40625 31.296875 43.53125 35.828125 \nQ 39.65625 40.375 33.015625 40.375 \nz\nM 52.59375 71.296875 \nL 52.59375 62.3125 \nQ 48.875 64.0625 45.09375 64.984375 \nQ 41.3125 65.921875 37.59375 65.921875 \nQ 27.828125 65.921875 22.671875 59.328125 \nQ 17.53125 52.734375 16.796875 39.40625 \nQ 19.671875 43.65625 24.015625 45.921875 \nQ 28.375 48.1875 33.59375 48.1875 \nQ 44.578125 48.1875 50.953125 41.515625 \nQ 57.328125 34.859375 57.328125 23.390625 \nQ 57.328125 12.15625 50.6875 5.359375 \nQ 44.046875 -1.421875 33.015625 -1.421875 \nQ 20.359375 -1.421875 13.671875 8.265625 \nQ 6.984375 17.96875 6.984375 36.375 \nQ 6.984375 53.65625 15.1875 63.9375 \nQ 23.390625 74.21875 37.203125 74.21875 \nQ 40.921875 74.21875 44.703125 73.484375 \nQ 48.484375 72.75 52.59375 71.296875 \nz\n\" id=\"DejaVuSans-54\"/>\n       </defs>\n       <use xlink:href=\"#DejaVuSans-54\"/>\n      </g>\n     </g>\n    </g>\n    <g id=\"xtick_3\">\n     <g id=\"line2d_3\">\n      <g>\n       <use style=\"stroke:#000000;stroke-width:0.8;\" x=\"265.962536\" xlink:href=\"#m194b1d42ca\" y=\"505.2\"/>\n      </g>\n     </g>\n     <g id=\"text_3\">\n      <!-- 7 -->\n      <g transform=\"translate(262.781286 519.798437)scale(0.1 -0.1)\">\n       <defs>\n        <path d=\"M 8.203125 72.90625 \nL 55.078125 72.90625 \nL 55.078125 68.703125 \nL 28.609375 0 \nL 18.3125 0 \nL 43.21875 64.59375 \nL 8.203125 64.59375 \nz\n\" id=\"DejaVuSans-55\"/>\n       </defs>\n       <use xlink:href=\"#DejaVuSans-55\"/>\n      </g>\n     </g>\n    </g>\n    <g id=\"xtick_4\">\n     <g id=\"line2d_4\">\n      <g>\n       <use style=\"stroke:#000000;stroke-width:0.8;\" x=\"358.193941\" xlink:href=\"#m194b1d42ca\" y=\"505.2\"/>\n      </g>\n     </g>\n     <g id=\"text_4\">\n      <!-- 8 -->\n      <g transform=\"translate(355.012691 519.798437)scale(0.1 -0.1)\">\n       <defs>\n        <path d=\"M 31.78125 34.625 \nQ 24.75 34.625 20.71875 30.859375 \nQ 16.703125 27.09375 16.703125 20.515625 \nQ 16.703125 13.921875 20.71875 10.15625 \nQ 24.75 6.390625 31.78125 6.390625 \nQ 38.8125 6.390625 42.859375 10.171875 \nQ 46.921875 13.96875 46.921875 20.515625 \nQ 46.921875 27.09375 42.890625 30.859375 \nQ 38.875 34.625 31.78125 34.625 \nz\nM 21.921875 38.8125 \nQ 15.578125 40.375 12.03125 44.71875 \nQ 8.5 49.078125 8.5 55.328125 \nQ 8.5 64.0625 14.71875 69.140625 \nQ 20.953125 74.21875 31.78125 74.21875 \nQ 42.671875 74.21875 48.875 69.140625 \nQ 55.078125 64.0625 55.078125 55.328125 \nQ 55.078125 49.078125 51.53125 44.71875 \nQ 48 40.375 41.703125 38.8125 \nQ 48.828125 37.15625 52.796875 32.3125 \nQ 56.78125 27.484375 56.78125 20.515625 \nQ 56.78125 9.90625 50.3125 4.234375 \nQ 43.84375 -1.421875 31.78125 -1.421875 \nQ 19.734375 -1.421875 13.25 4.234375 \nQ 6.78125 9.90625 6.78125 20.515625 \nQ 6.78125 27.484375 10.78125 32.3125 \nQ 14.796875 37.15625 21.921875 38.8125 \nz\nM 18.3125 54.390625 \nQ 18.3125 48.734375 21.84375 45.5625 \nQ 25.390625 42.390625 31.78125 42.390625 \nQ 38.140625 42.390625 41.71875 45.5625 \nQ 45.3125 48.734375 45.3125 54.390625 \nQ 45.3125 60.0625 41.71875 63.234375 \nQ 38.140625 66.40625 31.78125 66.40625 \nQ 25.390625 66.40625 21.84375 63.234375 \nQ 18.3125 60.0625 18.3125 54.390625 \nz\n\" id=\"DejaVuSans-56\"/>\n       </defs>\n       <use xlink:href=\"#DejaVuSans-56\"/>\n      </g>\n     </g>\n    </g>\n    <g id=\"xtick_5\">\n     <g id=\"line2d_5\">\n      <g>\n       <use style=\"stroke:#000000;stroke-width:0.8;\" x=\"450.425346\" xlink:href=\"#m194b1d42ca\" y=\"505.2\"/>\n      </g>\n     </g>\n     <g id=\"text_5\">\n      <!-- 9 -->\n      <g transform=\"translate(447.244096 519.798437)scale(0.1 -0.1)\">\n       <defs>\n        <path d=\"M 10.984375 1.515625 \nL 10.984375 10.5 \nQ 14.703125 8.734375 18.5 7.8125 \nQ 22.3125 6.890625 25.984375 6.890625 \nQ 35.75 6.890625 40.890625 13.453125 \nQ 46.046875 20.015625 46.78125 33.40625 \nQ 43.953125 29.203125 39.59375 26.953125 \nQ 35.25 24.703125 29.984375 24.703125 \nQ 19.046875 24.703125 12.671875 31.3125 \nQ 6.296875 37.9375 6.296875 49.421875 \nQ 6.296875 60.640625 12.9375 67.421875 \nQ 19.578125 74.21875 30.609375 74.21875 \nQ 43.265625 74.21875 49.921875 64.515625 \nQ 56.59375 54.828125 56.59375 36.375 \nQ 56.59375 19.140625 48.40625 8.859375 \nQ 40.234375 -1.421875 26.421875 -1.421875 \nQ 22.703125 -1.421875 18.890625 -0.6875 \nQ 15.09375 0.046875 10.984375 1.515625 \nz\nM 30.609375 32.421875 \nQ 37.25 32.421875 41.125 36.953125 \nQ 45.015625 41.5 45.015625 49.421875 \nQ 45.015625 57.28125 41.125 61.84375 \nQ 37.25 66.40625 30.609375 66.40625 \nQ 23.96875 66.40625 20.09375 61.84375 \nQ 16.21875 57.28125 16.21875 49.421875 \nQ 16.21875 41.5 20.09375 36.953125 \nQ 23.96875 32.421875 30.609375 32.421875 \nz\n\" id=\"DejaVuSans-57\"/>\n       </defs>\n       <use xlink:href=\"#DejaVuSans-57\"/>\n      </g>\n     </g>\n    </g>\n    <g id=\"xtick_6\">\n     <g id=\"line2d_6\">\n      <g>\n       <use style=\"stroke:#000000;stroke-width:0.8;\" x=\"542.656751\" xlink:href=\"#m194b1d42ca\" y=\"505.2\"/>\n      </g>\n     </g>\n     <g id=\"text_6\">\n      <!-- 10 -->\n      <g transform=\"translate(536.294251 519.798437)scale(0.1 -0.1)\">\n       <defs>\n        <path d=\"M 12.40625 8.296875 \nL 28.515625 8.296875 \nL 28.515625 63.921875 \nL 10.984375 60.40625 \nL 10.984375 69.390625 \nL 28.421875 72.90625 \nL 38.28125 72.90625 \nL 38.28125 8.296875 \nL 54.390625 8.296875 \nL 54.390625 0 \nL 12.40625 0 \nz\n\" id=\"DejaVuSans-49\"/>\n        <path d=\"M 31.78125 66.40625 \nQ 24.171875 66.40625 20.328125 58.90625 \nQ 16.5 51.421875 16.5 36.375 \nQ 16.5 21.390625 20.328125 13.890625 \nQ 24.171875 6.390625 31.78125 6.390625 \nQ 39.453125 6.390625 43.28125 13.890625 \nQ 47.125 21.390625 47.125 36.375 \nQ 47.125 51.421875 43.28125 58.90625 \nQ 39.453125 66.40625 31.78125 66.40625 \nz\nM 31.78125 74.21875 \nQ 44.046875 74.21875 50.515625 64.515625 \nQ 56.984375 54.828125 56.984375 36.375 \nQ 56.984375 17.96875 50.515625 8.265625 \nQ 44.046875 -1.421875 31.78125 -1.421875 \nQ 19.53125 -1.421875 13.0625 8.265625 \nQ 6.59375 17.96875 6.59375 36.375 \nQ 6.59375 54.828125 13.0625 64.515625 \nQ 19.53125 74.21875 31.78125 74.21875 \nz\n\" id=\"DejaVuSans-48\"/>\n       </defs>\n       <use xlink:href=\"#DejaVuSans-49\"/>\n       <use x=\"63.623047\" xlink:href=\"#DejaVuSans-48\"/>\n      </g>\n     </g>\n    </g>\n    <g id=\"text_7\">\n     <!-- minimum frequency of words (vocabulary) -->\n     <g transform=\"translate(184.375739 534.99625)scale(0.12 -0.12)\">\n      <defs>\n       <path d=\"M 52 44.1875 \nQ 55.375 50.25 60.0625 53.125 \nQ 64.75 56 71.09375 56 \nQ 79.640625 56 84.28125 50.015625 \nQ 88.921875 44.046875 88.921875 33.015625 \nL 88.921875 0 \nL 79.890625 0 \nL 79.890625 32.71875 \nQ 79.890625 40.578125 77.09375 44.375 \nQ 74.3125 48.1875 68.609375 48.1875 \nQ 61.625 48.1875 57.5625 43.546875 \nQ 53.515625 38.921875 53.515625 30.90625 \nL 53.515625 0 \nL 44.484375 0 \nL 44.484375 32.71875 \nQ 44.484375 40.625 41.703125 44.40625 \nQ 38.921875 48.1875 33.109375 48.1875 \nQ 26.21875 48.1875 22.15625 43.53125 \nQ 18.109375 38.875 18.109375 30.90625 \nL 18.109375 0 \nL 9.078125 0 \nL 9.078125 54.6875 \nL 18.109375 54.6875 \nL 18.109375 46.1875 \nQ 21.1875 51.21875 25.484375 53.609375 \nQ 29.78125 56 35.6875 56 \nQ 41.65625 56 45.828125 52.96875 \nQ 50 49.953125 52 44.1875 \nz\n\" id=\"DejaVuSans-109\"/>\n       <path d=\"M 9.421875 54.6875 \nL 18.40625 54.6875 \nL 18.40625 0 \nL 9.421875 0 \nz\nM 9.421875 75.984375 \nL 18.40625 75.984375 \nL 18.40625 64.59375 \nL 9.421875 64.59375 \nz\n\" id=\"DejaVuSans-105\"/>\n       <path d=\"M 54.890625 33.015625 \nL 54.890625 0 \nL 45.90625 0 \nL 45.90625 32.71875 \nQ 45.90625 40.484375 42.875 44.328125 \nQ 39.84375 48.1875 33.796875 48.1875 \nQ 26.515625 48.1875 22.3125 43.546875 \nQ 18.109375 38.921875 18.109375 30.90625 \nL 18.109375 0 \nL 9.078125 0 \nL 9.078125 54.6875 \nL 18.109375 54.6875 \nL 18.109375 46.1875 \nQ 21.34375 51.125 25.703125 53.5625 \nQ 30.078125 56 35.796875 56 \nQ 45.21875 56 50.046875 50.171875 \nQ 54.890625 44.34375 54.890625 33.015625 \nz\n\" id=\"DejaVuSans-110\"/>\n       <path d=\"M 8.5 21.578125 \nL 8.5 54.6875 \nL 17.484375 54.6875 \nL 17.484375 21.921875 \nQ 17.484375 14.15625 20.5 10.265625 \nQ 23.53125 6.390625 29.59375 6.390625 \nQ 36.859375 6.390625 41.078125 11.03125 \nQ 45.3125 15.671875 45.3125 23.6875 \nL 45.3125 54.6875 \nL 54.296875 54.6875 \nL 54.296875 0 \nL 45.3125 0 \nL 45.3125 8.40625 \nQ 42.046875 3.421875 37.71875 1 \nQ 33.40625 -1.421875 27.6875 -1.421875 \nQ 18.265625 -1.421875 13.375 4.4375 \nQ 8.5 10.296875 8.5 21.578125 \nz\nM 31.109375 56 \nz\n\" id=\"DejaVuSans-117\"/>\n       <path id=\"DejaVuSans-32\"/>\n       <path d=\"M 37.109375 75.984375 \nL 37.109375 68.5 \nL 28.515625 68.5 \nQ 23.6875 68.5 21.796875 66.546875 \nQ 19.921875 64.59375 19.921875 59.515625 \nL 19.921875 54.6875 \nL 34.71875 54.6875 \nL 34.71875 47.703125 \nL 19.921875 47.703125 \nL 19.921875 0 \nL 10.890625 0 \nL 10.890625 47.703125 \nL 2.296875 47.703125 \nL 2.296875 54.6875 \nL 10.890625 54.6875 \nL 10.890625 58.5 \nQ 10.890625 67.625 15.140625 71.796875 \nQ 19.390625 75.984375 28.609375 75.984375 \nz\n\" id=\"DejaVuSans-102\"/>\n       <path d=\"M 41.109375 46.296875 \nQ 39.59375 47.171875 37.8125 47.578125 \nQ 36.03125 48 33.890625 48 \nQ 26.265625 48 22.1875 43.046875 \nQ 18.109375 38.09375 18.109375 28.8125 \nL 18.109375 0 \nL 9.078125 0 \nL 9.078125 54.6875 \nL 18.109375 54.6875 \nL 18.109375 46.1875 \nQ 20.953125 51.171875 25.484375 53.578125 \nQ 30.03125 56 36.53125 56 \nQ 37.453125 56 38.578125 55.875 \nQ 39.703125 55.765625 41.0625 55.515625 \nz\n\" id=\"DejaVuSans-114\"/>\n       <path d=\"M 56.203125 29.59375 \nL 56.203125 25.203125 \nL 14.890625 25.203125 \nQ 15.484375 15.921875 20.484375 11.0625 \nQ 25.484375 6.203125 34.421875 6.203125 \nQ 39.59375 6.203125 44.453125 7.46875 \nQ 49.3125 8.734375 54.109375 11.28125 \nL 54.109375 2.78125 \nQ 49.265625 0.734375 44.1875 -0.34375 \nQ 39.109375 -1.421875 33.890625 -1.421875 \nQ 20.796875 -1.421875 13.15625 6.1875 \nQ 5.515625 13.8125 5.515625 26.8125 \nQ 5.515625 40.234375 12.765625 48.109375 \nQ 20.015625 56 32.328125 56 \nQ 43.359375 56 49.78125 48.890625 \nQ 56.203125 41.796875 56.203125 29.59375 \nz\nM 47.21875 32.234375 \nQ 47.125 39.59375 43.09375 43.984375 \nQ 39.0625 48.390625 32.421875 48.390625 \nQ 24.90625 48.390625 20.390625 44.140625 \nQ 15.875 39.890625 15.1875 32.171875 \nz\n\" id=\"DejaVuSans-101\"/>\n       <path d=\"M 14.796875 27.296875 \nQ 14.796875 17.390625 18.875 11.75 \nQ 22.953125 6.109375 30.078125 6.109375 \nQ 37.203125 6.109375 41.296875 11.75 \nQ 45.40625 17.390625 45.40625 27.296875 \nQ 45.40625 37.203125 41.296875 42.84375 \nQ 37.203125 48.484375 30.078125 48.484375 \nQ 22.953125 48.484375 18.875 42.84375 \nQ 14.796875 37.203125 14.796875 27.296875 \nz\nM 45.40625 8.203125 \nQ 42.578125 3.328125 38.25 0.953125 \nQ 33.9375 -1.421875 27.875 -1.421875 \nQ 17.96875 -1.421875 11.734375 6.484375 \nQ 5.515625 14.40625 5.515625 27.296875 \nQ 5.515625 40.1875 11.734375 48.09375 \nQ 17.96875 56 27.875 56 \nQ 33.9375 56 38.25 53.625 \nQ 42.578125 51.265625 45.40625 46.390625 \nL 45.40625 54.6875 \nL 54.390625 54.6875 \nL 54.390625 -20.796875 \nL 45.40625 -20.796875 \nz\n\" id=\"DejaVuSans-113\"/>\n       <path d=\"M 48.78125 52.59375 \nL 48.78125 44.1875 \nQ 44.96875 46.296875 41.140625 47.34375 \nQ 37.3125 48.390625 33.40625 48.390625 \nQ 24.65625 48.390625 19.8125 42.84375 \nQ 14.984375 37.3125 14.984375 27.296875 \nQ 14.984375 17.28125 19.8125 11.734375 \nQ 24.65625 6.203125 33.40625 6.203125 \nQ 37.3125 6.203125 41.140625 7.25 \nQ 44.96875 8.296875 48.78125 10.40625 \nL 48.78125 2.09375 \nQ 45.015625 0.34375 40.984375 -0.53125 \nQ 36.96875 -1.421875 32.421875 -1.421875 \nQ 20.0625 -1.421875 12.78125 6.34375 \nQ 5.515625 14.109375 5.515625 27.296875 \nQ 5.515625 40.671875 12.859375 48.328125 \nQ 20.21875 56 33.015625 56 \nQ 37.15625 56 41.109375 55.140625 \nQ 45.0625 54.296875 48.78125 52.59375 \nz\n\" id=\"DejaVuSans-99\"/>\n       <path d=\"M 32.171875 -5.078125 \nQ 28.375 -14.84375 24.75 -17.8125 \nQ 21.140625 -20.796875 15.09375 -20.796875 \nL 7.90625 -20.796875 \nL 7.90625 -13.28125 \nL 13.1875 -13.28125 \nQ 16.890625 -13.28125 18.9375 -11.515625 \nQ 21 -9.765625 23.484375 -3.21875 \nL 25.09375 0.875 \nL 2.984375 54.6875 \nL 12.5 54.6875 \nL 29.59375 11.921875 \nL 46.6875 54.6875 \nL 56.203125 54.6875 \nz\n\" id=\"DejaVuSans-121\"/>\n       <path d=\"M 30.609375 48.390625 \nQ 23.390625 48.390625 19.1875 42.75 \nQ 14.984375 37.109375 14.984375 27.296875 \nQ 14.984375 17.484375 19.15625 11.84375 \nQ 23.34375 6.203125 30.609375 6.203125 \nQ 37.796875 6.203125 41.984375 11.859375 \nQ 46.1875 17.53125 46.1875 27.296875 \nQ 46.1875 37.015625 41.984375 42.703125 \nQ 37.796875 48.390625 30.609375 48.390625 \nz\nM 30.609375 56 \nQ 42.328125 56 49.015625 48.375 \nQ 55.71875 40.765625 55.71875 27.296875 \nQ 55.71875 13.875 49.015625 6.21875 \nQ 42.328125 -1.421875 30.609375 -1.421875 \nQ 18.84375 -1.421875 12.171875 6.21875 \nQ 5.515625 13.875 5.515625 27.296875 \nQ 5.515625 40.765625 12.171875 48.375 \nQ 18.84375 56 30.609375 56 \nz\n\" id=\"DejaVuSans-111\"/>\n       <path d=\"M 4.203125 54.6875 \nL 13.1875 54.6875 \nL 24.421875 12.015625 \nL 35.59375 54.6875 \nL 46.1875 54.6875 \nL 57.421875 12.015625 \nL 68.609375 54.6875 \nL 77.59375 54.6875 \nL 63.28125 0 \nL 52.6875 0 \nL 40.921875 44.828125 \nL 29.109375 0 \nL 18.5 0 \nz\n\" id=\"DejaVuSans-119\"/>\n       <path d=\"M 45.40625 46.390625 \nL 45.40625 75.984375 \nL 54.390625 75.984375 \nL 54.390625 0 \nL 45.40625 0 \nL 45.40625 8.203125 \nQ 42.578125 3.328125 38.25 0.953125 \nQ 33.9375 -1.421875 27.875 -1.421875 \nQ 17.96875 -1.421875 11.734375 6.484375 \nQ 5.515625 14.40625 5.515625 27.296875 \nQ 5.515625 40.1875 11.734375 48.09375 \nQ 17.96875 56 27.875 56 \nQ 33.9375 56 38.25 53.625 \nQ 42.578125 51.265625 45.40625 46.390625 \nz\nM 14.796875 27.296875 \nQ 14.796875 17.390625 18.875 11.75 \nQ 22.953125 6.109375 30.078125 6.109375 \nQ 37.203125 6.109375 41.296875 11.75 \nQ 45.40625 17.390625 45.40625 27.296875 \nQ 45.40625 37.203125 41.296875 42.84375 \nQ 37.203125 48.484375 30.078125 48.484375 \nQ 22.953125 48.484375 18.875 42.84375 \nQ 14.796875 37.203125 14.796875 27.296875 \nz\n\" id=\"DejaVuSans-100\"/>\n       <path d=\"M 44.28125 53.078125 \nL 44.28125 44.578125 \nQ 40.484375 46.53125 36.375 47.5 \nQ 32.28125 48.484375 27.875 48.484375 \nQ 21.1875 48.484375 17.84375 46.4375 \nQ 14.5 44.390625 14.5 40.28125 \nQ 14.5 37.15625 16.890625 35.375 \nQ 19.28125 33.59375 26.515625 31.984375 \nL 29.59375 31.296875 \nQ 39.15625 29.25 43.1875 25.515625 \nQ 47.21875 21.78125 47.21875 15.09375 \nQ 47.21875 7.46875 41.1875 3.015625 \nQ 35.15625 -1.421875 24.609375 -1.421875 \nQ 20.21875 -1.421875 15.453125 -0.5625 \nQ 10.6875 0.296875 5.421875 2 \nL 5.421875 11.28125 \nQ 10.40625 8.6875 15.234375 7.390625 \nQ 20.0625 6.109375 24.8125 6.109375 \nQ 31.15625 6.109375 34.5625 8.28125 \nQ 37.984375 10.453125 37.984375 14.40625 \nQ 37.984375 18.0625 35.515625 20.015625 \nQ 33.0625 21.96875 24.703125 23.78125 \nL 21.578125 24.515625 \nQ 13.234375 26.265625 9.515625 29.90625 \nQ 5.8125 33.546875 5.8125 39.890625 \nQ 5.8125 47.609375 11.28125 51.796875 \nQ 16.75 56 26.8125 56 \nQ 31.78125 56 36.171875 55.265625 \nQ 40.578125 54.546875 44.28125 53.078125 \nz\n\" id=\"DejaVuSans-115\"/>\n       <path d=\"M 31 75.875 \nQ 24.46875 64.65625 21.28125 53.65625 \nQ 18.109375 42.671875 18.109375 31.390625 \nQ 18.109375 20.125 21.3125 9.0625 \nQ 24.515625 -2 31 -13.1875 \nL 23.1875 -13.1875 \nQ 15.875 -1.703125 12.234375 9.375 \nQ 8.59375 20.453125 8.59375 31.390625 \nQ 8.59375 42.28125 12.203125 53.3125 \nQ 15.828125 64.359375 23.1875 75.875 \nz\n\" id=\"DejaVuSans-40\"/>\n       <path d=\"M 2.984375 54.6875 \nL 12.5 54.6875 \nL 29.59375 8.796875 \nL 46.6875 54.6875 \nL 56.203125 54.6875 \nL 35.6875 0 \nL 23.484375 0 \nz\n\" id=\"DejaVuSans-118\"/>\n       <path d=\"M 34.28125 27.484375 \nQ 23.390625 27.484375 19.1875 25 \nQ 14.984375 22.515625 14.984375 16.5 \nQ 14.984375 11.71875 18.140625 8.90625 \nQ 21.296875 6.109375 26.703125 6.109375 \nQ 34.1875 6.109375 38.703125 11.40625 \nQ 43.21875 16.703125 43.21875 25.484375 \nL 43.21875 27.484375 \nz\nM 52.203125 31.203125 \nL 52.203125 0 \nL 43.21875 0 \nL 43.21875 8.296875 \nQ 40.140625 3.328125 35.546875 0.953125 \nQ 30.953125 -1.421875 24.3125 -1.421875 \nQ 15.921875 -1.421875 10.953125 3.296875 \nQ 6 8.015625 6 15.921875 \nQ 6 25.140625 12.171875 29.828125 \nQ 18.359375 34.515625 30.609375 34.515625 \nL 43.21875 34.515625 \nL 43.21875 35.40625 \nQ 43.21875 41.609375 39.140625 45 \nQ 35.0625 48.390625 27.6875 48.390625 \nQ 23 48.390625 18.546875 47.265625 \nQ 14.109375 46.140625 10.015625 43.890625 \nL 10.015625 52.203125 \nQ 14.9375 54.109375 19.578125 55.046875 \nQ 24.21875 56 28.609375 56 \nQ 40.484375 56 46.34375 49.84375 \nQ 52.203125 43.703125 52.203125 31.203125 \nz\n\" id=\"DejaVuSans-97\"/>\n       <path d=\"M 48.6875 27.296875 \nQ 48.6875 37.203125 44.609375 42.84375 \nQ 40.53125 48.484375 33.40625 48.484375 \nQ 26.265625 48.484375 22.1875 42.84375 \nQ 18.109375 37.203125 18.109375 27.296875 \nQ 18.109375 17.390625 22.1875 11.75 \nQ 26.265625 6.109375 33.40625 6.109375 \nQ 40.53125 6.109375 44.609375 11.75 \nQ 48.6875 17.390625 48.6875 27.296875 \nz\nM 18.109375 46.390625 \nQ 20.953125 51.265625 25.265625 53.625 \nQ 29.59375 56 35.59375 56 \nQ 45.5625 56 51.78125 48.09375 \nQ 58.015625 40.1875 58.015625 27.296875 \nQ 58.015625 14.40625 51.78125 6.484375 \nQ 45.5625 -1.421875 35.59375 -1.421875 \nQ 29.59375 -1.421875 25.265625 0.953125 \nQ 20.953125 3.328125 18.109375 8.203125 \nL 18.109375 0 \nL 9.078125 0 \nL 9.078125 75.984375 \nL 18.109375 75.984375 \nz\n\" id=\"DejaVuSans-98\"/>\n       <path d=\"M 9.421875 75.984375 \nL 18.40625 75.984375 \nL 18.40625 0 \nL 9.421875 0 \nz\n\" id=\"DejaVuSans-108\"/>\n       <path d=\"M 8.015625 75.875 \nL 15.828125 75.875 \nQ 23.140625 64.359375 26.78125 53.3125 \nQ 30.421875 42.28125 30.421875 31.390625 \nQ 30.421875 20.453125 26.78125 9.375 \nQ 23.140625 -1.703125 15.828125 -13.1875 \nL 8.015625 -13.1875 \nQ 14.5 -2 17.703125 9.0625 \nQ 20.90625 20.125 20.90625 31.390625 \nQ 20.90625 42.671875 17.703125 53.65625 \nQ 14.5 64.65625 8.015625 75.875 \nz\n\" id=\"DejaVuSans-41\"/>\n      </defs>\n      <use xlink:href=\"#DejaVuSans-109\"/>\n      <use x=\"97.412109\" xlink:href=\"#DejaVuSans-105\"/>\n      <use x=\"125.195312\" xlink:href=\"#DejaVuSans-110\"/>\n      <use x=\"188.574219\" xlink:href=\"#DejaVuSans-105\"/>\n      <use x=\"216.357422\" xlink:href=\"#DejaVuSans-109\"/>\n      <use x=\"313.769531\" xlink:href=\"#DejaVuSans-117\"/>\n      <use x=\"377.148438\" xlink:href=\"#DejaVuSans-109\"/>\n      <use x=\"474.560547\" xlink:href=\"#DejaVuSans-32\"/>\n      <use x=\"506.347656\" xlink:href=\"#DejaVuSans-102\"/>\n      <use x=\"541.552734\" xlink:href=\"#DejaVuSans-114\"/>\n      <use x=\"580.416016\" xlink:href=\"#DejaVuSans-101\"/>\n      <use x=\"641.939453\" xlink:href=\"#DejaVuSans-113\"/>\n      <use x=\"705.416016\" xlink:href=\"#DejaVuSans-117\"/>\n      <use x=\"768.794922\" xlink:href=\"#DejaVuSans-101\"/>\n      <use x=\"830.318359\" xlink:href=\"#DejaVuSans-110\"/>\n      <use x=\"893.697266\" xlink:href=\"#DejaVuSans-99\"/>\n      <use x=\"948.677734\" xlink:href=\"#DejaVuSans-121\"/>\n      <use x=\"1007.857422\" xlink:href=\"#DejaVuSans-32\"/>\n      <use x=\"1039.644531\" xlink:href=\"#DejaVuSans-111\"/>\n      <use x=\"1100.826172\" xlink:href=\"#DejaVuSans-102\"/>\n      <use x=\"1136.03125\" xlink:href=\"#DejaVuSans-32\"/>\n      <use x=\"1167.818359\" xlink:href=\"#DejaVuSans-119\"/>\n      <use x=\"1249.605469\" xlink:href=\"#DejaVuSans-111\"/>\n      <use x=\"1310.787109\" xlink:href=\"#DejaVuSans-114\"/>\n      <use x=\"1350.150391\" xlink:href=\"#DejaVuSans-100\"/>\n      <use x=\"1413.626953\" xlink:href=\"#DejaVuSans-115\"/>\n      <use x=\"1465.726562\" xlink:href=\"#DejaVuSans-32\"/>\n      <use x=\"1497.513672\" xlink:href=\"#DejaVuSans-40\"/>\n      <use x=\"1536.527344\" xlink:href=\"#DejaVuSans-118\"/>\n      <use x=\"1595.707031\" xlink:href=\"#DejaVuSans-111\"/>\n      <use x=\"1656.888672\" xlink:href=\"#DejaVuSans-99\"/>\n      <use x=\"1711.869141\" xlink:href=\"#DejaVuSans-97\"/>\n      <use x=\"1773.148438\" xlink:href=\"#DejaVuSans-98\"/>\n      <use x=\"1836.625\" xlink:href=\"#DejaVuSans-117\"/>\n      <use x=\"1900.003906\" xlink:href=\"#DejaVuSans-108\"/>\n      <use x=\"1927.787109\" xlink:href=\"#DejaVuSans-97\"/>\n      <use x=\"1989.066406\" xlink:href=\"#DejaVuSans-114\"/>\n      <use x=\"2030.179688\" xlink:href=\"#DejaVuSans-121\"/>\n      <use x=\"2089.359375\" xlink:href=\"#DejaVuSans-41\"/>\n     </g>\n    </g>\n   </g>\n   <g id=\"matplotlib.axis_2\">\n    <g id=\"ytick_1\">\n     <g id=\"line2d_7\">\n      <defs>\n       <path d=\"M 0 0 \nL -3.5 0 \n\" id=\"m778e23ba05\" style=\"stroke:#000000;stroke-width:0.8;\"/>\n      </defs>\n      <g>\n       <use style=\"stroke:#000000;stroke-width:0.8;\" x=\"58.441875\" xlink:href=\"#m778e23ba05\" y=\"498.255446\"/>\n      </g>\n     </g>\n     <g id=\"text_8\">\n      <!-- 0.676 -->\n      <g transform=\"translate(22.81375 502.054665)scale(0.1 -0.1)\">\n       <defs>\n        <path d=\"M 10.6875 12.40625 \nL 21 12.40625 \nL 21 0 \nL 10.6875 0 \nz\n\" id=\"DejaVuSans-46\"/>\n       </defs>\n       <use xlink:href=\"#DejaVuSans-48\"/>\n       <use x=\"63.623047\" xlink:href=\"#DejaVuSans-46\"/>\n       <use x=\"95.410156\" xlink:href=\"#DejaVuSans-54\"/>\n       <use x=\"159.033203\" xlink:href=\"#DejaVuSans-55\"/>\n       <use x=\"222.65625\" xlink:href=\"#DejaVuSans-54\"/>\n      </g>\n     </g>\n    </g>\n    <g id=\"ytick_2\">\n     <g id=\"line2d_8\">\n      <g>\n       <use style=\"stroke:#000000;stroke-width:0.8;\" x=\"58.441875\" xlink:href=\"#m778e23ba05\" y=\"416.979786\"/>\n      </g>\n     </g>\n     <g id=\"text_9\">\n      <!-- 0.678 -->\n      <g transform=\"translate(22.81375 420.779005)scale(0.1 -0.1)\">\n       <use xlink:href=\"#DejaVuSans-48\"/>\n       <use x=\"63.623047\" xlink:href=\"#DejaVuSans-46\"/>\n       <use x=\"95.410156\" xlink:href=\"#DejaVuSans-54\"/>\n       <use x=\"159.033203\" xlink:href=\"#DejaVuSans-55\"/>\n       <use x=\"222.65625\" xlink:href=\"#DejaVuSans-56\"/>\n      </g>\n     </g>\n    </g>\n    <g id=\"ytick_3\">\n     <g id=\"line2d_9\">\n      <g>\n       <use style=\"stroke:#000000;stroke-width:0.8;\" x=\"58.441875\" xlink:href=\"#m778e23ba05\" y=\"335.704126\"/>\n      </g>\n     </g>\n     <g id=\"text_10\">\n      <!-- 0.680 -->\n      <g transform=\"translate(22.81375 339.503344)scale(0.1 -0.1)\">\n       <use xlink:href=\"#DejaVuSans-48\"/>\n       <use x=\"63.623047\" xlink:href=\"#DejaVuSans-46\"/>\n       <use x=\"95.410156\" xlink:href=\"#DejaVuSans-54\"/>\n       <use x=\"159.033203\" xlink:href=\"#DejaVuSans-56\"/>\n       <use x=\"222.65625\" xlink:href=\"#DejaVuSans-48\"/>\n      </g>\n     </g>\n    </g>\n    <g id=\"ytick_4\">\n     <g id=\"line2d_10\">\n      <g>\n       <use style=\"stroke:#000000;stroke-width:0.8;\" x=\"58.441875\" xlink:href=\"#m778e23ba05\" y=\"254.428466\"/>\n      </g>\n     </g>\n     <g id=\"text_11\">\n      <!-- 0.682 -->\n      <g transform=\"translate(22.81375 258.227684)scale(0.1 -0.1)\">\n       <defs>\n        <path d=\"M 19.1875 8.296875 \nL 53.609375 8.296875 \nL 53.609375 0 \nL 7.328125 0 \nL 7.328125 8.296875 \nQ 12.9375 14.109375 22.625 23.890625 \nQ 32.328125 33.6875 34.8125 36.53125 \nQ 39.546875 41.84375 41.421875 45.53125 \nQ 43.3125 49.21875 43.3125 52.78125 \nQ 43.3125 58.59375 39.234375 62.25 \nQ 35.15625 65.921875 28.609375 65.921875 \nQ 23.96875 65.921875 18.8125 64.3125 \nQ 13.671875 62.703125 7.8125 59.421875 \nL 7.8125 69.390625 \nQ 13.765625 71.78125 18.9375 73 \nQ 24.125 74.21875 28.421875 74.21875 \nQ 39.75 74.21875 46.484375 68.546875 \nQ 53.21875 62.890625 53.21875 53.421875 \nQ 53.21875 48.921875 51.53125 44.890625 \nQ 49.859375 40.875 45.40625 35.40625 \nQ 44.1875 33.984375 37.640625 27.21875 \nQ 31.109375 20.453125 19.1875 8.296875 \nz\n\" id=\"DejaVuSans-50\"/>\n       </defs>\n       <use xlink:href=\"#DejaVuSans-48\"/>\n       <use x=\"63.623047\" xlink:href=\"#DejaVuSans-46\"/>\n       <use x=\"95.410156\" xlink:href=\"#DejaVuSans-54\"/>\n       <use x=\"159.033203\" xlink:href=\"#DejaVuSans-56\"/>\n       <use x=\"222.65625\" xlink:href=\"#DejaVuSans-50\"/>\n      </g>\n     </g>\n    </g>\n    <g id=\"ytick_5\">\n     <g id=\"line2d_11\">\n      <g>\n       <use style=\"stroke:#000000;stroke-width:0.8;\" x=\"58.441875\" xlink:href=\"#m778e23ba05\" y=\"173.152806\"/>\n      </g>\n     </g>\n     <g id=\"text_12\">\n      <!-- 0.684 -->\n      <g transform=\"translate(22.81375 176.952024)scale(0.1 -0.1)\">\n       <defs>\n        <path d=\"M 37.796875 64.3125 \nL 12.890625 25.390625 \nL 37.796875 25.390625 \nz\nM 35.203125 72.90625 \nL 47.609375 72.90625 \nL 47.609375 25.390625 \nL 58.015625 25.390625 \nL 58.015625 17.1875 \nL 47.609375 17.1875 \nL 47.609375 0 \nL 37.796875 0 \nL 37.796875 17.1875 \nL 4.890625 17.1875 \nL 4.890625 26.703125 \nz\n\" id=\"DejaVuSans-52\"/>\n       </defs>\n       <use xlink:href=\"#DejaVuSans-48\"/>\n       <use x=\"63.623047\" xlink:href=\"#DejaVuSans-46\"/>\n       <use x=\"95.410156\" xlink:href=\"#DejaVuSans-54\"/>\n       <use x=\"159.033203\" xlink:href=\"#DejaVuSans-56\"/>\n       <use x=\"222.65625\" xlink:href=\"#DejaVuSans-52\"/>\n      </g>\n     </g>\n    </g>\n    <g id=\"ytick_6\">\n     <g id=\"line2d_12\">\n      <g>\n       <use style=\"stroke:#000000;stroke-width:0.8;\" x=\"58.441875\" xlink:href=\"#m778e23ba05\" y=\"91.877145\"/>\n      </g>\n     </g>\n     <g id=\"text_13\">\n      <!-- 0.686 -->\n      <g transform=\"translate(22.81375 95.676364)scale(0.1 -0.1)\">\n       <use xlink:href=\"#DejaVuSans-48\"/>\n       <use x=\"63.623047\" xlink:href=\"#DejaVuSans-46\"/>\n       <use x=\"95.410156\" xlink:href=\"#DejaVuSans-54\"/>\n       <use x=\"159.033203\" xlink:href=\"#DejaVuSans-56\"/>\n       <use x=\"222.65625\" xlink:href=\"#DejaVuSans-54\"/>\n      </g>\n     </g>\n    </g>\n    <g id=\"text_14\">\n     <!-- loss -->\n     <g transform=\"translate(16.318125 299.349375)rotate(-90)scale(0.12 -0.12)\">\n      <use xlink:href=\"#DejaVuSans-108\"/>\n      <use x=\"27.783203\" xlink:href=\"#DejaVuSans-111\"/>\n      <use x=\"88.964844\" xlink:href=\"#DejaVuSans-115\"/>\n      <use x=\"141.064453\" xlink:href=\"#DejaVuSans-115\"/>\n     </g>\n    </g>\n   </g>\n   <g id=\"line2d_13\">\n    <path clip-path=\"url(#p65853f4e39)\" d=\"M 81.499726 276.574143 \nL 542.656751 90.087273 \n\" style=\"fill:none;stroke:#1f77b4;stroke-linecap:square;stroke-width:1.5;\"/>\n   </g>\n   <g id=\"line2d_14\">\n    <path clip-path=\"url(#p65853f4e39)\" d=\"M 81.499726 161.834609 \nL 542.656751 112.634959 \n\" style=\"fill:none;stroke:#ff7f0e;stroke-linecap:square;stroke-width:1.5;\"/>\n   </g>\n   <g id=\"line2d_15\">\n    <path clip-path=\"url(#p65853f4e39)\" d=\"M 81.499726 485.432727 \nL 542.656751 400.294941 \n\" style=\"fill:none;stroke:#2ca02c;stroke-linecap:square;stroke-width:1.5;\"/>\n   </g>\n   <g id=\"patch_3\">\n    <path d=\"M 58.441875 505.2 \nL 58.441875 70.32 \n\" style=\"fill:none;stroke:#000000;stroke-linecap:square;stroke-linejoin:miter;stroke-width:0.8;\"/>\n   </g>\n   <g id=\"patch_4\">\n    <path d=\"M 565.714602 505.2 \nL 565.714602 70.32 \n\" style=\"fill:none;stroke:#000000;stroke-linecap:square;stroke-linejoin:miter;stroke-width:0.8;\"/>\n   </g>\n   <g id=\"patch_5\">\n    <path d=\"M 58.441875 505.2 \nL 565.714602 505.2 \n\" style=\"fill:none;stroke:#000000;stroke-linecap:square;stroke-linejoin:miter;stroke-width:0.8;\"/>\n   </g>\n   <g id=\"patch_6\">\n    <path d=\"M 58.441875 70.32 \nL 565.714602 70.32 \n\" style=\"fill:none;stroke:#000000;stroke-linecap:square;stroke-linejoin:miter;stroke-width:0.8;\"/>\n   </g>\n  </g>\n  <g id=\"axes_2\">\n   <g id=\"patch_7\">\n    <path d=\"M 667.169148 505.2 \nL 1174.441875 505.2 \nL 1174.441875 70.32 \nL 667.169148 70.32 \nz\n\" style=\"fill:#ffffff;\"/>\n   </g>\n   <g id=\"matplotlib.axis_3\">\n    <g id=\"xtick_7\">\n     <g id=\"line2d_16\">\n      <g>\n       <use style=\"stroke:#000000;stroke-width:0.8;\" x=\"690.226999\" xlink:href=\"#m194b1d42ca\" y=\"505.2\"/>\n      </g>\n     </g>\n     <g id=\"text_15\">\n      <!-- 5 -->\n      <g transform=\"translate(687.045749 519.798437)scale(0.1 -0.1)\">\n       <use xlink:href=\"#DejaVuSans-53\"/>\n      </g>\n     </g>\n    </g>\n    <g id=\"xtick_8\">\n     <g id=\"line2d_17\">\n      <g>\n       <use style=\"stroke:#000000;stroke-width:0.8;\" x=\"782.458404\" xlink:href=\"#m194b1d42ca\" y=\"505.2\"/>\n      </g>\n     </g>\n     <g id=\"text_16\">\n      <!-- 6 -->\n      <g transform=\"translate(779.277154 519.798437)scale(0.1 -0.1)\">\n       <use xlink:href=\"#DejaVuSans-54\"/>\n      </g>\n     </g>\n    </g>\n    <g id=\"xtick_9\">\n     <g id=\"line2d_18\">\n      <g>\n       <use style=\"stroke:#000000;stroke-width:0.8;\" x=\"874.689809\" xlink:href=\"#m194b1d42ca\" y=\"505.2\"/>\n      </g>\n     </g>\n     <g id=\"text_17\">\n      <!-- 7 -->\n      <g transform=\"translate(871.508559 519.798437)scale(0.1 -0.1)\">\n       <use xlink:href=\"#DejaVuSans-55\"/>\n      </g>\n     </g>\n    </g>\n    <g id=\"xtick_10\">\n     <g id=\"line2d_19\">\n      <g>\n       <use style=\"stroke:#000000;stroke-width:0.8;\" x=\"966.921214\" xlink:href=\"#m194b1d42ca\" y=\"505.2\"/>\n      </g>\n     </g>\n     <g id=\"text_18\">\n      <!-- 8 -->\n      <g transform=\"translate(963.739964 519.798437)scale(0.1 -0.1)\">\n       <use xlink:href=\"#DejaVuSans-56\"/>\n      </g>\n     </g>\n    </g>\n    <g id=\"xtick_11\">\n     <g id=\"line2d_20\">\n      <g>\n       <use style=\"stroke:#000000;stroke-width:0.8;\" x=\"1059.152619\" xlink:href=\"#m194b1d42ca\" y=\"505.2\"/>\n      </g>\n     </g>\n     <g id=\"text_19\">\n      <!-- 9 -->\n      <g transform=\"translate(1055.971369 519.798437)scale(0.1 -0.1)\">\n       <use xlink:href=\"#DejaVuSans-57\"/>\n      </g>\n     </g>\n    </g>\n    <g id=\"xtick_12\">\n     <g id=\"line2d_21\">\n      <g>\n       <use style=\"stroke:#000000;stroke-width:0.8;\" x=\"1151.384024\" xlink:href=\"#m194b1d42ca\" y=\"505.2\"/>\n      </g>\n     </g>\n     <g id=\"text_20\">\n      <!-- 10 -->\n      <g transform=\"translate(1145.021524 519.798437)scale(0.1 -0.1)\">\n       <use xlink:href=\"#DejaVuSans-49\"/>\n       <use x=\"63.623047\" xlink:href=\"#DejaVuSans-48\"/>\n      </g>\n     </g>\n    </g>\n    <g id=\"text_21\">\n     <!-- minimum frequency of words (vocabulary) -->\n     <g transform=\"translate(793.103011 534.99625)scale(0.12 -0.12)\">\n      <use xlink:href=\"#DejaVuSans-109\"/>\n      <use x=\"97.412109\" xlink:href=\"#DejaVuSans-105\"/>\n      <use x=\"125.195312\" xlink:href=\"#DejaVuSans-110\"/>\n      <use x=\"188.574219\" xlink:href=\"#DejaVuSans-105\"/>\n      <use x=\"216.357422\" xlink:href=\"#DejaVuSans-109\"/>\n      <use x=\"313.769531\" xlink:href=\"#DejaVuSans-117\"/>\n      <use x=\"377.148438\" xlink:href=\"#DejaVuSans-109\"/>\n      <use x=\"474.560547\" xlink:href=\"#DejaVuSans-32\"/>\n      <use x=\"506.347656\" xlink:href=\"#DejaVuSans-102\"/>\n      <use x=\"541.552734\" xlink:href=\"#DejaVuSans-114\"/>\n      <use x=\"580.416016\" xlink:href=\"#DejaVuSans-101\"/>\n      <use x=\"641.939453\" xlink:href=\"#DejaVuSans-113\"/>\n      <use x=\"705.416016\" xlink:href=\"#DejaVuSans-117\"/>\n      <use x=\"768.794922\" xlink:href=\"#DejaVuSans-101\"/>\n      <use x=\"830.318359\" xlink:href=\"#DejaVuSans-110\"/>\n      <use x=\"893.697266\" xlink:href=\"#DejaVuSans-99\"/>\n      <use x=\"948.677734\" xlink:href=\"#DejaVuSans-121\"/>\n      <use x=\"1007.857422\" xlink:href=\"#DejaVuSans-32\"/>\n      <use x=\"1039.644531\" xlink:href=\"#DejaVuSans-111\"/>\n      <use x=\"1100.826172\" xlink:href=\"#DejaVuSans-102\"/>\n      <use x=\"1136.03125\" xlink:href=\"#DejaVuSans-32\"/>\n      <use x=\"1167.818359\" xlink:href=\"#DejaVuSans-119\"/>\n      <use x=\"1249.605469\" xlink:href=\"#DejaVuSans-111\"/>\n      <use x=\"1310.787109\" xlink:href=\"#DejaVuSans-114\"/>\n      <use x=\"1350.150391\" xlink:href=\"#DejaVuSans-100\"/>\n      <use x=\"1413.626953\" xlink:href=\"#DejaVuSans-115\"/>\n      <use x=\"1465.726562\" xlink:href=\"#DejaVuSans-32\"/>\n      <use x=\"1497.513672\" xlink:href=\"#DejaVuSans-40\"/>\n      <use x=\"1536.527344\" xlink:href=\"#DejaVuSans-118\"/>\n      <use x=\"1595.707031\" xlink:href=\"#DejaVuSans-111\"/>\n      <use x=\"1656.888672\" xlink:href=\"#DejaVuSans-99\"/>\n      <use x=\"1711.869141\" xlink:href=\"#DejaVuSans-97\"/>\n      <use x=\"1773.148438\" xlink:href=\"#DejaVuSans-98\"/>\n      <use x=\"1836.625\" xlink:href=\"#DejaVuSans-117\"/>\n      <use x=\"1900.003906\" xlink:href=\"#DejaVuSans-108\"/>\n      <use x=\"1927.787109\" xlink:href=\"#DejaVuSans-97\"/>\n      <use x=\"1989.066406\" xlink:href=\"#DejaVuSans-114\"/>\n      <use x=\"2030.179688\" xlink:href=\"#DejaVuSans-121\"/>\n      <use x=\"2089.359375\" xlink:href=\"#DejaVuSans-41\"/>\n     </g>\n    </g>\n   </g>\n   <g id=\"matplotlib.axis_4\">\n    <g id=\"ytick_7\">\n     <g id=\"line2d_22\">\n      <g>\n       <use style=\"stroke:#000000;stroke-width:0.8;\" x=\"667.169148\" xlink:href=\"#m778e23ba05\" y=\"443.074286\"/>\n      </g>\n     </g>\n     <g id=\"text_22\">\n      <!-- 54 -->\n      <g transform=\"translate(647.444148 446.873504)scale(0.1 -0.1)\">\n       <use xlink:href=\"#DejaVuSans-53\"/>\n       <use x=\"63.623047\" xlink:href=\"#DejaVuSans-52\"/>\n      </g>\n     </g>\n    </g>\n    <g id=\"ytick_8\">\n     <g id=\"line2d_23\">\n      <g>\n       <use style=\"stroke:#000000;stroke-width:0.8;\" x=\"667.169148\" xlink:href=\"#m778e23ba05\" y=\"372.476883\"/>\n      </g>\n     </g>\n     <g id=\"text_23\">\n      <!-- 56 -->\n      <g transform=\"translate(647.444148 376.276102)scale(0.1 -0.1)\">\n       <use xlink:href=\"#DejaVuSans-53\"/>\n       <use x=\"63.623047\" xlink:href=\"#DejaVuSans-54\"/>\n      </g>\n     </g>\n    </g>\n    <g id=\"ytick_9\">\n     <g id=\"line2d_24\">\n      <g>\n       <use style=\"stroke:#000000;stroke-width:0.8;\" x=\"667.169148\" xlink:href=\"#m778e23ba05\" y=\"301.879481\"/>\n      </g>\n     </g>\n     <g id=\"text_24\">\n      <!-- 58 -->\n      <g transform=\"translate(647.444148 305.678699)scale(0.1 -0.1)\">\n       <use xlink:href=\"#DejaVuSans-53\"/>\n       <use x=\"63.623047\" xlink:href=\"#DejaVuSans-56\"/>\n      </g>\n     </g>\n    </g>\n    <g id=\"ytick_10\">\n     <g id=\"line2d_25\">\n      <g>\n       <use style=\"stroke:#000000;stroke-width:0.8;\" x=\"667.169148\" xlink:href=\"#m778e23ba05\" y=\"231.282078\"/>\n      </g>\n     </g>\n     <g id=\"text_25\">\n      <!-- 60 -->\n      <g transform=\"translate(647.444148 235.081297)scale(0.1 -0.1)\">\n       <use xlink:href=\"#DejaVuSans-54\"/>\n       <use x=\"63.623047\" xlink:href=\"#DejaVuSans-48\"/>\n      </g>\n     </g>\n    </g>\n    <g id=\"ytick_11\">\n     <g id=\"line2d_26\">\n      <g>\n       <use style=\"stroke:#000000;stroke-width:0.8;\" x=\"667.169148\" xlink:href=\"#m778e23ba05\" y=\"160.684675\"/>\n      </g>\n     </g>\n     <g id=\"text_26\">\n      <!-- 62 -->\n      <g transform=\"translate(647.444148 164.483894)scale(0.1 -0.1)\">\n       <use xlink:href=\"#DejaVuSans-54\"/>\n       <use x=\"63.623047\" xlink:href=\"#DejaVuSans-50\"/>\n      </g>\n     </g>\n    </g>\n    <g id=\"ytick_12\">\n     <g id=\"line2d_27\">\n      <g>\n       <use style=\"stroke:#000000;stroke-width:0.8;\" x=\"667.169148\" xlink:href=\"#m778e23ba05\" y=\"90.087273\"/>\n      </g>\n     </g>\n     <g id=\"text_27\">\n      <!-- 64 -->\n      <g transform=\"translate(647.444148 93.886491)scale(0.1 -0.1)\">\n       <use xlink:href=\"#DejaVuSans-54\"/>\n       <use x=\"63.623047\" xlink:href=\"#DejaVuSans-52\"/>\n      </g>\n     </g>\n    </g>\n    <g id=\"text_28\">\n     <!-- accuracy -->\n     <g transform=\"translate(640.948523 314.83125)rotate(-90)scale(0.12 -0.12)\">\n      <use xlink:href=\"#DejaVuSans-97\"/>\n      <use x=\"61.279297\" xlink:href=\"#DejaVuSans-99\"/>\n      <use x=\"116.259766\" xlink:href=\"#DejaVuSans-99\"/>\n      <use x=\"171.240234\" xlink:href=\"#DejaVuSans-117\"/>\n      <use x=\"234.619141\" xlink:href=\"#DejaVuSans-114\"/>\n      <use x=\"275.732422\" xlink:href=\"#DejaVuSans-97\"/>\n      <use x=\"337.011719\" xlink:href=\"#DejaVuSans-99\"/>\n      <use x=\"391.992188\" xlink:href=\"#DejaVuSans-121\"/>\n     </g>\n    </g>\n   </g>\n   <g id=\"line2d_28\">\n    <path clip-path=\"url(#p723def20c4)\" d=\"M 690.226999 265.168831 \nL 1151.384024 485.432727 \n\" style=\"fill:none;stroke:#1f77b4;stroke-linecap:square;stroke-width:1.5;\"/>\n   </g>\n   <g id=\"line2d_29\">\n    <path clip-path=\"url(#p723def20c4)\" d=\"M 690.226999 299.055584 \nL 1151.384024 330.118442 \n\" style=\"fill:none;stroke:#ff7f0e;stroke-linecap:square;stroke-width:1.5;\"/>\n   </g>\n   <g id=\"line2d_30\">\n    <path clip-path=\"url(#p723def20c4)\" d=\"M 690.226999 90.087273 \nL 1151.384024 112.678442 \n\" style=\"fill:none;stroke:#2ca02c;stroke-linecap:square;stroke-width:1.5;\"/>\n   </g>\n   <g id=\"patch_8\">\n    <path d=\"M 667.169148 505.2 \nL 667.169148 70.32 \n\" style=\"fill:none;stroke:#000000;stroke-linecap:square;stroke-linejoin:miter;stroke-width:0.8;\"/>\n   </g>\n   <g id=\"patch_9\">\n    <path d=\"M 1174.441875 505.2 \nL 1174.441875 70.32 \n\" style=\"fill:none;stroke:#000000;stroke-linecap:square;stroke-linejoin:miter;stroke-width:0.8;\"/>\n   </g>\n   <g id=\"patch_10\">\n    <path d=\"M 667.169148 505.2 \nL 1174.441875 505.2 \n\" style=\"fill:none;stroke:#000000;stroke-linecap:square;stroke-linejoin:miter;stroke-width:0.8;\"/>\n   </g>\n   <g id=\"patch_11\">\n    <path d=\"M 667.169148 70.32 \nL 1174.441875 70.32 \n\" style=\"fill:none;stroke:#000000;stroke-linecap:square;stroke-linejoin:miter;stroke-width:0.8;\"/>\n   </g>\n  </g>\n  <g id=\"text_29\">\n   <!-- Performance of models trained with 500 documents -->\n   <g transform=\"translate(364.295625 26.397187)scale(0.18 -0.18)\">\n    <defs>\n     <path d=\"M 19.671875 64.796875 \nL 19.671875 37.40625 \nL 32.078125 37.40625 \nQ 38.96875 37.40625 42.71875 40.96875 \nQ 46.484375 44.53125 46.484375 51.125 \nQ 46.484375 57.671875 42.71875 61.234375 \nQ 38.96875 64.796875 32.078125 64.796875 \nz\nM 9.8125 72.90625 \nL 32.078125 72.90625 \nQ 44.34375 72.90625 50.609375 67.359375 \nQ 56.890625 61.8125 56.890625 51.125 \nQ 56.890625 40.328125 50.609375 34.8125 \nQ 44.34375 29.296875 32.078125 29.296875 \nL 19.671875 29.296875 \nL 19.671875 0 \nL 9.8125 0 \nz\n\" id=\"DejaVuSans-80\"/>\n     <path d=\"M 18.3125 70.21875 \nL 18.3125 54.6875 \nL 36.8125 54.6875 \nL 36.8125 47.703125 \nL 18.3125 47.703125 \nL 18.3125 18.015625 \nQ 18.3125 11.328125 20.140625 9.421875 \nQ 21.96875 7.515625 27.59375 7.515625 \nL 36.8125 7.515625 \nL 36.8125 0 \nL 27.59375 0 \nQ 17.1875 0 13.234375 3.875 \nQ 9.28125 7.765625 9.28125 18.015625 \nL 9.28125 47.703125 \nL 2.6875 47.703125 \nL 2.6875 54.6875 \nL 9.28125 54.6875 \nL 9.28125 70.21875 \nz\n\" id=\"DejaVuSans-116\"/>\n     <path d=\"M 54.890625 33.015625 \nL 54.890625 0 \nL 45.90625 0 \nL 45.90625 32.71875 \nQ 45.90625 40.484375 42.875 44.328125 \nQ 39.84375 48.1875 33.796875 48.1875 \nQ 26.515625 48.1875 22.3125 43.546875 \nQ 18.109375 38.921875 18.109375 30.90625 \nL 18.109375 0 \nL 9.078125 0 \nL 9.078125 75.984375 \nL 18.109375 75.984375 \nL 18.109375 46.1875 \nQ 21.34375 51.125 25.703125 53.5625 \nQ 30.078125 56 35.796875 56 \nQ 45.21875 56 50.046875 50.171875 \nQ 54.890625 44.34375 54.890625 33.015625 \nz\n\" id=\"DejaVuSans-104\"/>\n    </defs>\n    <use xlink:href=\"#DejaVuSans-80\"/>\n    <use x=\"56.677734\" xlink:href=\"#DejaVuSans-101\"/>\n    <use x=\"118.201172\" xlink:href=\"#DejaVuSans-114\"/>\n    <use x=\"159.314453\" xlink:href=\"#DejaVuSans-102\"/>\n    <use x=\"194.519531\" xlink:href=\"#DejaVuSans-111\"/>\n    <use x=\"255.701172\" xlink:href=\"#DejaVuSans-114\"/>\n    <use x=\"295.064453\" xlink:href=\"#DejaVuSans-109\"/>\n    <use x=\"392.476562\" xlink:href=\"#DejaVuSans-97\"/>\n    <use x=\"453.755859\" xlink:href=\"#DejaVuSans-110\"/>\n    <use x=\"517.134766\" xlink:href=\"#DejaVuSans-99\"/>\n    <use x=\"572.115234\" xlink:href=\"#DejaVuSans-101\"/>\n    <use x=\"633.638672\" xlink:href=\"#DejaVuSans-32\"/>\n    <use x=\"665.425781\" xlink:href=\"#DejaVuSans-111\"/>\n    <use x=\"726.607422\" xlink:href=\"#DejaVuSans-102\"/>\n    <use x=\"761.8125\" xlink:href=\"#DejaVuSans-32\"/>\n    <use x=\"793.599609\" xlink:href=\"#DejaVuSans-109\"/>\n    <use x=\"891.011719\" xlink:href=\"#DejaVuSans-111\"/>\n    <use x=\"952.193359\" xlink:href=\"#DejaVuSans-100\"/>\n    <use x=\"1015.669922\" xlink:href=\"#DejaVuSans-101\"/>\n    <use x=\"1077.193359\" xlink:href=\"#DejaVuSans-108\"/>\n    <use x=\"1104.976562\" xlink:href=\"#DejaVuSans-115\"/>\n    <use x=\"1157.076172\" xlink:href=\"#DejaVuSans-32\"/>\n    <use x=\"1188.863281\" xlink:href=\"#DejaVuSans-116\"/>\n    <use x=\"1228.072266\" xlink:href=\"#DejaVuSans-114\"/>\n    <use x=\"1269.185547\" xlink:href=\"#DejaVuSans-97\"/>\n    <use x=\"1330.464844\" xlink:href=\"#DejaVuSans-105\"/>\n    <use x=\"1358.248047\" xlink:href=\"#DejaVuSans-110\"/>\n    <use x=\"1421.626953\" xlink:href=\"#DejaVuSans-101\"/>\n    <use x=\"1483.150391\" xlink:href=\"#DejaVuSans-100\"/>\n    <use x=\"1546.626953\" xlink:href=\"#DejaVuSans-32\"/>\n    <use x=\"1578.414062\" xlink:href=\"#DejaVuSans-119\"/>\n    <use x=\"1660.201172\" xlink:href=\"#DejaVuSans-105\"/>\n    <use x=\"1687.984375\" xlink:href=\"#DejaVuSans-116\"/>\n    <use x=\"1727.193359\" xlink:href=\"#DejaVuSans-104\"/>\n    <use x=\"1790.572266\" xlink:href=\"#DejaVuSans-32\"/>\n    <use x=\"1822.359375\" xlink:href=\"#DejaVuSans-53\"/>\n    <use x=\"1885.982422\" xlink:href=\"#DejaVuSans-48\"/>\n    <use x=\"1949.605469\" xlink:href=\"#DejaVuSans-48\"/>\n    <use x=\"2013.228516\" xlink:href=\"#DejaVuSans-32\"/>\n    <use x=\"2045.015625\" xlink:href=\"#DejaVuSans-100\"/>\n    <use x=\"2108.492188\" xlink:href=\"#DejaVuSans-111\"/>\n    <use x=\"2169.673828\" xlink:href=\"#DejaVuSans-99\"/>\n    <use x=\"2224.654297\" xlink:href=\"#DejaVuSans-117\"/>\n    <use x=\"2288.033203\" xlink:href=\"#DejaVuSans-109\"/>\n    <use x=\"2385.445312\" xlink:href=\"#DejaVuSans-101\"/>\n    <use x=\"2446.96875\" xlink:href=\"#DejaVuSans-110\"/>\n    <use x=\"2510.347656\" xlink:href=\"#DejaVuSans-116\"/>\n    <use x=\"2549.556641\" xlink:href=\"#DejaVuSans-115\"/>\n   </g>\n  </g>\n  <g id=\"legend_1\">\n   <g id=\"patch_12\">\n    <path d=\"M 1095.5325 62.44125 \nL 1311.241875 62.44125 \nQ 1313.641875 62.44125 1313.641875 60.04125 \nL 1313.641875 8.4 \nQ 1313.641875 6 1311.241875 6 \nL 1095.5325 6 \nQ 1093.1325 6 1093.1325 8.4 \nL 1093.1325 60.04125 \nQ 1093.1325 62.44125 1095.5325 62.44125 \nz\n\" style=\"fill:#ffffff;opacity:0.8;stroke:#cccccc;stroke-linejoin:miter;\"/>\n   </g>\n   <g id=\"line2d_31\">\n    <path d=\"M 1097.9325 15.718125 \nL 1121.9325 15.718125 \n\" style=\"fill:none;stroke:#1f77b4;stroke-linecap:square;stroke-width:1.5;\"/>\n   </g>\n   <g id=\"line2d_32\"/>\n   <g id=\"text_30\">\n    <!-- Avg Model -->\n    <g transform=\"translate(1131.5325 19.918125)scale(0.12 -0.12)\">\n     <defs>\n      <path d=\"M 34.1875 63.1875 \nL 20.796875 26.90625 \nL 47.609375 26.90625 \nz\nM 28.609375 72.90625 \nL 39.796875 72.90625 \nL 67.578125 0 \nL 57.328125 0 \nL 50.6875 18.703125 \nL 17.828125 18.703125 \nL 11.1875 0 \nL 0.78125 0 \nz\n\" id=\"DejaVuSans-65\"/>\n      <path d=\"M 45.40625 27.984375 \nQ 45.40625 37.75 41.375 43.109375 \nQ 37.359375 48.484375 30.078125 48.484375 \nQ 22.859375 48.484375 18.828125 43.109375 \nQ 14.796875 37.75 14.796875 27.984375 \nQ 14.796875 18.265625 18.828125 12.890625 \nQ 22.859375 7.515625 30.078125 7.515625 \nQ 37.359375 7.515625 41.375 12.890625 \nQ 45.40625 18.265625 45.40625 27.984375 \nz\nM 54.390625 6.78125 \nQ 54.390625 -7.171875 48.1875 -13.984375 \nQ 42 -20.796875 29.203125 -20.796875 \nQ 24.46875 -20.796875 20.265625 -20.09375 \nQ 16.0625 -19.390625 12.109375 -17.921875 \nL 12.109375 -9.1875 \nQ 16.0625 -11.328125 19.921875 -12.34375 \nQ 23.78125 -13.375 27.78125 -13.375 \nQ 36.625 -13.375 41.015625 -8.765625 \nQ 45.40625 -4.15625 45.40625 5.171875 \nL 45.40625 9.625 \nQ 42.625 4.78125 38.28125 2.390625 \nQ 33.9375 0 27.875 0 \nQ 17.828125 0 11.671875 7.65625 \nQ 5.515625 15.328125 5.515625 27.984375 \nQ 5.515625 40.671875 11.671875 48.328125 \nQ 17.828125 56 27.875 56 \nQ 33.9375 56 38.28125 53.609375 \nQ 42.625 51.21875 45.40625 46.390625 \nL 45.40625 54.6875 \nL 54.390625 54.6875 \nz\n\" id=\"DejaVuSans-103\"/>\n      <path d=\"M 9.8125 72.90625 \nL 24.515625 72.90625 \nL 43.109375 23.296875 \nL 61.8125 72.90625 \nL 76.515625 72.90625 \nL 76.515625 0 \nL 66.890625 0 \nL 66.890625 64.015625 \nL 48.09375 14.015625 \nL 38.1875 14.015625 \nL 19.390625 64.015625 \nL 19.390625 0 \nL 9.8125 0 \nz\n\" id=\"DejaVuSans-77\"/>\n     </defs>\n     <use xlink:href=\"#DejaVuSans-65\"/>\n     <use x=\"62.533203\" xlink:href=\"#DejaVuSans-118\"/>\n     <use x=\"121.712891\" xlink:href=\"#DejaVuSans-103\"/>\n     <use x=\"185.189453\" xlink:href=\"#DejaVuSans-32\"/>\n     <use x=\"216.976562\" xlink:href=\"#DejaVuSans-77\"/>\n     <use x=\"303.255859\" xlink:href=\"#DejaVuSans-111\"/>\n     <use x=\"364.4375\" xlink:href=\"#DejaVuSans-100\"/>\n     <use x=\"427.914062\" xlink:href=\"#DejaVuSans-101\"/>\n     <use x=\"489.4375\" xlink:href=\"#DejaVuSans-108\"/>\n    </g>\n   </g>\n   <g id=\"line2d_33\">\n    <path d=\"M 1097.9325 33.331875 \nL 1121.9325 33.331875 \n\" style=\"fill:none;stroke:#ff7f0e;stroke-linecap:square;stroke-width:1.5;\"/>\n   </g>\n   <g id=\"line2d_34\"/>\n   <g id=\"text_31\">\n    <!-- Avg Model, GloVe -->\n    <g transform=\"translate(1131.5325 37.531875)scale(0.12 -0.12)\">\n     <defs>\n      <path d=\"M 11.71875 12.40625 \nL 22.015625 12.40625 \nL 22.015625 4 \nL 14.015625 -11.625 \nL 7.71875 -11.625 \nL 11.71875 4 \nz\n\" id=\"DejaVuSans-44\"/>\n      <path d=\"M 59.515625 10.40625 \nL 59.515625 29.984375 \nL 43.40625 29.984375 \nL 43.40625 38.09375 \nL 69.28125 38.09375 \nL 69.28125 6.78125 \nQ 63.578125 2.734375 56.6875 0.65625 \nQ 49.8125 -1.421875 42 -1.421875 \nQ 24.90625 -1.421875 15.25 8.5625 \nQ 5.609375 18.5625 5.609375 36.375 \nQ 5.609375 54.25 15.25 64.234375 \nQ 24.90625 74.21875 42 74.21875 \nQ 49.125 74.21875 55.546875 72.453125 \nQ 61.96875 70.703125 67.390625 67.28125 \nL 67.390625 56.78125 \nQ 61.921875 61.421875 55.765625 63.765625 \nQ 49.609375 66.109375 42.828125 66.109375 \nQ 29.4375 66.109375 22.71875 58.640625 \nQ 16.015625 51.171875 16.015625 36.375 \nQ 16.015625 21.625 22.71875 14.15625 \nQ 29.4375 6.6875 42.828125 6.6875 \nQ 48.046875 6.6875 52.140625 7.59375 \nQ 56.25 8.5 59.515625 10.40625 \nz\n\" id=\"DejaVuSans-71\"/>\n      <path d=\"M 28.609375 0 \nL 0.78125 72.90625 \nL 11.078125 72.90625 \nL 34.1875 11.53125 \nL 57.328125 72.90625 \nL 67.578125 72.90625 \nL 39.796875 0 \nz\n\" id=\"DejaVuSans-86\"/>\n     </defs>\n     <use xlink:href=\"#DejaVuSans-65\"/>\n     <use x=\"62.533203\" xlink:href=\"#DejaVuSans-118\"/>\n     <use x=\"121.712891\" xlink:href=\"#DejaVuSans-103\"/>\n     <use x=\"185.189453\" xlink:href=\"#DejaVuSans-32\"/>\n     <use x=\"216.976562\" xlink:href=\"#DejaVuSans-77\"/>\n     <use x=\"303.255859\" xlink:href=\"#DejaVuSans-111\"/>\n     <use x=\"364.4375\" xlink:href=\"#DejaVuSans-100\"/>\n     <use x=\"427.914062\" xlink:href=\"#DejaVuSans-101\"/>\n     <use x=\"489.4375\" xlink:href=\"#DejaVuSans-108\"/>\n     <use x=\"517.220703\" xlink:href=\"#DejaVuSans-44\"/>\n     <use x=\"549.007812\" xlink:href=\"#DejaVuSans-32\"/>\n     <use x=\"580.794922\" xlink:href=\"#DejaVuSans-71\"/>\n     <use x=\"658.285156\" xlink:href=\"#DejaVuSans-108\"/>\n     <use x=\"686.068359\" xlink:href=\"#DejaVuSans-111\"/>\n     <use x=\"747.25\" xlink:href=\"#DejaVuSans-86\"/>\n     <use x=\"807.908203\" xlink:href=\"#DejaVuSans-101\"/>\n    </g>\n   </g>\n   <g id=\"line2d_35\">\n    <path d=\"M 1097.9325 50.945625 \nL 1121.9325 50.945625 \n\" style=\"fill:none;stroke:#2ca02c;stroke-linecap:square;stroke-width:1.5;\"/>\n   </g>\n   <g id=\"line2d_36\"/>\n   <g id=\"text_32\">\n    <!-- Avg Model, GloVe, fine-tuning -->\n    <g transform=\"translate(1131.5325 55.145625)scale(0.12 -0.12)\">\n     <defs>\n      <path d=\"M 4.890625 31.390625 \nL 31.203125 31.390625 \nL 31.203125 23.390625 \nL 4.890625 23.390625 \nz\n\" id=\"DejaVuSans-45\"/>\n     </defs>\n     <use xlink:href=\"#DejaVuSans-65\"/>\n     <use x=\"62.533203\" xlink:href=\"#DejaVuSans-118\"/>\n     <use x=\"121.712891\" xlink:href=\"#DejaVuSans-103\"/>\n     <use x=\"185.189453\" xlink:href=\"#DejaVuSans-32\"/>\n     <use x=\"216.976562\" xlink:href=\"#DejaVuSans-77\"/>\n     <use x=\"303.255859\" xlink:href=\"#DejaVuSans-111\"/>\n     <use x=\"364.4375\" xlink:href=\"#DejaVuSans-100\"/>\n     <use x=\"427.914062\" xlink:href=\"#DejaVuSans-101\"/>\n     <use x=\"489.4375\" xlink:href=\"#DejaVuSans-108\"/>\n     <use x=\"517.220703\" xlink:href=\"#DejaVuSans-44\"/>\n     <use x=\"549.007812\" xlink:href=\"#DejaVuSans-32\"/>\n     <use x=\"580.794922\" xlink:href=\"#DejaVuSans-71\"/>\n     <use x=\"658.285156\" xlink:href=\"#DejaVuSans-108\"/>\n     <use x=\"686.068359\" xlink:href=\"#DejaVuSans-111\"/>\n     <use x=\"747.25\" xlink:href=\"#DejaVuSans-86\"/>\n     <use x=\"807.908203\" xlink:href=\"#DejaVuSans-101\"/>\n     <use x=\"869.431641\" xlink:href=\"#DejaVuSans-44\"/>\n     <use x=\"901.21875\" xlink:href=\"#DejaVuSans-32\"/>\n     <use x=\"933.005859\" xlink:href=\"#DejaVuSans-102\"/>\n     <use x=\"968.210938\" xlink:href=\"#DejaVuSans-105\"/>\n     <use x=\"995.994141\" xlink:href=\"#DejaVuSans-110\"/>\n     <use x=\"1059.373047\" xlink:href=\"#DejaVuSans-101\"/>\n     <use x=\"1120.896484\" xlink:href=\"#DejaVuSans-45\"/>\n     <use x=\"1156.980469\" xlink:href=\"#DejaVuSans-116\"/>\n     <use x=\"1196.189453\" xlink:href=\"#DejaVuSans-117\"/>\n     <use x=\"1259.568359\" xlink:href=\"#DejaVuSans-110\"/>\n     <use x=\"1322.947266\" xlink:href=\"#DejaVuSans-105\"/>\n     <use x=\"1350.730469\" xlink:href=\"#DejaVuSans-110\"/>\n     <use x=\"1414.109375\" xlink:href=\"#DejaVuSans-103\"/>\n    </g>\n   </g>\n  </g>\n </g>\n <defs>\n  <clipPath id=\"p65853f4e39\">\n   <rect height=\"434.88\" width=\"507.272727\" x=\"58.441875\" y=\"70.32\"/>\n  </clipPath>\n  <clipPath id=\"p723def20c4\">\n   <rect height=\"434.88\" width=\"507.272727\" x=\"667.169148\" y=\"70.32\"/>\n  </clipPath>\n </defs>\n</svg>\n",
      "image/png": "[encoded data removed]"
     },
     "metadata": {
      "needs_background": "light"
     }
    },
    {
     "output_type": "display_data",
     "data": {
      "text/plain": "<Figure size 1440x576 with 2 Axes>",
      "image/svg+xml": "<?xml version=\"1.0\" encoding=\"utf-8\" standalone=\"no\"?>\n<!DOCTYPE svg PUBLIC \"-//W3C//DTD SVG 1.1//EN\"\n  \"http://www.w3.org/Graphics/SVG/1.1/DTD/svg11.dtd\">\n<!-- Created with matplotlib (https://matplotlib.org/) -->\n<svg height=\"544.691875pt\" version=\"1.1\" viewBox=\"0 0 1313.279375 544.691875\" width=\"1313.279375pt\" xmlns=\"http://www.w3.org/2000/svg\" xmlns:xlink=\"http://www.w3.org/1999/xlink\">\n <metadata>\n  <rdf:RDF xmlns:cc=\"http://creativecommons.org/ns#\" xmlns:dc=\"http://purl.org/dc/elements/1.1/\" xmlns:rdf=\"http://www.w3.org/1999/02/22-rdf-syntax-ns#\">\n   <cc:Work>\n    <dc:type rdf:resource=\"http://purl.org/dc/dcmitype/StillImage\"/>\n    <dc:date>2021-03-13T12:42:37.113904</dc:date>\n    <dc:format>image/svg+xml</dc:format>\n    <dc:creator>\n     <cc:Agent>\n      <dc:title>Matplotlib v3.3.3, https://matplotlib.org/</dc:title>\n     </cc:Agent>\n    </dc:creator>\n   </cc:Work>\n  </rdf:RDF>\n </metadata>\n <defs>\n  <style type=\"text/css\">*{stroke-linecap:butt;stroke-linejoin:round;}</style>\n </defs>\n <g id=\"figure_1\">\n  <g id=\"patch_1\">\n   <path d=\"M 0 544.691875 \nL 1313.279375 544.691875 \nL 1313.279375 0 \nL 0 0 \nz\n\" style=\"fill:none;\"/>\n  </g>\n  <g id=\"axes_1\">\n   <g id=\"patch_2\">\n    <path d=\"M 52.079375 505.2 \nL 559.352102 505.2 \nL 559.352102 70.32 \nL 52.079375 70.32 \nz\n\" style=\"fill:#ffffff;\"/>\n   </g>\n   <g id=\"matplotlib.axis_1\">\n    <g id=\"xtick_1\">\n     <g id=\"line2d_1\">\n      <defs>\n       <path d=\"M 0 0 \nL 0 3.5 \n\" id=\"md9c5cf1f5a\" style=\"stroke:#000000;stroke-width:0.8;\"/>\n      </defs>\n      <g>\n       <use style=\"stroke:#000000;stroke-width:0.8;\" x=\"75.137226\" xlink:href=\"#md9c5cf1f5a\" y=\"505.2\"/>\n      </g>\n     </g>\n     <g id=\"text_1\">\n      <!-- 5 -->\n      <g transform=\"translate(71.955976 519.798437)scale(0.1 -0.1)\">\n       <defs>\n        <path d=\"M 10.796875 72.90625 \nL 49.515625 72.90625 \nL 49.515625 64.59375 \nL 19.828125 64.59375 \nL 19.828125 46.734375 \nQ 21.96875 47.46875 24.109375 47.828125 \nQ 26.265625 48.1875 28.421875 48.1875 \nQ 40.625 48.1875 47.75 41.5 \nQ 54.890625 34.8125 54.890625 23.390625 \nQ 54.890625 11.625 47.5625 5.09375 \nQ 40.234375 -1.421875 26.90625 -1.421875 \nQ 22.3125 -1.421875 17.546875 -0.640625 \nQ 12.796875 0.140625 7.71875 1.703125 \nL 7.71875 11.625 \nQ 12.109375 9.234375 16.796875 8.0625 \nQ 21.484375 6.890625 26.703125 6.890625 \nQ 35.15625 6.890625 40.078125 11.328125 \nQ 45.015625 15.765625 45.015625 23.390625 \nQ 45.015625 31 40.078125 35.4375 \nQ 35.15625 39.890625 26.703125 39.890625 \nQ 22.75 39.890625 18.8125 39.015625 \nQ 14.890625 38.140625 10.796875 36.28125 \nz\n\" id=\"DejaVuSans-53\"/>\n       </defs>\n       <use xlink:href=\"#DejaVuSans-53\"/>\n      </g>\n     </g>\n    </g>\n    <g id=\"xtick_2\">\n     <g id=\"line2d_2\">\n      <g>\n       <use style=\"stroke:#000000;stroke-width:0.8;\" x=\"167.368631\" xlink:href=\"#md9c5cf1f5a\" y=\"505.2\"/>\n      </g>\n     </g>\n     <g id=\"text_2\">\n      <!-- 6 -->\n      <g transform=\"translate(164.187381 519.798437)scale(0.1 -0.1)\">\n       <defs>\n        <path d=\"M 33.015625 40.375 \nQ 26.375 40.375 22.484375 35.828125 \nQ 18.609375 31.296875 18.609375 23.390625 \nQ 18.609375 15.53125 22.484375 10.953125 \nQ 26.375 6.390625 33.015625 6.390625 \nQ 39.65625 6.390625 43.53125 10.953125 \nQ 47.40625 15.53125 47.40625 23.390625 \nQ 47.40625 31.296875 43.53125 35.828125 \nQ 39.65625 40.375 33.015625 40.375 \nz\nM 52.59375 71.296875 \nL 52.59375 62.3125 \nQ 48.875 64.0625 45.09375 64.984375 \nQ 41.3125 65.921875 37.59375 65.921875 \nQ 27.828125 65.921875 22.671875 59.328125 \nQ 17.53125 52.734375 16.796875 39.40625 \nQ 19.671875 43.65625 24.015625 45.921875 \nQ 28.375 48.1875 33.59375 48.1875 \nQ 44.578125 48.1875 50.953125 41.515625 \nQ 57.328125 34.859375 57.328125 23.390625 \nQ 57.328125 12.15625 50.6875 5.359375 \nQ 44.046875 -1.421875 33.015625 -1.421875 \nQ 20.359375 -1.421875 13.671875 8.265625 \nQ 6.984375 17.96875 6.984375 36.375 \nQ 6.984375 53.65625 15.1875 63.9375 \nQ 23.390625 74.21875 37.203125 74.21875 \nQ 40.921875 74.21875 44.703125 73.484375 \nQ 48.484375 72.75 52.59375 71.296875 \nz\n\" id=\"DejaVuSans-54\"/>\n       </defs>\n       <use xlink:href=\"#DejaVuSans-54\"/>\n      </g>\n     </g>\n    </g>\n    <g id=\"xtick_3\">\n     <g id=\"line2d_3\">\n      <g>\n       <use style=\"stroke:#000000;stroke-width:0.8;\" x=\"259.600036\" xlink:href=\"#md9c5cf1f5a\" y=\"505.2\"/>\n      </g>\n     </g>\n     <g id=\"text_3\">\n      <!-- 7 -->\n      <g transform=\"translate(256.418786 519.798437)scale(0.1 -0.1)\">\n       <defs>\n        <path d=\"M 8.203125 72.90625 \nL 55.078125 72.90625 \nL 55.078125 68.703125 \nL 28.609375 0 \nL 18.3125 0 \nL 43.21875 64.59375 \nL 8.203125 64.59375 \nz\n\" id=\"DejaVuSans-55\"/>\n       </defs>\n       <use xlink:href=\"#DejaVuSans-55\"/>\n      </g>\n     </g>\n    </g>\n    <g id=\"xtick_4\">\n     <g id=\"line2d_4\">\n      <g>\n       <use style=\"stroke:#000000;stroke-width:0.8;\" x=\"351.831441\" xlink:href=\"#md9c5cf1f5a\" y=\"505.2\"/>\n      </g>\n     </g>\n     <g id=\"text_4\">\n      <!-- 8 -->\n      <g transform=\"translate(348.650191 519.798437)scale(0.1 -0.1)\">\n       <defs>\n        <path d=\"M 31.78125 34.625 \nQ 24.75 34.625 20.71875 30.859375 \nQ 16.703125 27.09375 16.703125 20.515625 \nQ 16.703125 13.921875 20.71875 10.15625 \nQ 24.75 6.390625 31.78125 6.390625 \nQ 38.8125 6.390625 42.859375 10.171875 \nQ 46.921875 13.96875 46.921875 20.515625 \nQ 46.921875 27.09375 42.890625 30.859375 \nQ 38.875 34.625 31.78125 34.625 \nz\nM 21.921875 38.8125 \nQ 15.578125 40.375 12.03125 44.71875 \nQ 8.5 49.078125 8.5 55.328125 \nQ 8.5 64.0625 14.71875 69.140625 \nQ 20.953125 74.21875 31.78125 74.21875 \nQ 42.671875 74.21875 48.875 69.140625 \nQ 55.078125 64.0625 55.078125 55.328125 \nQ 55.078125 49.078125 51.53125 44.71875 \nQ 48 40.375 41.703125 38.8125 \nQ 48.828125 37.15625 52.796875 32.3125 \nQ 56.78125 27.484375 56.78125 20.515625 \nQ 56.78125 9.90625 50.3125 4.234375 \nQ 43.84375 -1.421875 31.78125 -1.421875 \nQ 19.734375 -1.421875 13.25 4.234375 \nQ 6.78125 9.90625 6.78125 20.515625 \nQ 6.78125 27.484375 10.78125 32.3125 \nQ 14.796875 37.15625 21.921875 38.8125 \nz\nM 18.3125 54.390625 \nQ 18.3125 48.734375 21.84375 45.5625 \nQ 25.390625 42.390625 31.78125 42.390625 \nQ 38.140625 42.390625 41.71875 45.5625 \nQ 45.3125 48.734375 45.3125 54.390625 \nQ 45.3125 60.0625 41.71875 63.234375 \nQ 38.140625 66.40625 31.78125 66.40625 \nQ 25.390625 66.40625 21.84375 63.234375 \nQ 18.3125 60.0625 18.3125 54.390625 \nz\n\" id=\"DejaVuSans-56\"/>\n       </defs>\n       <use xlink:href=\"#DejaVuSans-56\"/>\n      </g>\n     </g>\n    </g>\n    <g id=\"xtick_5\">\n     <g id=\"line2d_5\">\n      <g>\n       <use style=\"stroke:#000000;stroke-width:0.8;\" x=\"444.062846\" xlink:href=\"#md9c5cf1f5a\" y=\"505.2\"/>\n      </g>\n     </g>\n     <g id=\"text_5\">\n      <!-- 9 -->\n      <g transform=\"translate(440.881596 519.798437)scale(0.1 -0.1)\">\n       <defs>\n        <path d=\"M 10.984375 1.515625 \nL 10.984375 10.5 \nQ 14.703125 8.734375 18.5 7.8125 \nQ 22.3125 6.890625 25.984375 6.890625 \nQ 35.75 6.890625 40.890625 13.453125 \nQ 46.046875 20.015625 46.78125 33.40625 \nQ 43.953125 29.203125 39.59375 26.953125 \nQ 35.25 24.703125 29.984375 24.703125 \nQ 19.046875 24.703125 12.671875 31.3125 \nQ 6.296875 37.9375 6.296875 49.421875 \nQ 6.296875 60.640625 12.9375 67.421875 \nQ 19.578125 74.21875 30.609375 74.21875 \nQ 43.265625 74.21875 49.921875 64.515625 \nQ 56.59375 54.828125 56.59375 36.375 \nQ 56.59375 19.140625 48.40625 8.859375 \nQ 40.234375 -1.421875 26.421875 -1.421875 \nQ 22.703125 -1.421875 18.890625 -0.6875 \nQ 15.09375 0.046875 10.984375 1.515625 \nz\nM 30.609375 32.421875 \nQ 37.25 32.421875 41.125 36.953125 \nQ 45.015625 41.5 45.015625 49.421875 \nQ 45.015625 57.28125 41.125 61.84375 \nQ 37.25 66.40625 30.609375 66.40625 \nQ 23.96875 66.40625 20.09375 61.84375 \nQ 16.21875 57.28125 16.21875 49.421875 \nQ 16.21875 41.5 20.09375 36.953125 \nQ 23.96875 32.421875 30.609375 32.421875 \nz\n\" id=\"DejaVuSans-57\"/>\n       </defs>\n       <use xlink:href=\"#DejaVuSans-57\"/>\n      </g>\n     </g>\n    </g>\n    <g id=\"xtick_6\">\n     <g id=\"line2d_6\">\n      <g>\n       <use style=\"stroke:#000000;stroke-width:0.8;\" x=\"536.294251\" xlink:href=\"#md9c5cf1f5a\" y=\"505.2\"/>\n      </g>\n     </g>\n     <g id=\"text_6\">\n      <!-- 10 -->\n      <g transform=\"translate(529.931751 519.798437)scale(0.1 -0.1)\">\n       <defs>\n        <path d=\"M 12.40625 8.296875 \nL 28.515625 8.296875 \nL 28.515625 63.921875 \nL 10.984375 60.40625 \nL 10.984375 69.390625 \nL 28.421875 72.90625 \nL 38.28125 72.90625 \nL 38.28125 8.296875 \nL 54.390625 8.296875 \nL 54.390625 0 \nL 12.40625 0 \nz\n\" id=\"DejaVuSans-49\"/>\n        <path d=\"M 31.78125 66.40625 \nQ 24.171875 66.40625 20.328125 58.90625 \nQ 16.5 51.421875 16.5 36.375 \nQ 16.5 21.390625 20.328125 13.890625 \nQ 24.171875 6.390625 31.78125 6.390625 \nQ 39.453125 6.390625 43.28125 13.890625 \nQ 47.125 21.390625 47.125 36.375 \nQ 47.125 51.421875 43.28125 58.90625 \nQ 39.453125 66.40625 31.78125 66.40625 \nz\nM 31.78125 74.21875 \nQ 44.046875 74.21875 50.515625 64.515625 \nQ 56.984375 54.828125 56.984375 36.375 \nQ 56.984375 17.96875 50.515625 8.265625 \nQ 44.046875 -1.421875 31.78125 -1.421875 \nQ 19.53125 -1.421875 13.0625 8.265625 \nQ 6.59375 17.96875 6.59375 36.375 \nQ 6.59375 54.828125 13.0625 64.515625 \nQ 19.53125 74.21875 31.78125 74.21875 \nz\n\" id=\"DejaVuSans-48\"/>\n       </defs>\n       <use xlink:href=\"#DejaVuSans-49\"/>\n       <use x=\"63.623047\" xlink:href=\"#DejaVuSans-48\"/>\n      </g>\n     </g>\n    </g>\n    <g id=\"text_7\">\n     <!-- minimum frequency of words (vocabulary) -->\n     <g transform=\"translate(178.013239 534.99625)scale(0.12 -0.12)\">\n      <defs>\n       <path d=\"M 52 44.1875 \nQ 55.375 50.25 60.0625 53.125 \nQ 64.75 56 71.09375 56 \nQ 79.640625 56 84.28125 50.015625 \nQ 88.921875 44.046875 88.921875 33.015625 \nL 88.921875 0 \nL 79.890625 0 \nL 79.890625 32.71875 \nQ 79.890625 40.578125 77.09375 44.375 \nQ 74.3125 48.1875 68.609375 48.1875 \nQ 61.625 48.1875 57.5625 43.546875 \nQ 53.515625 38.921875 53.515625 30.90625 \nL 53.515625 0 \nL 44.484375 0 \nL 44.484375 32.71875 \nQ 44.484375 40.625 41.703125 44.40625 \nQ 38.921875 48.1875 33.109375 48.1875 \nQ 26.21875 48.1875 22.15625 43.53125 \nQ 18.109375 38.875 18.109375 30.90625 \nL 18.109375 0 \nL 9.078125 0 \nL 9.078125 54.6875 \nL 18.109375 54.6875 \nL 18.109375 46.1875 \nQ 21.1875 51.21875 25.484375 53.609375 \nQ 29.78125 56 35.6875 56 \nQ 41.65625 56 45.828125 52.96875 \nQ 50 49.953125 52 44.1875 \nz\n\" id=\"DejaVuSans-109\"/>\n       <path d=\"M 9.421875 54.6875 \nL 18.40625 54.6875 \nL 18.40625 0 \nL 9.421875 0 \nz\nM 9.421875 75.984375 \nL 18.40625 75.984375 \nL 18.40625 64.59375 \nL 9.421875 64.59375 \nz\n\" id=\"DejaVuSans-105\"/>\n       <path d=\"M 54.890625 33.015625 \nL 54.890625 0 \nL 45.90625 0 \nL 45.90625 32.71875 \nQ 45.90625 40.484375 42.875 44.328125 \nQ 39.84375 48.1875 33.796875 48.1875 \nQ 26.515625 48.1875 22.3125 43.546875 \nQ 18.109375 38.921875 18.109375 30.90625 \nL 18.109375 0 \nL 9.078125 0 \nL 9.078125 54.6875 \nL 18.109375 54.6875 \nL 18.109375 46.1875 \nQ 21.34375 51.125 25.703125 53.5625 \nQ 30.078125 56 35.796875 56 \nQ 45.21875 56 50.046875 50.171875 \nQ 54.890625 44.34375 54.890625 33.015625 \nz\n\" id=\"DejaVuSans-110\"/>\n       <path d=\"M 8.5 21.578125 \nL 8.5 54.6875 \nL 17.484375 54.6875 \nL 17.484375 21.921875 \nQ 17.484375 14.15625 20.5 10.265625 \nQ 23.53125 6.390625 29.59375 6.390625 \nQ 36.859375 6.390625 41.078125 11.03125 \nQ 45.3125 15.671875 45.3125 23.6875 \nL 45.3125 54.6875 \nL 54.296875 54.6875 \nL 54.296875 0 \nL 45.3125 0 \nL 45.3125 8.40625 \nQ 42.046875 3.421875 37.71875 1 \nQ 33.40625 -1.421875 27.6875 -1.421875 \nQ 18.265625 -1.421875 13.375 4.4375 \nQ 8.5 10.296875 8.5 21.578125 \nz\nM 31.109375 56 \nz\n\" id=\"DejaVuSans-117\"/>\n       <path id=\"DejaVuSans-32\"/>\n       <path d=\"M 37.109375 75.984375 \nL 37.109375 68.5 \nL 28.515625 68.5 \nQ 23.6875 68.5 21.796875 66.546875 \nQ 19.921875 64.59375 19.921875 59.515625 \nL 19.921875 54.6875 \nL 34.71875 54.6875 \nL 34.71875 47.703125 \nL 19.921875 47.703125 \nL 19.921875 0 \nL 10.890625 0 \nL 10.890625 47.703125 \nL 2.296875 47.703125 \nL 2.296875 54.6875 \nL 10.890625 54.6875 \nL 10.890625 58.5 \nQ 10.890625 67.625 15.140625 71.796875 \nQ 19.390625 75.984375 28.609375 75.984375 \nz\n\" id=\"DejaVuSans-102\"/>\n       <path d=\"M 41.109375 46.296875 \nQ 39.59375 47.171875 37.8125 47.578125 \nQ 36.03125 48 33.890625 48 \nQ 26.265625 48 22.1875 43.046875 \nQ 18.109375 38.09375 18.109375 28.8125 \nL 18.109375 0 \nL 9.078125 0 \nL 9.078125 54.6875 \nL 18.109375 54.6875 \nL 18.109375 46.1875 \nQ 20.953125 51.171875 25.484375 53.578125 \nQ 30.03125 56 36.53125 56 \nQ 37.453125 56 38.578125 55.875 \nQ 39.703125 55.765625 41.0625 55.515625 \nz\n\" id=\"DejaVuSans-114\"/>\n       <path d=\"M 56.203125 29.59375 \nL 56.203125 25.203125 \nL 14.890625 25.203125 \nQ 15.484375 15.921875 20.484375 11.0625 \nQ 25.484375 6.203125 34.421875 6.203125 \nQ 39.59375 6.203125 44.453125 7.46875 \nQ 49.3125 8.734375 54.109375 11.28125 \nL 54.109375 2.78125 \nQ 49.265625 0.734375 44.1875 -0.34375 \nQ 39.109375 -1.421875 33.890625 -1.421875 \nQ 20.796875 -1.421875 13.15625 6.1875 \nQ 5.515625 13.8125 5.515625 26.8125 \nQ 5.515625 40.234375 12.765625 48.109375 \nQ 20.015625 56 32.328125 56 \nQ 43.359375 56 49.78125 48.890625 \nQ 56.203125 41.796875 56.203125 29.59375 \nz\nM 47.21875 32.234375 \nQ 47.125 39.59375 43.09375 43.984375 \nQ 39.0625 48.390625 32.421875 48.390625 \nQ 24.90625 48.390625 20.390625 44.140625 \nQ 15.875 39.890625 15.1875 32.171875 \nz\n\" id=\"DejaVuSans-101\"/>\n       <path d=\"M 14.796875 27.296875 \nQ 14.796875 17.390625 18.875 11.75 \nQ 22.953125 6.109375 30.078125 6.109375 \nQ 37.203125 6.109375 41.296875 11.75 \nQ 45.40625 17.390625 45.40625 27.296875 \nQ 45.40625 37.203125 41.296875 42.84375 \nQ 37.203125 48.484375 30.078125 48.484375 \nQ 22.953125 48.484375 18.875 42.84375 \nQ 14.796875 37.203125 14.796875 27.296875 \nz\nM 45.40625 8.203125 \nQ 42.578125 3.328125 38.25 0.953125 \nQ 33.9375 -1.421875 27.875 -1.421875 \nQ 17.96875 -1.421875 11.734375 6.484375 \nQ 5.515625 14.40625 5.515625 27.296875 \nQ 5.515625 40.1875 11.734375 48.09375 \nQ 17.96875 56 27.875 56 \nQ 33.9375 56 38.25 53.625 \nQ 42.578125 51.265625 45.40625 46.390625 \nL 45.40625 54.6875 \nL 54.390625 54.6875 \nL 54.390625 -20.796875 \nL 45.40625 -20.796875 \nz\n\" id=\"DejaVuSans-113\"/>\n       <path d=\"M 48.78125 52.59375 \nL 48.78125 44.1875 \nQ 44.96875 46.296875 41.140625 47.34375 \nQ 37.3125 48.390625 33.40625 48.390625 \nQ 24.65625 48.390625 19.8125 42.84375 \nQ 14.984375 37.3125 14.984375 27.296875 \nQ 14.984375 17.28125 19.8125 11.734375 \nQ 24.65625 6.203125 33.40625 6.203125 \nQ 37.3125 6.203125 41.140625 7.25 \nQ 44.96875 8.296875 48.78125 10.40625 \nL 48.78125 2.09375 \nQ 45.015625 0.34375 40.984375 -0.53125 \nQ 36.96875 -1.421875 32.421875 -1.421875 \nQ 20.0625 -1.421875 12.78125 6.34375 \nQ 5.515625 14.109375 5.515625 27.296875 \nQ 5.515625 40.671875 12.859375 48.328125 \nQ 20.21875 56 33.015625 56 \nQ 37.15625 56 41.109375 55.140625 \nQ 45.0625 54.296875 48.78125 52.59375 \nz\n\" id=\"DejaVuSans-99\"/>\n       <path d=\"M 32.171875 -5.078125 \nQ 28.375 -14.84375 24.75 -17.8125 \nQ 21.140625 -20.796875 15.09375 -20.796875 \nL 7.90625 -20.796875 \nL 7.90625 -13.28125 \nL 13.1875 -13.28125 \nQ 16.890625 -13.28125 18.9375 -11.515625 \nQ 21 -9.765625 23.484375 -3.21875 \nL 25.09375 0.875 \nL 2.984375 54.6875 \nL 12.5 54.6875 \nL 29.59375 11.921875 \nL 46.6875 54.6875 \nL 56.203125 54.6875 \nz\n\" id=\"DejaVuSans-121\"/>\n       <path d=\"M 30.609375 48.390625 \nQ 23.390625 48.390625 19.1875 42.75 \nQ 14.984375 37.109375 14.984375 27.296875 \nQ 14.984375 17.484375 19.15625 11.84375 \nQ 23.34375 6.203125 30.609375 6.203125 \nQ 37.796875 6.203125 41.984375 11.859375 \nQ 46.1875 17.53125 46.1875 27.296875 \nQ 46.1875 37.015625 41.984375 42.703125 \nQ 37.796875 48.390625 30.609375 48.390625 \nz\nM 30.609375 56 \nQ 42.328125 56 49.015625 48.375 \nQ 55.71875 40.765625 55.71875 27.296875 \nQ 55.71875 13.875 49.015625 6.21875 \nQ 42.328125 -1.421875 30.609375 -1.421875 \nQ 18.84375 -1.421875 12.171875 6.21875 \nQ 5.515625 13.875 5.515625 27.296875 \nQ 5.515625 40.765625 12.171875 48.375 \nQ 18.84375 56 30.609375 56 \nz\n\" id=\"DejaVuSans-111\"/>\n       <path d=\"M 4.203125 54.6875 \nL 13.1875 54.6875 \nL 24.421875 12.015625 \nL 35.59375 54.6875 \nL 46.1875 54.6875 \nL 57.421875 12.015625 \nL 68.609375 54.6875 \nL 77.59375 54.6875 \nL 63.28125 0 \nL 52.6875 0 \nL 40.921875 44.828125 \nL 29.109375 0 \nL 18.5 0 \nz\n\" id=\"DejaVuSans-119\"/>\n       <path d=\"M 45.40625 46.390625 \nL 45.40625 75.984375 \nL 54.390625 75.984375 \nL 54.390625 0 \nL 45.40625 0 \nL 45.40625 8.203125 \nQ 42.578125 3.328125 38.25 0.953125 \nQ 33.9375 -1.421875 27.875 -1.421875 \nQ 17.96875 -1.421875 11.734375 6.484375 \nQ 5.515625 14.40625 5.515625 27.296875 \nQ 5.515625 40.1875 11.734375 48.09375 \nQ 17.96875 56 27.875 56 \nQ 33.9375 56 38.25 53.625 \nQ 42.578125 51.265625 45.40625 46.390625 \nz\nM 14.796875 27.296875 \nQ 14.796875 17.390625 18.875 11.75 \nQ 22.953125 6.109375 30.078125 6.109375 \nQ 37.203125 6.109375 41.296875 11.75 \nQ 45.40625 17.390625 45.40625 27.296875 \nQ 45.40625 37.203125 41.296875 42.84375 \nQ 37.203125 48.484375 30.078125 48.484375 \nQ 22.953125 48.484375 18.875 42.84375 \nQ 14.796875 37.203125 14.796875 27.296875 \nz\n\" id=\"DejaVuSans-100\"/>\n       <path d=\"M 44.28125 53.078125 \nL 44.28125 44.578125 \nQ 40.484375 46.53125 36.375 47.5 \nQ 32.28125 48.484375 27.875 48.484375 \nQ 21.1875 48.484375 17.84375 46.4375 \nQ 14.5 44.390625 14.5 40.28125 \nQ 14.5 37.15625 16.890625 35.375 \nQ 19.28125 33.59375 26.515625 31.984375 \nL 29.59375 31.296875 \nQ 39.15625 29.25 43.1875 25.515625 \nQ 47.21875 21.78125 47.21875 15.09375 \nQ 47.21875 7.46875 41.1875 3.015625 \nQ 35.15625 -1.421875 24.609375 -1.421875 \nQ 20.21875 -1.421875 15.453125 -0.5625 \nQ 10.6875 0.296875 5.421875 2 \nL 5.421875 11.28125 \nQ 10.40625 8.6875 15.234375 7.390625 \nQ 20.0625 6.109375 24.8125 6.109375 \nQ 31.15625 6.109375 34.5625 8.28125 \nQ 37.984375 10.453125 37.984375 14.40625 \nQ 37.984375 18.0625 35.515625 20.015625 \nQ 33.0625 21.96875 24.703125 23.78125 \nL 21.578125 24.515625 \nQ 13.234375 26.265625 9.515625 29.90625 \nQ 5.8125 33.546875 5.8125 39.890625 \nQ 5.8125 47.609375 11.28125 51.796875 \nQ 16.75 56 26.8125 56 \nQ 31.78125 56 36.171875 55.265625 \nQ 40.578125 54.546875 44.28125 53.078125 \nz\n\" id=\"DejaVuSans-115\"/>\n       <path d=\"M 31 75.875 \nQ 24.46875 64.65625 21.28125 53.65625 \nQ 18.109375 42.671875 18.109375 31.390625 \nQ 18.109375 20.125 21.3125 9.0625 \nQ 24.515625 -2 31 -13.1875 \nL 23.1875 -13.1875 \nQ 15.875 -1.703125 12.234375 9.375 \nQ 8.59375 20.453125 8.59375 31.390625 \nQ 8.59375 42.28125 12.203125 53.3125 \nQ 15.828125 64.359375 23.1875 75.875 \nz\n\" id=\"DejaVuSans-40\"/>\n       <path d=\"M 2.984375 54.6875 \nL 12.5 54.6875 \nL 29.59375 8.796875 \nL 46.6875 54.6875 \nL 56.203125 54.6875 \nL 35.6875 0 \nL 23.484375 0 \nz\n\" id=\"DejaVuSans-118\"/>\n       <path d=\"M 34.28125 27.484375 \nQ 23.390625 27.484375 19.1875 25 \nQ 14.984375 22.515625 14.984375 16.5 \nQ 14.984375 11.71875 18.140625 8.90625 \nQ 21.296875 6.109375 26.703125 6.109375 \nQ 34.1875 6.109375 38.703125 11.40625 \nQ 43.21875 16.703125 43.21875 25.484375 \nL 43.21875 27.484375 \nz\nM 52.203125 31.203125 \nL 52.203125 0 \nL 43.21875 0 \nL 43.21875 8.296875 \nQ 40.140625 3.328125 35.546875 0.953125 \nQ 30.953125 -1.421875 24.3125 -1.421875 \nQ 15.921875 -1.421875 10.953125 3.296875 \nQ 6 8.015625 6 15.921875 \nQ 6 25.140625 12.171875 29.828125 \nQ 18.359375 34.515625 30.609375 34.515625 \nL 43.21875 34.515625 \nL 43.21875 35.40625 \nQ 43.21875 41.609375 39.140625 45 \nQ 35.0625 48.390625 27.6875 48.390625 \nQ 23 48.390625 18.546875 47.265625 \nQ 14.109375 46.140625 10.015625 43.890625 \nL 10.015625 52.203125 \nQ 14.9375 54.109375 19.578125 55.046875 \nQ 24.21875 56 28.609375 56 \nQ 40.484375 56 46.34375 49.84375 \nQ 52.203125 43.703125 52.203125 31.203125 \nz\n\" id=\"DejaVuSans-97\"/>\n       <path d=\"M 48.6875 27.296875 \nQ 48.6875 37.203125 44.609375 42.84375 \nQ 40.53125 48.484375 33.40625 48.484375 \nQ 26.265625 48.484375 22.1875 42.84375 \nQ 18.109375 37.203125 18.109375 27.296875 \nQ 18.109375 17.390625 22.1875 11.75 \nQ 26.265625 6.109375 33.40625 6.109375 \nQ 40.53125 6.109375 44.609375 11.75 \nQ 48.6875 17.390625 48.6875 27.296875 \nz\nM 18.109375 46.390625 \nQ 20.953125 51.265625 25.265625 53.625 \nQ 29.59375 56 35.59375 56 \nQ 45.5625 56 51.78125 48.09375 \nQ 58.015625 40.1875 58.015625 27.296875 \nQ 58.015625 14.40625 51.78125 6.484375 \nQ 45.5625 -1.421875 35.59375 -1.421875 \nQ 29.59375 -1.421875 25.265625 0.953125 \nQ 20.953125 3.328125 18.109375 8.203125 \nL 18.109375 0 \nL 9.078125 0 \nL 9.078125 75.984375 \nL 18.109375 75.984375 \nz\n\" id=\"DejaVuSans-98\"/>\n       <path d=\"M 9.421875 75.984375 \nL 18.40625 75.984375 \nL 18.40625 0 \nL 9.421875 0 \nz\n\" id=\"DejaVuSans-108\"/>\n       <path d=\"M 8.015625 75.875 \nL 15.828125 75.875 \nQ 23.140625 64.359375 26.78125 53.3125 \nQ 30.421875 42.28125 30.421875 31.390625 \nQ 30.421875 20.453125 26.78125 9.375 \nQ 23.140625 -1.703125 15.828125 -13.1875 \nL 8.015625 -13.1875 \nQ 14.5 -2 17.703125 9.0625 \nQ 20.90625 20.125 20.90625 31.390625 \nQ 20.90625 42.671875 17.703125 53.65625 \nQ 14.5 64.65625 8.015625 75.875 \nz\n\" id=\"DejaVuSans-41\"/>\n      </defs>\n      <use xlink:href=\"#DejaVuSans-109\"/>\n      <use x=\"97.412109\" xlink:href=\"#DejaVuSans-105\"/>\n      <use x=\"125.195312\" xlink:href=\"#DejaVuSans-110\"/>\n      <use x=\"188.574219\" xlink:href=\"#DejaVuSans-105\"/>\n      <use x=\"216.357422\" xlink:href=\"#DejaVuSans-109\"/>\n      <use x=\"313.769531\" xlink:href=\"#DejaVuSans-117\"/>\n      <use x=\"377.148438\" xlink:href=\"#DejaVuSans-109\"/>\n      <use x=\"474.560547\" xlink:href=\"#DejaVuSans-32\"/>\n      <use x=\"506.347656\" xlink:href=\"#DejaVuSans-102\"/>\n      <use x=\"541.552734\" xlink:href=\"#DejaVuSans-114\"/>\n      <use x=\"580.416016\" xlink:href=\"#DejaVuSans-101\"/>\n      <use x=\"641.939453\" xlink:href=\"#DejaVuSans-113\"/>\n      <use x=\"705.416016\" xlink:href=\"#DejaVuSans-117\"/>\n      <use x=\"768.794922\" xlink:href=\"#DejaVuSans-101\"/>\n      <use x=\"830.318359\" xlink:href=\"#DejaVuSans-110\"/>\n      <use x=\"893.697266\" xlink:href=\"#DejaVuSans-99\"/>\n      <use x=\"948.677734\" xlink:href=\"#DejaVuSans-121\"/>\n      <use x=\"1007.857422\" xlink:href=\"#DejaVuSans-32\"/>\n      <use x=\"1039.644531\" xlink:href=\"#DejaVuSans-111\"/>\n      <use x=\"1100.826172\" xlink:href=\"#DejaVuSans-102\"/>\n      <use x=\"1136.03125\" xlink:href=\"#DejaVuSans-32\"/>\n      <use x=\"1167.818359\" xlink:href=\"#DejaVuSans-119\"/>\n      <use x=\"1249.605469\" xlink:href=\"#DejaVuSans-111\"/>\n      <use x=\"1310.787109\" xlink:href=\"#DejaVuSans-114\"/>\n      <use x=\"1350.150391\" xlink:href=\"#DejaVuSans-100\"/>\n      <use x=\"1413.626953\" xlink:href=\"#DejaVuSans-115\"/>\n      <use x=\"1465.726562\" xlink:href=\"#DejaVuSans-32\"/>\n      <use x=\"1497.513672\" xlink:href=\"#DejaVuSans-40\"/>\n      <use x=\"1536.527344\" xlink:href=\"#DejaVuSans-118\"/>\n      <use x=\"1595.707031\" xlink:href=\"#DejaVuSans-111\"/>\n      <use x=\"1656.888672\" xlink:href=\"#DejaVuSans-99\"/>\n      <use x=\"1711.869141\" xlink:href=\"#DejaVuSans-97\"/>\n      <use x=\"1773.148438\" xlink:href=\"#DejaVuSans-98\"/>\n      <use x=\"1836.625\" xlink:href=\"#DejaVuSans-117\"/>\n      <use x=\"1900.003906\" xlink:href=\"#DejaVuSans-108\"/>\n      <use x=\"1927.787109\" xlink:href=\"#DejaVuSans-97\"/>\n      <use x=\"1989.066406\" xlink:href=\"#DejaVuSans-114\"/>\n      <use x=\"2030.179688\" xlink:href=\"#DejaVuSans-121\"/>\n      <use x=\"2089.359375\" xlink:href=\"#DejaVuSans-41\"/>\n     </g>\n    </g>\n   </g>\n   <g id=\"matplotlib.axis_2\">\n    <g id=\"ytick_1\">\n     <g id=\"line2d_7\">\n      <defs>\n       <path d=\"M 0 0 \nL -3.5 0 \n\" id=\"m1fde984f40\" style=\"stroke:#000000;stroke-width:0.8;\"/>\n      </defs>\n      <g>\n       <use style=\"stroke:#000000;stroke-width:0.8;\" x=\"52.079375\" xlink:href=\"#m1fde984f40\" y=\"431.829684\"/>\n      </g>\n     </g>\n     <g id=\"text_8\">\n      <!-- 0.62 -->\n      <g transform=\"translate(22.81375 435.628902)scale(0.1 -0.1)\">\n       <defs>\n        <path d=\"M 10.6875 12.40625 \nL 21 12.40625 \nL 21 0 \nL 10.6875 0 \nz\n\" id=\"DejaVuSans-46\"/>\n        <path d=\"M 19.1875 8.296875 \nL 53.609375 8.296875 \nL 53.609375 0 \nL 7.328125 0 \nL 7.328125 8.296875 \nQ 12.9375 14.109375 22.625 23.890625 \nQ 32.328125 33.6875 34.8125 36.53125 \nQ 39.546875 41.84375 41.421875 45.53125 \nQ 43.3125 49.21875 43.3125 52.78125 \nQ 43.3125 58.59375 39.234375 62.25 \nQ 35.15625 65.921875 28.609375 65.921875 \nQ 23.96875 65.921875 18.8125 64.3125 \nQ 13.671875 62.703125 7.8125 59.421875 \nL 7.8125 69.390625 \nQ 13.765625 71.78125 18.9375 73 \nQ 24.125 74.21875 28.421875 74.21875 \nQ 39.75 74.21875 46.484375 68.546875 \nQ 53.21875 62.890625 53.21875 53.421875 \nQ 53.21875 48.921875 51.53125 44.890625 \nQ 49.859375 40.875 45.40625 35.40625 \nQ 44.1875 33.984375 37.640625 27.21875 \nQ 31.109375 20.453125 19.1875 8.296875 \nz\n\" id=\"DejaVuSans-50\"/>\n       </defs>\n       <use xlink:href=\"#DejaVuSans-48\"/>\n       <use x=\"63.623047\" xlink:href=\"#DejaVuSans-46\"/>\n       <use x=\"95.410156\" xlink:href=\"#DejaVuSans-54\"/>\n       <use x=\"159.033203\" xlink:href=\"#DejaVuSans-50\"/>\n      </g>\n     </g>\n    </g>\n    <g id=\"ytick_2\">\n     <g id=\"line2d_8\">\n      <g>\n       <use style=\"stroke:#000000;stroke-width:0.8;\" x=\"52.079375\" xlink:href=\"#m1fde984f40\" y=\"357.281211\"/>\n      </g>\n     </g>\n     <g id=\"text_9\">\n      <!-- 0.63 -->\n      <g transform=\"translate(22.81375 361.080429)scale(0.1 -0.1)\">\n       <defs>\n        <path d=\"M 40.578125 39.3125 \nQ 47.65625 37.796875 51.625 33 \nQ 55.609375 28.21875 55.609375 21.1875 \nQ 55.609375 10.40625 48.1875 4.484375 \nQ 40.765625 -1.421875 27.09375 -1.421875 \nQ 22.515625 -1.421875 17.65625 -0.515625 \nQ 12.796875 0.390625 7.625 2.203125 \nL 7.625 11.71875 \nQ 11.71875 9.328125 16.59375 8.109375 \nQ 21.484375 6.890625 26.8125 6.890625 \nQ 36.078125 6.890625 40.9375 10.546875 \nQ 45.796875 14.203125 45.796875 21.1875 \nQ 45.796875 27.640625 41.28125 31.265625 \nQ 36.765625 34.90625 28.71875 34.90625 \nL 20.21875 34.90625 \nL 20.21875 43.015625 \nL 29.109375 43.015625 \nQ 36.375 43.015625 40.234375 45.921875 \nQ 44.09375 48.828125 44.09375 54.296875 \nQ 44.09375 59.90625 40.109375 62.90625 \nQ 36.140625 65.921875 28.71875 65.921875 \nQ 24.65625 65.921875 20.015625 65.03125 \nQ 15.375 64.15625 9.8125 62.3125 \nL 9.8125 71.09375 \nQ 15.4375 72.65625 20.34375 73.4375 \nQ 25.25 74.21875 29.59375 74.21875 \nQ 40.828125 74.21875 47.359375 69.109375 \nQ 53.90625 64.015625 53.90625 55.328125 \nQ 53.90625 49.265625 50.4375 45.09375 \nQ 46.96875 40.921875 40.578125 39.3125 \nz\n\" id=\"DejaVuSans-51\"/>\n       </defs>\n       <use xlink:href=\"#DejaVuSans-48\"/>\n       <use x=\"63.623047\" xlink:href=\"#DejaVuSans-46\"/>\n       <use x=\"95.410156\" xlink:href=\"#DejaVuSans-54\"/>\n       <use x=\"159.033203\" xlink:href=\"#DejaVuSans-51\"/>\n      </g>\n     </g>\n    </g>\n    <g id=\"ytick_3\">\n     <g id=\"line2d_9\">\n      <g>\n       <use style=\"stroke:#000000;stroke-width:0.8;\" x=\"52.079375\" xlink:href=\"#m1fde984f40\" y=\"282.732737\"/>\n      </g>\n     </g>\n     <g id=\"text_10\">\n      <!-- 0.64 -->\n      <g transform=\"translate(22.81375 286.531956)scale(0.1 -0.1)\">\n       <defs>\n        <path d=\"M 37.796875 64.3125 \nL 12.890625 25.390625 \nL 37.796875 25.390625 \nz\nM 35.203125 72.90625 \nL 47.609375 72.90625 \nL 47.609375 25.390625 \nL 58.015625 25.390625 \nL 58.015625 17.1875 \nL 47.609375 17.1875 \nL 47.609375 0 \nL 37.796875 0 \nL 37.796875 17.1875 \nL 4.890625 17.1875 \nL 4.890625 26.703125 \nz\n\" id=\"DejaVuSans-52\"/>\n       </defs>\n       <use xlink:href=\"#DejaVuSans-48\"/>\n       <use x=\"63.623047\" xlink:href=\"#DejaVuSans-46\"/>\n       <use x=\"95.410156\" xlink:href=\"#DejaVuSans-54\"/>\n       <use x=\"159.033203\" xlink:href=\"#DejaVuSans-52\"/>\n      </g>\n     </g>\n    </g>\n    <g id=\"ytick_4\">\n     <g id=\"line2d_10\">\n      <g>\n       <use style=\"stroke:#000000;stroke-width:0.8;\" x=\"52.079375\" xlink:href=\"#m1fde984f40\" y=\"208.184264\"/>\n      </g>\n     </g>\n     <g id=\"text_11\">\n      <!-- 0.65 -->\n      <g transform=\"translate(22.81375 211.983483)scale(0.1 -0.1)\">\n       <use xlink:href=\"#DejaVuSans-48\"/>\n       <use x=\"63.623047\" xlink:href=\"#DejaVuSans-46\"/>\n       <use x=\"95.410156\" xlink:href=\"#DejaVuSans-54\"/>\n       <use x=\"159.033203\" xlink:href=\"#DejaVuSans-53\"/>\n      </g>\n     </g>\n    </g>\n    <g id=\"ytick_5\">\n     <g id=\"line2d_11\">\n      <g>\n       <use style=\"stroke:#000000;stroke-width:0.8;\" x=\"52.079375\" xlink:href=\"#m1fde984f40\" y=\"133.635791\"/>\n      </g>\n     </g>\n     <g id=\"text_12\">\n      <!-- 0.66 -->\n      <g transform=\"translate(22.81375 137.43501)scale(0.1 -0.1)\">\n       <use xlink:href=\"#DejaVuSans-48\"/>\n       <use x=\"63.623047\" xlink:href=\"#DejaVuSans-46\"/>\n       <use x=\"95.410156\" xlink:href=\"#DejaVuSans-54\"/>\n       <use x=\"159.033203\" xlink:href=\"#DejaVuSans-54\"/>\n      </g>\n     </g>\n    </g>\n    <g id=\"text_13\">\n     <!-- loss -->\n     <g transform=\"translate(16.318125 299.349375)rotate(-90)scale(0.12 -0.12)\">\n      <use xlink:href=\"#DejaVuSans-108\"/>\n      <use x=\"27.783203\" xlink:href=\"#DejaVuSans-111\"/>\n      <use x=\"88.964844\" xlink:href=\"#DejaVuSans-115\"/>\n      <use x=\"141.064453\" xlink:href=\"#DejaVuSans-115\"/>\n     </g>\n    </g>\n   </g>\n   <g id=\"line2d_12\">\n    <path clip-path=\"url(#pe7f899eb1f)\" d=\"M 75.137226 356.147557 \nL 536.294251 324.106887 \n\" style=\"fill:none;stroke:#1f77b4;stroke-linecap:square;stroke-width:1.5;\"/>\n   </g>\n   <g id=\"line2d_13\">\n    <path clip-path=\"url(#pe7f899eb1f)\" d=\"M 75.137226 106.382523 \nL 536.294251 90.087273 \n\" style=\"fill:none;stroke:#ff7f0e;stroke-linecap:square;stroke-width:1.5;\"/>\n   </g>\n   <g id=\"line2d_14\">\n    <path clip-path=\"url(#pe7f899eb1f)\" d=\"M 75.137226 485.432727 \nL 536.294251 450.528641 \n\" style=\"fill:none;stroke:#2ca02c;stroke-linecap:square;stroke-width:1.5;\"/>\n   </g>\n   <g id=\"patch_3\">\n    <path d=\"M 52.079375 505.2 \nL 52.079375 70.32 \n\" style=\"fill:none;stroke:#000000;stroke-linecap:square;stroke-linejoin:miter;stroke-width:0.8;\"/>\n   </g>\n   <g id=\"patch_4\">\n    <path d=\"M 559.352102 505.2 \nL 559.352102 70.32 \n\" style=\"fill:none;stroke:#000000;stroke-linecap:square;stroke-linejoin:miter;stroke-width:0.8;\"/>\n   </g>\n   <g id=\"patch_5\">\n    <path d=\"M 52.079375 505.2 \nL 559.352102 505.2 \n\" style=\"fill:none;stroke:#000000;stroke-linecap:square;stroke-linejoin:miter;stroke-width:0.8;\"/>\n   </g>\n   <g id=\"patch_6\">\n    <path d=\"M 52.079375 70.32 \nL 559.352102 70.32 \n\" style=\"fill:none;stroke:#000000;stroke-linecap:square;stroke-linejoin:miter;stroke-width:0.8;\"/>\n   </g>\n  </g>\n  <g id=\"axes_2\">\n   <g id=\"patch_7\">\n    <path d=\"M 660.806648 505.2 \nL 1168.079375 505.2 \nL 1168.079375 70.32 \nL 660.806648 70.32 \nz\n\" style=\"fill:#ffffff;\"/>\n   </g>\n   <g id=\"matplotlib.axis_3\">\n    <g id=\"xtick_7\">\n     <g id=\"line2d_15\">\n      <g>\n       <use style=\"stroke:#000000;stroke-width:0.8;\" x=\"683.864499\" xlink:href=\"#md9c5cf1f5a\" y=\"505.2\"/>\n      </g>\n     </g>\n     <g id=\"text_14\">\n      <!-- 5 -->\n      <g transform=\"translate(680.683249 519.798437)scale(0.1 -0.1)\">\n       <use xlink:href=\"#DejaVuSans-53\"/>\n      </g>\n     </g>\n    </g>\n    <g id=\"xtick_8\">\n     <g id=\"line2d_16\">\n      <g>\n       <use style=\"stroke:#000000;stroke-width:0.8;\" x=\"776.095904\" xlink:href=\"#md9c5cf1f5a\" y=\"505.2\"/>\n      </g>\n     </g>\n     <g id=\"text_15\">\n      <!-- 6 -->\n      <g transform=\"translate(772.914654 519.798437)scale(0.1 -0.1)\">\n       <use xlink:href=\"#DejaVuSans-54\"/>\n      </g>\n     </g>\n    </g>\n    <g id=\"xtick_9\">\n     <g id=\"line2d_17\">\n      <g>\n       <use style=\"stroke:#000000;stroke-width:0.8;\" x=\"868.327309\" xlink:href=\"#md9c5cf1f5a\" y=\"505.2\"/>\n      </g>\n     </g>\n     <g id=\"text_16\">\n      <!-- 7 -->\n      <g transform=\"translate(865.146059 519.798437)scale(0.1 -0.1)\">\n       <use xlink:href=\"#DejaVuSans-55\"/>\n      </g>\n     </g>\n    </g>\n    <g id=\"xtick_10\">\n     <g id=\"line2d_18\">\n      <g>\n       <use style=\"stroke:#000000;stroke-width:0.8;\" x=\"960.558714\" xlink:href=\"#md9c5cf1f5a\" y=\"505.2\"/>\n      </g>\n     </g>\n     <g id=\"text_17\">\n      <!-- 8 -->\n      <g transform=\"translate(957.377464 519.798437)scale(0.1 -0.1)\">\n       <use xlink:href=\"#DejaVuSans-56\"/>\n      </g>\n     </g>\n    </g>\n    <g id=\"xtick_11\">\n     <g id=\"line2d_19\">\n      <g>\n       <use style=\"stroke:#000000;stroke-width:0.8;\" x=\"1052.790119\" xlink:href=\"#md9c5cf1f5a\" y=\"505.2\"/>\n      </g>\n     </g>\n     <g id=\"text_18\">\n      <!-- 9 -->\n      <g transform=\"translate(1049.608869 519.798437)scale(0.1 -0.1)\">\n       <use xlink:href=\"#DejaVuSans-57\"/>\n      </g>\n     </g>\n    </g>\n    <g id=\"xtick_12\">\n     <g id=\"line2d_20\">\n      <g>\n       <use style=\"stroke:#000000;stroke-width:0.8;\" x=\"1145.021524\" xlink:href=\"#md9c5cf1f5a\" y=\"505.2\"/>\n      </g>\n     </g>\n     <g id=\"text_19\">\n      <!-- 10 -->\n      <g transform=\"translate(1138.659024 519.798437)scale(0.1 -0.1)\">\n       <use xlink:href=\"#DejaVuSans-49\"/>\n       <use x=\"63.623047\" xlink:href=\"#DejaVuSans-48\"/>\n      </g>\n     </g>\n    </g>\n    <g id=\"text_20\">\n     <!-- minimum frequency of words (vocabulary) -->\n     <g transform=\"translate(786.740511 534.99625)scale(0.12 -0.12)\">\n      <use xlink:href=\"#DejaVuSans-109\"/>\n      <use x=\"97.412109\" xlink:href=\"#DejaVuSans-105\"/>\n      <use x=\"125.195312\" xlink:href=\"#DejaVuSans-110\"/>\n      <use x=\"188.574219\" xlink:href=\"#DejaVuSans-105\"/>\n      <use x=\"216.357422\" xlink:href=\"#DejaVuSans-109\"/>\n      <use x=\"313.769531\" xlink:href=\"#DejaVuSans-117\"/>\n      <use x=\"377.148438\" xlink:href=\"#DejaVuSans-109\"/>\n      <use x=\"474.560547\" xlink:href=\"#DejaVuSans-32\"/>\n      <use x=\"506.347656\" xlink:href=\"#DejaVuSans-102\"/>\n      <use x=\"541.552734\" xlink:href=\"#DejaVuSans-114\"/>\n      <use x=\"580.416016\" xlink:href=\"#DejaVuSans-101\"/>\n      <use x=\"641.939453\" xlink:href=\"#DejaVuSans-113\"/>\n      <use x=\"705.416016\" xlink:href=\"#DejaVuSans-117\"/>\n      <use x=\"768.794922\" xlink:href=\"#DejaVuSans-101\"/>\n      <use x=\"830.318359\" xlink:href=\"#DejaVuSans-110\"/>\n      <use x=\"893.697266\" xlink:href=\"#DejaVuSans-99\"/>\n      <use x=\"948.677734\" xlink:href=\"#DejaVuSans-121\"/>\n      <use x=\"1007.857422\" xlink:href=\"#DejaVuSans-32\"/>\n      <use x=\"1039.644531\" xlink:href=\"#DejaVuSans-111\"/>\n      <use x=\"1100.826172\" xlink:href=\"#DejaVuSans-102\"/>\n      <use x=\"1136.03125\" xlink:href=\"#DejaVuSans-32\"/>\n      <use x=\"1167.818359\" xlink:href=\"#DejaVuSans-119\"/>\n      <use x=\"1249.605469\" xlink:href=\"#DejaVuSans-111\"/>\n      <use x=\"1310.787109\" xlink:href=\"#DejaVuSans-114\"/>\n      <use x=\"1350.150391\" xlink:href=\"#DejaVuSans-100\"/>\n      <use x=\"1413.626953\" xlink:href=\"#DejaVuSans-115\"/>\n      <use x=\"1465.726562\" xlink:href=\"#DejaVuSans-32\"/>\n      <use x=\"1497.513672\" xlink:href=\"#DejaVuSans-40\"/>\n      <use x=\"1536.527344\" xlink:href=\"#DejaVuSans-118\"/>\n      <use x=\"1595.707031\" xlink:href=\"#DejaVuSans-111\"/>\n      <use x=\"1656.888672\" xlink:href=\"#DejaVuSans-99\"/>\n      <use x=\"1711.869141\" xlink:href=\"#DejaVuSans-97\"/>\n      <use x=\"1773.148438\" xlink:href=\"#DejaVuSans-98\"/>\n      <use x=\"1836.625\" xlink:href=\"#DejaVuSans-117\"/>\n      <use x=\"1900.003906\" xlink:href=\"#DejaVuSans-108\"/>\n      <use x=\"1927.787109\" xlink:href=\"#DejaVuSans-97\"/>\n      <use x=\"1989.066406\" xlink:href=\"#DejaVuSans-114\"/>\n      <use x=\"2030.179688\" xlink:href=\"#DejaVuSans-121\"/>\n      <use x=\"2089.359375\" xlink:href=\"#DejaVuSans-41\"/>\n     </g>\n    </g>\n   </g>\n   <g id=\"matplotlib.axis_4\">\n    <g id=\"ytick_6\">\n     <g id=\"line2d_21\">\n      <g>\n       <use style=\"stroke:#000000;stroke-width:0.8;\" x=\"660.806648\" xlink:href=\"#m1fde984f40\" y=\"498.987429\"/>\n      </g>\n     </g>\n     <g id=\"text_21\">\n      <!-- 65 -->\n      <g transform=\"translate(641.081648 502.786647)scale(0.1 -0.1)\">\n       <use xlink:href=\"#DejaVuSans-54\"/>\n       <use x=\"63.623047\" xlink:href=\"#DejaVuSans-53\"/>\n      </g>\n     </g>\n    </g>\n    <g id=\"ytick_7\">\n     <g id=\"line2d_22\">\n      <g>\n       <use style=\"stroke:#000000;stroke-width:0.8;\" x=\"660.806648\" xlink:href=\"#m1fde984f40\" y=\"442.509506\"/>\n      </g>\n     </g>\n     <g id=\"text_22\">\n      <!-- 66 -->\n      <g transform=\"translate(641.081648 446.308725)scale(0.1 -0.1)\">\n       <use xlink:href=\"#DejaVuSans-54\"/>\n       <use x=\"63.623047\" xlink:href=\"#DejaVuSans-54\"/>\n      </g>\n     </g>\n    </g>\n    <g id=\"ytick_8\">\n     <g id=\"line2d_23\">\n      <g>\n       <use style=\"stroke:#000000;stroke-width:0.8;\" x=\"660.806648\" xlink:href=\"#m1fde984f40\" y=\"386.031584\"/>\n      </g>\n     </g>\n     <g id=\"text_23\">\n      <!-- 67 -->\n      <g transform=\"translate(641.081648 389.830803)scale(0.1 -0.1)\">\n       <use xlink:href=\"#DejaVuSans-54\"/>\n       <use x=\"63.623047\" xlink:href=\"#DejaVuSans-55\"/>\n      </g>\n     </g>\n    </g>\n    <g id=\"ytick_9\">\n     <g id=\"line2d_24\">\n      <g>\n       <use style=\"stroke:#000000;stroke-width:0.8;\" x=\"660.806648\" xlink:href=\"#m1fde984f40\" y=\"329.553662\"/>\n      </g>\n     </g>\n     <g id=\"text_24\">\n      <!-- 68 -->\n      <g transform=\"translate(641.081648 333.352881)scale(0.1 -0.1)\">\n       <use xlink:href=\"#DejaVuSans-54\"/>\n       <use x=\"63.623047\" xlink:href=\"#DejaVuSans-56\"/>\n      </g>\n     </g>\n    </g>\n    <g id=\"ytick_10\">\n     <g id=\"line2d_25\">\n      <g>\n       <use style=\"stroke:#000000;stroke-width:0.8;\" x=\"660.806648\" xlink:href=\"#m1fde984f40\" y=\"273.07574\"/>\n      </g>\n     </g>\n     <g id=\"text_25\">\n      <!-- 69 -->\n      <g transform=\"translate(641.081648 276.874959)scale(0.1 -0.1)\">\n       <use xlink:href=\"#DejaVuSans-54\"/>\n       <use x=\"63.623047\" xlink:href=\"#DejaVuSans-57\"/>\n      </g>\n     </g>\n    </g>\n    <g id=\"ytick_11\">\n     <g id=\"line2d_26\">\n      <g>\n       <use style=\"stroke:#000000;stroke-width:0.8;\" x=\"660.806648\" xlink:href=\"#m1fde984f40\" y=\"216.597818\"/>\n      </g>\n     </g>\n     <g id=\"text_26\">\n      <!-- 70 -->\n      <g transform=\"translate(641.081648 220.397037)scale(0.1 -0.1)\">\n       <use xlink:href=\"#DejaVuSans-55\"/>\n       <use x=\"63.623047\" xlink:href=\"#DejaVuSans-48\"/>\n      </g>\n     </g>\n    </g>\n    <g id=\"ytick_12\">\n     <g id=\"line2d_27\">\n      <g>\n       <use style=\"stroke:#000000;stroke-width:0.8;\" x=\"660.806648\" xlink:href=\"#m1fde984f40\" y=\"160.119896\"/>\n      </g>\n     </g>\n     <g id=\"text_27\">\n      <!-- 71 -->\n      <g transform=\"translate(641.081648 163.919115)scale(0.1 -0.1)\">\n       <use xlink:href=\"#DejaVuSans-55\"/>\n       <use x=\"63.623047\" xlink:href=\"#DejaVuSans-49\"/>\n      </g>\n     </g>\n    </g>\n    <g id=\"ytick_13\">\n     <g id=\"line2d_28\">\n      <g>\n       <use style=\"stroke:#000000;stroke-width:0.8;\" x=\"660.806648\" xlink:href=\"#m1fde984f40\" y=\"103.641974\"/>\n      </g>\n     </g>\n     <g id=\"text_28\">\n      <!-- 72 -->\n      <g transform=\"translate(641.081648 107.441193)scale(0.1 -0.1)\">\n       <use xlink:href=\"#DejaVuSans-55\"/>\n       <use x=\"63.623047\" xlink:href=\"#DejaVuSans-50\"/>\n      </g>\n     </g>\n    </g>\n    <g id=\"text_29\">\n     <!-- accuracy -->\n     <g transform=\"translate(634.586023 314.83125)rotate(-90)scale(0.12 -0.12)\">\n      <use xlink:href=\"#DejaVuSans-97\"/>\n      <use x=\"61.279297\" xlink:href=\"#DejaVuSans-99\"/>\n      <use x=\"116.259766\" xlink:href=\"#DejaVuSans-99\"/>\n      <use x=\"171.240234\" xlink:href=\"#DejaVuSans-117\"/>\n      <use x=\"234.619141\" xlink:href=\"#DejaVuSans-114\"/>\n      <use x=\"275.732422\" xlink:href=\"#DejaVuSans-97\"/>\n      <use x=\"337.011719\" xlink:href=\"#DejaVuSans-99\"/>\n      <use x=\"391.992188\" xlink:href=\"#DejaVuSans-121\"/>\n     </g>\n    </g>\n   </g>\n   <g id=\"line2d_29\">\n    <path clip-path=\"url(#p6bb411bf3b)\" d=\"M 683.864499 252.743688 \nL 1145.021524 291.148675 \n\" style=\"fill:none;stroke:#1f77b4;stroke-linecap:square;stroke-width:1.5;\"/>\n   </g>\n   <g id=\"line2d_30\">\n    <path clip-path=\"url(#p6bb411bf3b)\" d=\"M 683.864499 460.582442 \nL 1145.021524 485.432727 \n\" style=\"fill:none;stroke:#ff7f0e;stroke-linecap:square;stroke-width:1.5;\"/>\n   </g>\n   <g id=\"line2d_31\">\n    <path clip-path=\"url(#p6bb411bf3b)\" d=\"M 683.864499 90.087273 \nL 1145.021524 96.864623 \n\" style=\"fill:none;stroke:#2ca02c;stroke-linecap:square;stroke-width:1.5;\"/>\n   </g>\n   <g id=\"patch_8\">\n    <path d=\"M 660.806648 505.2 \nL 660.806648 70.32 \n\" style=\"fill:none;stroke:#000000;stroke-linecap:square;stroke-linejoin:miter;stroke-width:0.8;\"/>\n   </g>\n   <g id=\"patch_9\">\n    <path d=\"M 1168.079375 505.2 \nL 1168.079375 70.32 \n\" style=\"fill:none;stroke:#000000;stroke-linecap:square;stroke-linejoin:miter;stroke-width:0.8;\"/>\n   </g>\n   <g id=\"patch_10\">\n    <path d=\"M 660.806648 505.2 \nL 1168.079375 505.2 \n\" style=\"fill:none;stroke:#000000;stroke-linecap:square;stroke-linejoin:miter;stroke-width:0.8;\"/>\n   </g>\n   <g id=\"patch_11\">\n    <path d=\"M 660.806648 70.32 \nL 1168.079375 70.32 \n\" style=\"fill:none;stroke:#000000;stroke-linecap:square;stroke-linejoin:miter;stroke-width:0.8;\"/>\n   </g>\n  </g>\n  <g id=\"text_30\">\n   <!-- Performance of models trained with 2000 documents -->\n   <g transform=\"translate(352.206875 26.397187)scale(0.18 -0.18)\">\n    <defs>\n     <path d=\"M 19.671875 64.796875 \nL 19.671875 37.40625 \nL 32.078125 37.40625 \nQ 38.96875 37.40625 42.71875 40.96875 \nQ 46.484375 44.53125 46.484375 51.125 \nQ 46.484375 57.671875 42.71875 61.234375 \nQ 38.96875 64.796875 32.078125 64.796875 \nz\nM 9.8125 72.90625 \nL 32.078125 72.90625 \nQ 44.34375 72.90625 50.609375 67.359375 \nQ 56.890625 61.8125 56.890625 51.125 \nQ 56.890625 40.328125 50.609375 34.8125 \nQ 44.34375 29.296875 32.078125 29.296875 \nL 19.671875 29.296875 \nL 19.671875 0 \nL 9.8125 0 \nz\n\" id=\"DejaVuSans-80\"/>\n     <path d=\"M 18.3125 70.21875 \nL 18.3125 54.6875 \nL 36.8125 54.6875 \nL 36.8125 47.703125 \nL 18.3125 47.703125 \nL 18.3125 18.015625 \nQ 18.3125 11.328125 20.140625 9.421875 \nQ 21.96875 7.515625 27.59375 7.515625 \nL 36.8125 7.515625 \nL 36.8125 0 \nL 27.59375 0 \nQ 17.1875 0 13.234375 3.875 \nQ 9.28125 7.765625 9.28125 18.015625 \nL 9.28125 47.703125 \nL 2.6875 47.703125 \nL 2.6875 54.6875 \nL 9.28125 54.6875 \nL 9.28125 70.21875 \nz\n\" id=\"DejaVuSans-116\"/>\n     <path d=\"M 54.890625 33.015625 \nL 54.890625 0 \nL 45.90625 0 \nL 45.90625 32.71875 \nQ 45.90625 40.484375 42.875 44.328125 \nQ 39.84375 48.1875 33.796875 48.1875 \nQ 26.515625 48.1875 22.3125 43.546875 \nQ 18.109375 38.921875 18.109375 30.90625 \nL 18.109375 0 \nL 9.078125 0 \nL 9.078125 75.984375 \nL 18.109375 75.984375 \nL 18.109375 46.1875 \nQ 21.34375 51.125 25.703125 53.5625 \nQ 30.078125 56 35.796875 56 \nQ 45.21875 56 50.046875 50.171875 \nQ 54.890625 44.34375 54.890625 33.015625 \nz\n\" id=\"DejaVuSans-104\"/>\n    </defs>\n    <use xlink:href=\"#DejaVuSans-80\"/>\n    <use x=\"56.677734\" xlink:href=\"#DejaVuSans-101\"/>\n    <use x=\"118.201172\" xlink:href=\"#DejaVuSans-114\"/>\n    <use x=\"159.314453\" xlink:href=\"#DejaVuSans-102\"/>\n    <use x=\"194.519531\" xlink:href=\"#DejaVuSans-111\"/>\n    <use x=\"255.701172\" xlink:href=\"#DejaVuSans-114\"/>\n    <use x=\"295.064453\" xlink:href=\"#DejaVuSans-109\"/>\n    <use x=\"392.476562\" xlink:href=\"#DejaVuSans-97\"/>\n    <use x=\"453.755859\" xlink:href=\"#DejaVuSans-110\"/>\n    <use x=\"517.134766\" xlink:href=\"#DejaVuSans-99\"/>\n    <use x=\"572.115234\" xlink:href=\"#DejaVuSans-101\"/>\n    <use x=\"633.638672\" xlink:href=\"#DejaVuSans-32\"/>\n    <use x=\"665.425781\" xlink:href=\"#DejaVuSans-111\"/>\n    <use x=\"726.607422\" xlink:href=\"#DejaVuSans-102\"/>\n    <use x=\"761.8125\" xlink:href=\"#DejaVuSans-32\"/>\n    <use x=\"793.599609\" xlink:href=\"#DejaVuSans-109\"/>\n    <use x=\"891.011719\" xlink:href=\"#DejaVuSans-111\"/>\n    <use x=\"952.193359\" xlink:href=\"#DejaVuSans-100\"/>\n    <use x=\"1015.669922\" xlink:href=\"#DejaVuSans-101\"/>\n    <use x=\"1077.193359\" xlink:href=\"#DejaVuSans-108\"/>\n    <use x=\"1104.976562\" xlink:href=\"#DejaVuSans-115\"/>\n    <use x=\"1157.076172\" xlink:href=\"#DejaVuSans-32\"/>\n    <use x=\"1188.863281\" xlink:href=\"#DejaVuSans-116\"/>\n    <use x=\"1228.072266\" xlink:href=\"#DejaVuSans-114\"/>\n    <use x=\"1269.185547\" xlink:href=\"#DejaVuSans-97\"/>\n    <use x=\"1330.464844\" xlink:href=\"#DejaVuSans-105\"/>\n    <use x=\"1358.248047\" xlink:href=\"#DejaVuSans-110\"/>\n    <use x=\"1421.626953\" xlink:href=\"#DejaVuSans-101\"/>\n    <use x=\"1483.150391\" xlink:href=\"#DejaVuSans-100\"/>\n    <use x=\"1546.626953\" xlink:href=\"#DejaVuSans-32\"/>\n    <use x=\"1578.414062\" xlink:href=\"#DejaVuSans-119\"/>\n    <use x=\"1660.201172\" xlink:href=\"#DejaVuSans-105\"/>\n    <use x=\"1687.984375\" xlink:href=\"#DejaVuSans-116\"/>\n    <use x=\"1727.193359\" xlink:href=\"#DejaVuSans-104\"/>\n    <use x=\"1790.572266\" xlink:href=\"#DejaVuSans-32\"/>\n    <use x=\"1822.359375\" xlink:href=\"#DejaVuSans-50\"/>\n    <use x=\"1885.982422\" xlink:href=\"#DejaVuSans-48\"/>\n    <use x=\"1949.605469\" xlink:href=\"#DejaVuSans-48\"/>\n    <use x=\"2013.228516\" xlink:href=\"#DejaVuSans-48\"/>\n    <use x=\"2076.851562\" xlink:href=\"#DejaVuSans-32\"/>\n    <use x=\"2108.638672\" xlink:href=\"#DejaVuSans-100\"/>\n    <use x=\"2172.115234\" xlink:href=\"#DejaVuSans-111\"/>\n    <use x=\"2233.296875\" xlink:href=\"#DejaVuSans-99\"/>\n    <use x=\"2288.277344\" xlink:href=\"#DejaVuSans-117\"/>\n    <use x=\"2351.65625\" xlink:href=\"#DejaVuSans-109\"/>\n    <use x=\"2449.068359\" xlink:href=\"#DejaVuSans-101\"/>\n    <use x=\"2510.591797\" xlink:href=\"#DejaVuSans-110\"/>\n    <use x=\"2573.970703\" xlink:href=\"#DejaVuSans-116\"/>\n    <use x=\"2613.179688\" xlink:href=\"#DejaVuSans-115\"/>\n   </g>\n  </g>\n  <g id=\"legend_1\">\n   <g id=\"patch_12\">\n    <path d=\"M 1089.17 62.44125 \nL 1304.879375 62.44125 \nQ 1307.279375 62.44125 1307.279375 60.04125 \nL 1307.279375 8.4 \nQ 1307.279375 6 1304.879375 6 \nL 1089.17 6 \nQ 1086.77 6 1086.77 8.4 \nL 1086.77 60.04125 \nQ 1086.77 62.44125 1089.17 62.44125 \nz\n\" style=\"fill:#ffffff;opacity:0.8;stroke:#cccccc;stroke-linejoin:miter;\"/>\n   </g>\n   <g id=\"line2d_32\">\n    <path d=\"M 1091.57 15.718125 \nL 1115.57 15.718125 \n\" style=\"fill:none;stroke:#1f77b4;stroke-linecap:square;stroke-width:1.5;\"/>\n   </g>\n   <g id=\"line2d_33\"/>\n   <g id=\"text_31\">\n    <!-- Avg Model -->\n    <g transform=\"translate(1125.17 19.918125)scale(0.12 -0.12)\">\n     <defs>\n      <path d=\"M 34.1875 63.1875 \nL 20.796875 26.90625 \nL 47.609375 26.90625 \nz\nM 28.609375 72.90625 \nL 39.796875 72.90625 \nL 67.578125 0 \nL 57.328125 0 \nL 50.6875 18.703125 \nL 17.828125 18.703125 \nL 11.1875 0 \nL 0.78125 0 \nz\n\" id=\"DejaVuSans-65\"/>\n      <path d=\"M 45.40625 27.984375 \nQ 45.40625 37.75 41.375 43.109375 \nQ 37.359375 48.484375 30.078125 48.484375 \nQ 22.859375 48.484375 18.828125 43.109375 \nQ 14.796875 37.75 14.796875 27.984375 \nQ 14.796875 18.265625 18.828125 12.890625 \nQ 22.859375 7.515625 30.078125 7.515625 \nQ 37.359375 7.515625 41.375 12.890625 \nQ 45.40625 18.265625 45.40625 27.984375 \nz\nM 54.390625 6.78125 \nQ 54.390625 -7.171875 48.1875 -13.984375 \nQ 42 -20.796875 29.203125 -20.796875 \nQ 24.46875 -20.796875 20.265625 -20.09375 \nQ 16.0625 -19.390625 12.109375 -17.921875 \nL 12.109375 -9.1875 \nQ 16.0625 -11.328125 19.921875 -12.34375 \nQ 23.78125 -13.375 27.78125 -13.375 \nQ 36.625 -13.375 41.015625 -8.765625 \nQ 45.40625 -4.15625 45.40625 5.171875 \nL 45.40625 9.625 \nQ 42.625 4.78125 38.28125 2.390625 \nQ 33.9375 0 27.875 0 \nQ 17.828125 0 11.671875 7.65625 \nQ 5.515625 15.328125 5.515625 27.984375 \nQ 5.515625 40.671875 11.671875 48.328125 \nQ 17.828125 56 27.875 56 \nQ 33.9375 56 38.28125 53.609375 \nQ 42.625 51.21875 45.40625 46.390625 \nL 45.40625 54.6875 \nL 54.390625 54.6875 \nz\n\" id=\"DejaVuSans-103\"/>\n      <path d=\"M 9.8125 72.90625 \nL 24.515625 72.90625 \nL 43.109375 23.296875 \nL 61.8125 72.90625 \nL 76.515625 72.90625 \nL 76.515625 0 \nL 66.890625 0 \nL 66.890625 64.015625 \nL 48.09375 14.015625 \nL 38.1875 14.015625 \nL 19.390625 64.015625 \nL 19.390625 0 \nL 9.8125 0 \nz\n\" id=\"DejaVuSans-77\"/>\n     </defs>\n     <use xlink:href=\"#DejaVuSans-65\"/>\n     <use x=\"62.533203\" xlink:href=\"#DejaVuSans-118\"/>\n     <use x=\"121.712891\" xlink:href=\"#DejaVuSans-103\"/>\n     <use x=\"185.189453\" xlink:href=\"#DejaVuSans-32\"/>\n     <use x=\"216.976562\" xlink:href=\"#DejaVuSans-77\"/>\n     <use x=\"303.255859\" xlink:href=\"#DejaVuSans-111\"/>\n     <use x=\"364.4375\" xlink:href=\"#DejaVuSans-100\"/>\n     <use x=\"427.914062\" xlink:href=\"#DejaVuSans-101\"/>\n     <use x=\"489.4375\" xlink:href=\"#DejaVuSans-108\"/>\n    </g>\n   </g>\n   <g id=\"line2d_34\">\n    <path d=\"M 1091.57 33.331875 \nL 1115.57 33.331875 \n\" style=\"fill:none;stroke:#ff7f0e;stroke-linecap:square;stroke-width:1.5;\"/>\n   </g>\n   <g id=\"line2d_35\"/>\n   <g id=\"text_32\">\n    <!-- Avg Model, GloVe -->\n    <g transform=\"translate(1125.17 37.531875)scale(0.12 -0.12)\">\n     <defs>\n      <path d=\"M 11.71875 12.40625 \nL 22.015625 12.40625 \nL 22.015625 4 \nL 14.015625 -11.625 \nL 7.71875 -11.625 \nL 11.71875 4 \nz\n\" id=\"DejaVuSans-44\"/>\n      <path d=\"M 59.515625 10.40625 \nL 59.515625 29.984375 \nL 43.40625 29.984375 \nL 43.40625 38.09375 \nL 69.28125 38.09375 \nL 69.28125 6.78125 \nQ 63.578125 2.734375 56.6875 0.65625 \nQ 49.8125 -1.421875 42 -1.421875 \nQ 24.90625 -1.421875 15.25 8.5625 \nQ 5.609375 18.5625 5.609375 36.375 \nQ 5.609375 54.25 15.25 64.234375 \nQ 24.90625 74.21875 42 74.21875 \nQ 49.125 74.21875 55.546875 72.453125 \nQ 61.96875 70.703125 67.390625 67.28125 \nL 67.390625 56.78125 \nQ 61.921875 61.421875 55.765625 63.765625 \nQ 49.609375 66.109375 42.828125 66.109375 \nQ 29.4375 66.109375 22.71875 58.640625 \nQ 16.015625 51.171875 16.015625 36.375 \nQ 16.015625 21.625 22.71875 14.15625 \nQ 29.4375 6.6875 42.828125 6.6875 \nQ 48.046875 6.6875 52.140625 7.59375 \nQ 56.25 8.5 59.515625 10.40625 \nz\n\" id=\"DejaVuSans-71\"/>\n      <path d=\"M 28.609375 0 \nL 0.78125 72.90625 \nL 11.078125 72.90625 \nL 34.1875 11.53125 \nL 57.328125 72.90625 \nL 67.578125 72.90625 \nL 39.796875 0 \nz\n\" id=\"DejaVuSans-86\"/>\n     </defs>\n     <use xlink:href=\"#DejaVuSans-65\"/>\n     <use x=\"62.533203\" xlink:href=\"#DejaVuSans-118\"/>\n     <use x=\"121.712891\" xlink:href=\"#DejaVuSans-103\"/>\n     <use x=\"185.189453\" xlink:href=\"#DejaVuSans-32\"/>\n     <use x=\"216.976562\" xlink:href=\"#DejaVuSans-77\"/>\n     <use x=\"303.255859\" xlink:href=\"#DejaVuSans-111\"/>\n     <use x=\"364.4375\" xlink:href=\"#DejaVuSans-100\"/>\n     <use x=\"427.914062\" xlink:href=\"#DejaVuSans-101\"/>\n     <use x=\"489.4375\" xlink:href=\"#DejaVuSans-108\"/>\n     <use x=\"517.220703\" xlink:href=\"#DejaVuSans-44\"/>\n     <use x=\"549.007812\" xlink:href=\"#DejaVuSans-32\"/>\n     <use x=\"580.794922\" xlink:href=\"#DejaVuSans-71\"/>\n     <use x=\"658.285156\" xlink:href=\"#DejaVuSans-108\"/>\n     <use x=\"686.068359\" xlink:href=\"#DejaVuSans-111\"/>\n     <use x=\"747.25\" xlink:href=\"#DejaVuSans-86\"/>\n     <use x=\"807.908203\" xlink:href=\"#DejaVuSans-101\"/>\n    </g>\n   </g>\n   <g id=\"line2d_36\">\n    <path d=\"M 1091.57 50.945625 \nL 1115.57 50.945625 \n\" style=\"fill:none;stroke:#2ca02c;stroke-linecap:square;stroke-width:1.5;\"/>\n   </g>\n   <g id=\"line2d_37\"/>\n   <g id=\"text_33\">\n    <!-- Avg Model, GloVe, fine-tuning -->\n    <g transform=\"translate(1125.17 55.145625)scale(0.12 -0.12)\">\n     <defs>\n      <path d=\"M 4.890625 31.390625 \nL 31.203125 31.390625 \nL 31.203125 23.390625 \nL 4.890625 23.390625 \nz\n\" id=\"DejaVuSans-45\"/>\n     </defs>\n     <use xlink:href=\"#DejaVuSans-65\"/>\n     <use x=\"62.533203\" xlink:href=\"#DejaVuSans-118\"/>\n     <use x=\"121.712891\" xlink:href=\"#DejaVuSans-103\"/>\n     <use x=\"185.189453\" xlink:href=\"#DejaVuSans-32\"/>\n     <use x=\"216.976562\" xlink:href=\"#DejaVuSans-77\"/>\n     <use x=\"303.255859\" xlink:href=\"#DejaVuSans-111\"/>\n     <use x=\"364.4375\" xlink:href=\"#DejaVuSans-100\"/>\n     <use x=\"427.914062\" xlink:href=\"#DejaVuSans-101\"/>\n     <use x=\"489.4375\" xlink:href=\"#DejaVuSans-108\"/>\n     <use x=\"517.220703\" xlink:href=\"#DejaVuSans-44\"/>\n     <use x=\"549.007812\" xlink:href=\"#DejaVuSans-32\"/>\n     <use x=\"580.794922\" xlink:href=\"#DejaVuSans-71\"/>\n     <use x=\"658.285156\" xlink:href=\"#DejaVuSans-108\"/>\n     <use x=\"686.068359\" xlink:href=\"#DejaVuSans-111\"/>\n     <use x=\"747.25\" xlink:href=\"#DejaVuSans-86\"/>\n     <use x=\"807.908203\" xlink:href=\"#DejaVuSans-101\"/>\n     <use x=\"869.431641\" xlink:href=\"#DejaVuSans-44\"/>\n     <use x=\"901.21875\" xlink:href=\"#DejaVuSans-32\"/>\n     <use x=\"933.005859\" xlink:href=\"#DejaVuSans-102\"/>\n     <use x=\"968.210938\" xlink:href=\"#DejaVuSans-105\"/>\n     <use x=\"995.994141\" xlink:href=\"#DejaVuSans-110\"/>\n     <use x=\"1059.373047\" xlink:href=\"#DejaVuSans-101\"/>\n     <use x=\"1120.896484\" xlink:href=\"#DejaVuSans-45\"/>\n     <use x=\"1156.980469\" xlink:href=\"#DejaVuSans-116\"/>\n     <use x=\"1196.189453\" xlink:href=\"#DejaVuSans-117\"/>\n     <use x=\"1259.568359\" xlink:href=\"#DejaVuSans-110\"/>\n     <use x=\"1322.947266\" xlink:href=\"#DejaVuSans-105\"/>\n     <use x=\"1350.730469\" xlink:href=\"#DejaVuSans-110\"/>\n     <use x=\"1414.109375\" xlink:href=\"#DejaVuSans-103\"/>\n    </g>\n   </g>\n  </g>\n </g>\n <defs>\n  <clipPath id=\"pe7f899eb1f\">\n   <rect height=\"434.88\" width=\"507.272727\" x=\"52.079375\" y=\"70.32\"/>\n  </clipPath>\n  <clipPath id=\"p6bb411bf3b\">\n   <rect height=\"434.88\" width=\"507.272727\" x=\"660.806648\" y=\"70.32\"/>\n  </clipPath>\n </defs>\n</svg>\n",
      "image/png": "[encoded data removed]"
     },
     "metadata": {
      "needs_background": "light"
     }
    }
   ],
   "source": [
    "plot_results(general_losses, general_accuracies, models, data_sizes, min_freqs)"
   ]
  },
  {
   "cell_type": "code",
   "execution_count": 260,
   "metadata": {},
   "outputs": [
    {
     "output_type": "stream",
     "name": "stdout",
     "text": [
      "Experiment losses: \n"
     ]
    },
    {
     "output_type": "display_data",
     "data": {
      "text/plain": "min_freq                                       5         10\ndata_size model                                            \n500       Avg Model                      0.681455  0.686044\n          Avg Model, GloVe               0.684279  0.685489\n          Avg Model, GloVe, fine-tuning  0.676316  0.678411\n2000      Avg Model                      0.630152  0.634450\n          Avg Model, GloVe               0.663656  0.665842\n          Avg Model, GloVe, fine-tuning  0.612810  0.617492",
      "text/html": "<div>\n<style scoped>\n    .dataframe tbody tr th:only-of-type {\n        vertical-align: middle;\n    }\n\n    .dataframe tbody tr th {\n        vertical-align: top;\n    }\n\n    .dataframe thead th {\n        text-align: right;\n    }\n</style>\n<table border=\"1\" class=\"dataframe\">\n  <thead>\n    <tr style=\"text-align: right;\">\n      <th></th>\n      <th>min_freq</th>\n      <th>5</th>\n      <th>10</th>\n    </tr>\n    <tr>\n      <th>data_size</th>\n      <th>model</th>\n      <th></th>\n      <th></th>\n    </tr>\n  </thead>\n  <tbody>\n    <tr>\n      <th rowspan=\"3\" valign=\"top\">500</th>\n      <th>Avg Model</th>\n      <td>0.681455</td>\n      <td>0.686044</td>\n    </tr>\n    <tr>\n      <th>Avg Model, GloVe</th>\n      <td>0.684279</td>\n      <td>0.685489</td>\n    </tr>\n    <tr>\n      <th>Avg Model, GloVe, fine-tuning</th>\n      <td>0.676316</td>\n      <td>0.678411</td>\n    </tr>\n    <tr>\n      <th rowspan=\"3\" valign=\"top\">2000</th>\n      <th>Avg Model</th>\n      <td>0.630152</td>\n      <td>0.634450</td>\n    </tr>\n    <tr>\n      <th>Avg Model, GloVe</th>\n      <td>0.663656</td>\n      <td>0.665842</td>\n    </tr>\n    <tr>\n      <th>Avg Model, GloVe, fine-tuning</th>\n      <td>0.612810</td>\n      <td>0.617492</td>\n    </tr>\n  </tbody>\n</table>\n</div>"
     },
     "metadata": {}
    },
    {
     "output_type": "stream",
     "name": "stdout",
     "text": [
      "\nExperiment accuracies: \n"
     ]
    },
    {
     "output_type": "display_data",
     "data": {
      "text/plain": "min_freq                                    5      10\ndata_size model                                      \n500       Avg Model                      59.04  52.80\n          Avg Model, GloVe               58.08  57.20\n          Avg Model, GloVe, fine-tuning  64.00  63.36\n2000      Avg Model                      69.36  68.68\n          Avg Model, GloVe               65.68  65.24\n          Avg Model, GloVe, fine-tuning  72.24  72.12",
      "text/html": "<div>\n<style scoped>\n    .dataframe tbody tr th:only-of-type {\n        vertical-align: middle;\n    }\n\n    .dataframe tbody tr th {\n        vertical-align: top;\n    }\n\n    .dataframe thead th {\n        text-align: right;\n    }\n</style>\n<table border=\"1\" class=\"dataframe\">\n  <thead>\n    <tr style=\"text-align: right;\">\n      <th></th>\n      <th>min_freq</th>\n      <th>5</th>\n      <th>10</th>\n    </tr>\n    <tr>\n      <th>data_size</th>\n      <th>model</th>\n      <th></th>\n      <th></th>\n    </tr>\n  </thead>\n  <tbody>\n    <tr>\n      <th rowspan=\"3\" valign=\"top\">500</th>\n      <th>Avg Model</th>\n      <td>59.04</td>\n      <td>52.80</td>\n    </tr>\n    <tr>\n      <th>Avg Model, GloVe</th>\n      <td>58.08</td>\n      <td>57.20</td>\n    </tr>\n    <tr>\n      <th>Avg Model, GloVe, fine-tuning</th>\n      <td>64.00</td>\n      <td>63.36</td>\n    </tr>\n    <tr>\n      <th rowspan=\"3\" valign=\"top\">2000</th>\n      <th>Avg Model</th>\n      <td>69.36</td>\n      <td>68.68</td>\n    </tr>\n    <tr>\n      <th>Avg Model, GloVe</th>\n      <td>65.68</td>\n      <td>65.24</td>\n    </tr>\n    <tr>\n      <th>Avg Model, GloVe, fine-tuning</th>\n      <td>72.24</td>\n      <td>72.12</td>\n    </tr>\n  </tbody>\n</table>\n</div>"
     },
     "metadata": {}
    }
   ],
   "source": [
    "show_results(general_losses, general_accuracies, models, data_sizes, min_freqs)"
   ]
  },
  {
   "cell_type": "markdown",
   "metadata": {},
   "source": [
    "### LSTM Cells in pytorch"
   ]
  },
  {
   "cell_type": "code",
   "execution_count": 61,
   "metadata": {},
   "outputs": [
    {
     "output_type": "stream",
     "name": "stdout",
     "text": [
      "tensor([[[-0.4141, -0.0569,  0.2685]],\n\n        [[-0.0545, -0.2832,  0.2138]],\n\n        [[ 0.0579, -0.5573,  0.1889]],\n\n        [[ 0.1495, -0.5170,  0.1509]],\n\n        [[ 0.3402, -0.0640,  0.1626]]], grad_fn=<StackBackward>)\n(tensor([[[ 0.3402, -0.0640,  0.1626]]], grad_fn=<StackBackward>), tensor([[[ 0.5821, -0.2190,  0.4957]]], grad_fn=<StackBackward>))\n"
     ]
    }
   ],
   "source": [
    "# Create a toy example of LSTM: \n",
    "lstm = nn.LSTM(3, 3)  # Input dim is 3, output dim is 3\n",
    "inputs = [torch.randn(1, 3) for _ in range(5)]  # make a sequence of length 5\n",
    "\n",
    "# LSTMs expect inputs having 3 dimensions:\n",
    "# - The first dimension is the temporal dimension, along which we (in our case) have the different words\n",
    "# - The second dimension is the batch dimension, along which we stack the independant batches\n",
    "# - The third dimension is the feature dimension, along which are the features of the vector representing the words\n",
    "\n",
    "# In our toy case, we have inputs and outputs containing 3 features (third dimension !)\n",
    "# We created a sequence of 5 different inputs (first dimension !)\n",
    "# We don't use batch (the second dimension will have one lement)\n",
    "\n",
    "# We need an initial hidden state, of the right sizes for dimension 2/3, but with only one temporal element:\n",
    "# Here, it is:\n",
    "hidden = (torch.randn(1, 1, 3),\n",
    "          torch.randn(1, 1, 3))\n",
    "# Why do we create a tuple of two tensors ? Because we use LSTMs: remember that they use two sets of weights,\n",
    "# and two hidden states (Hidden state, and Cell state).\n",
    "# If you don't remember, read: https://colah.github.io/posts/2015-08-Understanding-LSTMs/\n",
    "# If we used a classic RNN, we would simply have:\n",
    "# hidden = torch.randn(1, 1, 3)\n",
    "\n",
    "# The naive way of applying a lstm to inputs is to apply it one step at a time, and loop through the sequence\n",
    "for i in inputs:\n",
    "    # After each step, hidden contains the hidden states (remember, it's a tuple of two states).\n",
    "    out, hidden = lstm(i.view(1, 1, -1), hidden)\n",
    "    \n",
    "# Alternatively, we can do the entire sequence all at once.\n",
    "# The first value returned by LSTM is all of the Hidden states throughout the sequence.\n",
    "# The second is just the most recent Hidden state and Cell state (you can compare the values)\n",
    "# The reason for this is that:\n",
    "# \"out\" will give you access to all hidden states in the sequence, for each temporal step\n",
    "# \"hidden\" will allow you to continue the sequence and backpropagate later, with another sequence\n",
    "inputs = torch.cat(inputs).view(len(inputs), 1, -1)\n",
    "hidden = (torch.randn(1, 1, 3), torch.randn(1, 1, 3))  # Re-initialize\n",
    "out, hidden = lstm(inputs, hidden)\n",
    "print(out)\n",
    "print(hidden)"
   ]
  },
  {
   "cell_type": "markdown",
   "metadata": {},
   "source": [
    "### Creating our own LSTM Model\n",
    "\n",
    "We'll implement now a LSTM model, taking the same inputs and also outputing a score for the sentence."
   ]
  },
  {
   "cell_type": "code",
   "execution_count": 38,
   "metadata": {},
   "outputs": [],
   "source": [
    "class LSTMModel(nn.Module):\n",
    "    def __init__(self, embedding_dim, hidden_dim, vocabulary_size=None, embeddings=None, fine_tune=False):\n",
    "        super().__init__()\n",
    "\n",
    "        if embeddings is not None:\n",
    "            embeddings = torch.from_numpy(embeddings).float()\n",
    "            self.embeddings = nn.Embedding.from_pretrained(embeddings, freeze=not fine_tune, padding_idx=0)\n",
    "        else:\n",
    "            self.embeddings = nn.Embedding(vocabulary_size + 1, embedding_dim, padding_idx=0)\n",
    "        \n",
    "        self.hidden_dim = hidden_dim\n",
    "        self.lstm = nn.LSTM(embedding_dim, hidden_dim, batch_first=True)\n",
    "\n",
    "        self.linear = nn.Linear(hidden_dim, 1)\n",
    "        \n",
    "    def forward(self, inputs):\n",
    "        x = self.embeddings(inputs)\n",
    "\n",
    "        hidden = (torch.randn(1, x.shape[0], self.hidden_dim), \n",
    "                    torch.randn(1, x.shape[0], self.hidden_dim))\n",
    "        _, hidden = self.lstm(x, hidden)\n",
    "        \n",
    "        o = self.linear(hidden[0]).squeeze()\n",
    "        return o"
   ]
  },
  {
   "source": [
    "### LSTM Model "
   ],
   "cell_type": "markdown",
   "metadata": {}
  },
  {
   "cell_type": "code",
   "execution_count": 36,
   "metadata": {},
   "outputs": [
    {
     "output_type": "stream",
     "name": "stdout",
     "text": [
      "Beginning training...\n",
      "Epoch 1:\n",
      "Batch 0 : training loss = 0.6939570903778076; training acc = 49.0\n",
      "Batch 20 : training loss = 0.7137707471847534; training acc = 44.5\n",
      "Batch 40 : training loss = 0.6855478882789612; training acc = 55.5\n",
      "Batch 60 : training loss = 0.6762130260467529; training acc = 58.5\n",
      "Batch 80 : training loss = 0.662779688835144; training acc = 60.0\n",
      "Epoch 1 : Validation loss = 0.6663841712474823; Validation acc = 61.2\n",
      "Epoch 2:\n",
      "Batch 0 : training loss = 0.6519474983215332; training acc = 64.5\n",
      "Batch 20 : training loss = 0.6598218679428101; training acc = 60.5\n",
      "Batch 40 : training loss = 0.564299464225769; training acc = 75.0\n",
      "Batch 60 : training loss = 0.5641116499900818; training acc = 73.0\n",
      "Batch 80 : training loss = 0.5281068682670593; training acc = 77.0\n",
      "Epoch 2 : Validation loss = 0.5729843091964721; Validation acc = 73.12\n",
      "Epoch 3:\n",
      "Batch 0 : training loss = 0.5296230912208557; training acc = 77.0\n",
      "Batch 20 : training loss = 0.4381787180900574; training acc = 82.0\n",
      "Batch 40 : training loss = 0.6047791242599487; training acc = 66.5\n",
      "Batch 60 : training loss = 0.549811840057373; training acc = 73.5\n",
      "Batch 80 : training loss = 0.42454993724823; training acc = 82.0\n",
      "Epoch 3 : Validation loss = 0.5926646810770034; Validation acc = 70.44\n",
      "Early stopping.\n",
      "Epoch 3 : Test loss = 0.6184750643372535; Test acc = 68.64\n"
     ]
    }
   ],
   "source": [
    "model = LSTMModel(300, 120, len(training_word2idx))\n",
    "opt = optim.Adam(model.parameters(), lr=0.0025, betas=(0.9, 0.999))\n",
    "criterion = nn.BCEWithLogitsLoss()\n",
    "\n",
    "train_losses = experiment(model, opt, criterion)"
   ]
  },
  {
   "source": [
    "### LSTM Model, GloVe"
   ],
   "cell_type": "markdown",
   "metadata": {}
  },
  {
   "source": [
    "model = LSTMModel(300, 120, embeddings=GloveEmbeddings)\n",
    "opt = optim.Adam(model.parameters(), lr=0.0025, betas=(0.9, 0.999))\n",
    "criterion = nn.BCEWithLogitsLoss()\n",
    "\n",
    "train_losses = experiment(model, opt, criterion)"
   ],
   "cell_type": "code",
   "metadata": {},
   "execution_count": 39,
   "outputs": [
    {
     "output_type": "stream",
     "name": "stdout",
     "text": [
      "Beginning training...\n",
      "Epoch 1:\n",
      "Batch 0 : training loss = 0.6927850842475891; training acc = 52.5\n",
      "Batch 20 : training loss = 0.6840997934341431; training acc = 54.0\n",
      "Batch 40 : training loss = 0.6821681261062622; training acc = 53.0\n",
      "Batch 60 : training loss = 0.6665684580802917; training acc = 61.0\n",
      "Batch 80 : training loss = 0.650900661945343; training acc = 63.5\n",
      "Epoch 1 : Validation loss = 0.6946702498197556; Validation acc = 50.36\n",
      "Epoch 2:\n",
      "Batch 0 : training loss = 0.7046396136283875; training acc = 47.0\n",
      "Batch 20 : training loss = 0.6870927214622498; training acc = 56.5\n",
      "Batch 40 : training loss = 0.6624714732170105; training acc = 62.5\n",
      "Batch 60 : training loss = 0.6889311075210571; training acc = 52.5\n",
      "Batch 80 : training loss = 0.6984713077545166; training acc = 53.5\n",
      "Epoch 2 : Validation loss = 0.62792209982872; Validation acc = 70.04\n",
      "Epoch 3:\n",
      "Batch 0 : training loss = 0.6273468136787415; training acc = 67.0\n",
      "Batch 20 : training loss = 0.7941167950630188; training acc = 52.0\n",
      "Batch 40 : training loss = 0.5580573678016663; training acc = 74.5\n",
      "Batch 60 : training loss = 0.5326690077781677; training acc = 76.5\n",
      "Batch 80 : training loss = 0.5044174790382385; training acc = 74.5\n",
      "Epoch 3 : Validation loss = 0.49519710183143617; Validation acc = 77.48\n",
      "Epoch 4:\n",
      "Batch 0 : training loss = 0.5063199400901794; training acc = 77.0\n",
      "Batch 20 : training loss = 0.45883843302726746; training acc = 81.0\n",
      "Batch 40 : training loss = 0.46916183829307556; training acc = 79.0\n",
      "Batch 60 : training loss = 0.5221928358078003; training acc = 74.5\n",
      "Batch 80 : training loss = 0.452782541513443; training acc = 78.0\n",
      "Epoch 4 : Validation loss = 0.44422841861844065; Validation acc = 79.72\n",
      "Epoch 5:\n",
      "Batch 0 : training loss = 0.4257456064224243; training acc = 80.5\n",
      "Batch 20 : training loss = 0.4439173936843872; training acc = 79.5\n",
      "Batch 40 : training loss = 0.43520161509513855; training acc = 81.0\n",
      "Batch 60 : training loss = 0.4365708827972412; training acc = 83.0\n",
      "Batch 80 : training loss = 0.4529421329498291; training acc = 78.5\n",
      "Epoch 5 : Validation loss = 0.43014678955078123; Validation acc = 80.52\n",
      "Epoch 5 : Test loss = 0.4625995922088623; Test acc = 78.44\n"
     ]
    }
   ]
  },
  {
   "source": [
    "### LSTM Model, GloVe, fine-tuning"
   ],
   "cell_type": "markdown",
   "metadata": {}
  },
  {
   "cell_type": "code",
   "execution_count": 40,
   "metadata": {},
   "outputs": [
    {
     "output_type": "stream",
     "name": "stdout",
     "text": [
      "Beginning training...\n",
      "Epoch 1:\n",
      "Batch 0 : training loss = 0.6930959820747375; training acc = 51.5\n",
      "Batch 20 : training loss = 0.7925753593444824; training acc = 50.0\n",
      "Batch 40 : training loss = 0.6809572577476501; training acc = 56.5\n",
      "Batch 60 : training loss = 0.697176992893219; training acc = 44.5\n",
      "Batch 80 : training loss = 0.6659809947013855; training acc = 61.5\n",
      "Epoch 1 : Validation loss = 0.6171653798222542; Validation acc = 68.44\n",
      "Epoch 2:\n",
      "Batch 0 : training loss = 0.6200686097145081; training acc = 66.5\n",
      "Batch 20 : training loss = 0.6218557953834534; training acc = 68.0\n",
      "Batch 40 : training loss = 0.4910552203655243; training acc = 81.0\n",
      "Batch 60 : training loss = 0.5276075601577759; training acc = 76.0\n",
      "Batch 80 : training loss = 0.5094573497772217; training acc = 78.0\n",
      "Epoch 2 : Validation loss = 0.5189770612120629; Validation acc = 77.48\n",
      "Epoch 3:\n",
      "Batch 0 : training loss = 0.4729062020778656; training acc = 83.0\n",
      "Batch 20 : training loss = 0.43977469205856323; training acc = 81.5\n",
      "Batch 40 : training loss = 0.44154244661331177; training acc = 82.0\n",
      "Batch 60 : training loss = 0.43971362709999084; training acc = 79.0\n",
      "Batch 80 : training loss = 0.3756513297557831; training acc = 85.0\n",
      "Epoch 3 : Validation loss = 0.42839773431420325; Validation acc = 81.52\n",
      "Epoch 4:\n",
      "Batch 0 : training loss = 0.2861682176589966; training acc = 91.0\n",
      "Batch 20 : training loss = 0.22600527107715607; training acc = 92.0\n",
      "Batch 40 : training loss = 0.27284786105155945; training acc = 90.0\n",
      "Batch 60 : training loss = 0.29172664880752563; training acc = 91.0\n",
      "Batch 80 : training loss = 0.21600812673568726; training acc = 92.5\n",
      "Epoch 4 : Validation loss = 0.4764236162602902; Validation acc = 81.92\n",
      "Early stopping.\n",
      "Epoch 4 : Test loss = 0.5042733584344387; Test acc = 80.68\n"
     ]
    }
   ],
   "source": [
    "model = LSTMModel(300, 120, embeddings=GloveEmbeddings, fine_tune=True)\n",
    "opt = optim.Adam(model.parameters(), lr=0.0025, betas=(0.9, 0.999))\n",
    "criterion = nn.BCEWithLogitsLoss()\n",
    "\n",
    "train_losses = experiment(model, opt, criterion)"
   ]
  },
  {
   "cell_type": "markdown",
   "metadata": {},
   "source": [
    "### And with a CNN ? "
   ]
  },
  {
   "cell_type": "code",
   "execution_count": 42,
   "metadata": {},
   "outputs": [],
   "source": [
    "class CNNModel(nn.Module):\n",
    "    def __init__(self, embedding_dim, vocabulary_size=None, embeddings=None, window_size: int = 16, filter_multiplier=64, fine_tune=False):\n",
    "        super().__init__()\n",
    "        if embeddings is not None:\n",
    "            embeddings = torch.from_numpy(embeddings).float()\n",
    "            self.embeddings = nn.Embedding.from_pretrained(embeddings, freeze=not fine_tune, padding_idx=0)\n",
    "        else:\n",
    "            self.embeddings = nn.Embedding(vocabulary_size + 1, embedding_dim, padding_idx=0)\n",
    "        \n",
    "        self.conv = nn.Conv1d(embedding_dim, filter_multiplier, window_size)\n",
    "        self.maxpool = nn.MaxPool1d(2)\n",
    "\n",
    "        self.linear = nn.Linear(filter_multiplier, 1)\n",
    "\n",
    "    def forward(self, inputs): \n",
    "        # A compléter\n",
    "        x = self.embeddings(inputs)\n",
    "        \n",
    "        x = self.conv(x.view(-1, x.shape[2], x.shape[1]))\n",
    "        x = torch.relu(x)\n",
    "        x = self.maxpool(x)\n",
    "        \n",
    "        x = x.mean(dim=2)\n",
    "        o = self.linear(x).squeeze()\n",
    "        return o"
   ]
  },
  {
   "source": [
    "### CNN model"
   ],
   "cell_type": "markdown",
   "metadata": {}
  },
  {
   "cell_type": "code",
   "execution_count": 43,
   "metadata": {},
   "outputs": [
    {
     "output_type": "stream",
     "name": "stdout",
     "text": [
      "Beginning training...\n",
      "Epoch 1:\n",
      "Batch 0 : training loss = 0.699145495891571; training acc = 55.0\n",
      "Batch 20 : training loss = 0.685066282749176; training acc = 59.0\n",
      "Batch 40 : training loss = 0.7025337219238281; training acc = 53.5\n",
      "Batch 60 : training loss = 0.6548454761505127; training acc = 61.5\n",
      "Batch 80 : training loss = 0.5537539124488831; training acc = 72.0\n",
      "Epoch 1 : Validation loss = 0.5271767824888229; Validation acc = 73.12\n",
      "Epoch 2:\n",
      "Batch 0 : training loss = 0.40031737089157104; training acc = 82.0\n",
      "Batch 20 : training loss = 0.3904763460159302; training acc = 83.0\n",
      "Batch 40 : training loss = 0.4282743036746979; training acc = 79.0\n",
      "Batch 60 : training loss = 0.3600199520587921; training acc = 84.5\n",
      "Batch 80 : training loss = 0.3505382835865021; training acc = 85.0\n",
      "Epoch 2 : Validation loss = 0.4319697996973991; Validation acc = 80.12\n",
      "Epoch 3:\n",
      "Batch 0 : training loss = 0.16904938220977783; training acc = 95.0\n",
      "Batch 20 : training loss = 0.1890677958726883; training acc = 92.5\n",
      "Batch 40 : training loss = 0.19992651045322418; training acc = 92.5\n",
      "Batch 60 : training loss = 0.10427496582269669; training acc = 96.0\n",
      "Batch 80 : training loss = 0.18614913523197174; training acc = 91.5\n",
      "Epoch 3 : Validation loss = 0.4818576253950596; Validation acc = 81.08\n",
      "Early stopping.\n",
      "Epoch 3 : Test loss = 0.5078555257618427; Test acc = 81.52\n"
     ]
    }
   ],
   "source": [
    "model = CNNModel(300, len(training_word2idx))\n",
    "opt = optim.Adam(model.parameters(), lr=0.0025, betas=(0.9, 0.999))\n",
    "criterion = nn.BCEWithLogitsLoss()\n",
    "\n",
    "train_losses = experiment(model, opt, criterion)"
   ]
  },
  {
   "source": [
    "### CNN model, GloVe"
   ],
   "cell_type": "markdown",
   "metadata": {}
  },
  {
   "cell_type": "code",
   "execution_count": 44,
   "metadata": {},
   "outputs": [
    {
     "output_type": "stream",
     "name": "stdout",
     "text": [
      "Beginning training...\n",
      "Epoch 1:\n",
      "Batch 0 : training loss = 0.6916670203208923; training acc = 55.0\n",
      "Batch 20 : training loss = 0.6705714464187622; training acc = 60.0\n",
      "Batch 40 : training loss = 0.6558331847190857; training acc = 60.5\n",
      "Batch 60 : training loss = 0.6543658375740051; training acc = 63.0\n",
      "Batch 80 : training loss = 0.6277037262916565; training acc = 62.0\n",
      "Epoch 1 : Validation loss = 0.6164501470327377; Validation acc = 66.28\n",
      "Epoch 2:\n",
      "Batch 0 : training loss = 0.5852887034416199; training acc = 71.5\n",
      "Batch 20 : training loss = 0.5304612517356873; training acc = 76.0\n",
      "Batch 40 : training loss = 0.541699230670929; training acc = 78.0\n",
      "Batch 60 : training loss = 0.6163949370384216; training acc = 65.5\n",
      "Batch 80 : training loss = 0.5640901327133179; training acc = 73.0\n",
      "Epoch 2 : Validation loss = 0.5752090427279473; Validation acc = 70.92\n",
      "Epoch 3:\n",
      "Batch 0 : training loss = 0.528026819229126; training acc = 76.0\n",
      "Batch 20 : training loss = 0.5384860038757324; training acc = 75.5\n",
      "Batch 40 : training loss = 0.5122826099395752; training acc = 75.0\n",
      "Batch 60 : training loss = 0.49003422260284424; training acc = 78.5\n",
      "Batch 80 : training loss = 0.4619852900505066; training acc = 81.5\n",
      "Epoch 3 : Validation loss = 0.5951833924651146; Validation acc = 69.24\n",
      "Early stopping.\n",
      "Epoch 3 : Test loss = 0.6024148389697075; Test acc = 67.72\n"
     ]
    }
   ],
   "source": [
    "model = CNNModel(300, embeddings=GloveEmbeddings)\n",
    "opt = optim.Adam(model.parameters(), lr=0.0025, betas=(0.9, 0.999))\n",
    "criterion = nn.BCEWithLogitsLoss()\n",
    "\n",
    "train_losses = experiment(model, opt, criterion)"
   ]
  },
  {
   "source": [
    "### CNN model, GloVe, fine-tuning"
   ],
   "cell_type": "markdown",
   "metadata": {}
  },
  {
   "cell_type": "code",
   "execution_count": 45,
   "metadata": {},
   "outputs": [
    {
     "output_type": "stream",
     "name": "stdout",
     "text": [
      "Beginning training...\n",
      "Epoch 1:\n",
      "Batch 0 : training loss = 0.6950057744979858; training acc = 46.5\n",
      "Batch 20 : training loss = 0.6786495447158813; training acc = 54.5\n",
      "Batch 40 : training loss = 0.6263040900230408; training acc = 65.0\n",
      "Batch 60 : training loss = 0.4961734712123871; training acc = 76.5\n",
      "Batch 80 : training loss = 0.4912112355232239; training acc = 79.5\n",
      "Epoch 1 : Validation loss = 0.3975672464072704; Validation acc = 82.32\n",
      "Epoch 2:\n",
      "Batch 0 : training loss = 0.3338795006275177; training acc = 85.5\n",
      "Batch 20 : training loss = 0.18645961582660675; training acc = 93.5\n",
      "Batch 40 : training loss = 0.21693386137485504; training acc = 91.0\n",
      "Batch 60 : training loss = 0.25664079189300537; training acc = 90.0\n",
      "Batch 80 : training loss = 0.30899256467819214; training acc = 89.0\n",
      "Epoch 2 : Validation loss = 0.39294380724430084; Validation acc = 83.04\n",
      "Epoch 3:\n",
      "Batch 0 : training loss = 0.09292587637901306; training acc = 98.0\n",
      "Batch 20 : training loss = 0.06562227010726929; training acc = 99.0\n",
      "Batch 40 : training loss = 0.06288465857505798; training acc = 99.5\n",
      "Batch 60 : training loss = 0.06971471011638641; training acc = 97.0\n",
      "Batch 80 : training loss = 0.1211295872926712; training acc = 96.0\n",
      "Epoch 3 : Validation loss = 0.534593867585063; Validation acc = 82.48\n",
      "Early stopping.\n",
      "Epoch 3 : Test loss = 0.5849114674329757; Test acc = 81.48\n"
     ]
    }
   ],
   "source": [
    "model = CNNModel(300, embeddings=GloveEmbeddings, fine_tune=True)\n",
    "opt = optim.Adam(model.parameters(), lr=0.0025, betas=(0.9, 0.999))\n",
    "criterion = nn.BCEWithLogitsLoss()\n",
    "\n",
    "train_losses = experiment(model, opt, criterion)"
   ]
  },
  {
   "cell_type": "markdown",
   "metadata": {},
   "source": [
    "### Questions: \n",
    "- What do you see with a simple application of LSTMs and CNNs models ? \n",
    "- Similarly, make hypothesis based on your intuition and the class on how\n",
    "    - the number of documents \n",
    "    - the size of the vocabulary \n",
    "  will impact results, in the three cases (No pre-training, pre-training without fine-tuning, pretraining with fine-tuning) for the LSTM **or** CNN (and the CNN should be quite faster !) and verify your hypothesis with experiments and analyze your results !\n",
    "- Present your results in a clear and synthetic way (table, figures) and be careful to experimental methodology. Notably, you should fix hyperparameters before making comparisons (you should use maximum length of sentences and batch sizes to accelerate training - similarly, using a SGD optimizer will be faster than Adam) ! "
   ]
  }
 ],
 "metadata": {
  "kernelspec": {
   "name": "python3",
   "display_name": "Python 3.8.5 64-bit",
   "metadata": {
    "interpreter": {
     "hash": "31f2aee4e71d21fbe5cf8b01ff0e069b9275f58929596ceb00d14d90e3e16cd6"
    }
   }
  },
  "language_info": {
   "codemirror_mode": {
    "name": "ipython",
    "version": 3
   },
   "file_extension": ".py",
   "mimetype": "text/x-python",
   "name": "python",
   "nbconvert_exporter": "python",
   "pygments_lexer": "ipython3",
   "version": "3.8.5-final"
  }
 },
 "nbformat": 4,
 "nbformat_minor": 2
}